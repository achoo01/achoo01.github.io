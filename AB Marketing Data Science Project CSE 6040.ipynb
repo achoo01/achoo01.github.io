{
 "cells": [
  {
   "cell_type": "code",
   "execution_count": 1,
   "id": "c38ce966",
   "metadata": {},
   "outputs": [],
   "source": [
    "# import packages\n",
    "import numpy as np\n",
    "import pandas as pd\n",
    "import matplotlib.pyplot as plt\n",
    "import seaborn as sns"
   ]
  },
  {
   "cell_type": "code",
   "execution_count": 8,
   "id": "c1908f82",
   "metadata": {},
   "outputs": [
    {
     "data": {
      "text/html": [
       "<div>\n",
       "<style scoped>\n",
       "    .dataframe tbody tr th:only-of-type {\n",
       "        vertical-align: middle;\n",
       "    }\n",
       "\n",
       "    .dataframe tbody tr th {\n",
       "        vertical-align: top;\n",
       "    }\n",
       "\n",
       "    .dataframe thead th {\n",
       "        text-align: right;\n",
       "    }\n",
       "</style>\n",
       "<table border=\"1\" class=\"dataframe\">\n",
       "  <thead>\n",
       "    <tr style=\"text-align: right;\">\n",
       "      <th></th>\n",
       "      <th>Unnamed: 0</th>\n",
       "      <th>user id</th>\n",
       "      <th>test group</th>\n",
       "      <th>converted</th>\n",
       "      <th>total ads</th>\n",
       "      <th>most ads day</th>\n",
       "      <th>most ads hour</th>\n",
       "    </tr>\n",
       "  </thead>\n",
       "  <tbody>\n",
       "    <tr>\n",
       "      <th>0</th>\n",
       "      <td>0</td>\n",
       "      <td>1069124</td>\n",
       "      <td>ad</td>\n",
       "      <td>False</td>\n",
       "      <td>130</td>\n",
       "      <td>Monday</td>\n",
       "      <td>20</td>\n",
       "    </tr>\n",
       "    <tr>\n",
       "      <th>1</th>\n",
       "      <td>1</td>\n",
       "      <td>1119715</td>\n",
       "      <td>ad</td>\n",
       "      <td>False</td>\n",
       "      <td>93</td>\n",
       "      <td>Tuesday</td>\n",
       "      <td>22</td>\n",
       "    </tr>\n",
       "    <tr>\n",
       "      <th>2</th>\n",
       "      <td>2</td>\n",
       "      <td>1144181</td>\n",
       "      <td>ad</td>\n",
       "      <td>False</td>\n",
       "      <td>21</td>\n",
       "      <td>Tuesday</td>\n",
       "      <td>18</td>\n",
       "    </tr>\n",
       "    <tr>\n",
       "      <th>3</th>\n",
       "      <td>3</td>\n",
       "      <td>1435133</td>\n",
       "      <td>ad</td>\n",
       "      <td>False</td>\n",
       "      <td>355</td>\n",
       "      <td>Tuesday</td>\n",
       "      <td>10</td>\n",
       "    </tr>\n",
       "    <tr>\n",
       "      <th>4</th>\n",
       "      <td>4</td>\n",
       "      <td>1015700</td>\n",
       "      <td>ad</td>\n",
       "      <td>False</td>\n",
       "      <td>276</td>\n",
       "      <td>Friday</td>\n",
       "      <td>14</td>\n",
       "    </tr>\n",
       "  </tbody>\n",
       "</table>\n",
       "</div>"
      ],
      "text/plain": [
       "   Unnamed: 0  user id test group  converted  total ads most ads day  \\\n",
       "0           0  1069124         ad      False        130       Monday   \n",
       "1           1  1119715         ad      False         93      Tuesday   \n",
       "2           2  1144181         ad      False         21      Tuesday   \n",
       "3           3  1435133         ad      False        355      Tuesday   \n",
       "4           4  1015700         ad      False        276       Friday   \n",
       "\n",
       "   most ads hour  \n",
       "0             20  \n",
       "1             22  \n",
       "2             18  \n",
       "3             10  \n",
       "4             14  "
      ]
     },
     "execution_count": 8,
     "metadata": {},
     "output_type": "execute_result"
    }
   ],
   "source": [
    "# load dataset\n",
    "mkt = pd.read_csv('marketing_AB.csv')\n",
    "mkt.head()"
   ]
  },
  {
   "cell_type": "markdown",
   "id": "6df75bce",
   "metadata": {},
   "source": [
    "## Introduction\n",
    "The Marketing dataset I used here is obtained from Kaggle (https://www.kaggle.com/datasets/faviovaz/marketing-ab-testing/). \n",
    "\n",
    "Here are the list of variables:\n",
    "- User ID: represents a member of the two testing groups\n",
    "- Test Group: \"ad\" test group for people that saw the advertisement and \"psa\" test group for people that only saw the public service announcement\n",
    "- Converted: \"true\" if the member bought the product and \"false\" if not\n",
    "- Total Ads: # of ads seen by the member\n",
    "- Most Ads Day: day that the member saw the largest # of ads\n",
    "- Most Ads Hour: hour of the day that the member saw the largest # of ads\n",
    "\n",
    "The first part of this project is data cleaning. To do this, I dropped rows with NA values and delted the indexing column that came with the dataset."
   ]
  },
  {
   "cell_type": "code",
   "execution_count": 9,
   "id": "d635735d",
   "metadata": {},
   "outputs": [
    {
     "name": "stdout",
     "output_type": "stream",
     "text": [
      "Unique values of the \"test group\" column: ['ad' 'psa']\n"
     ]
    },
    {
     "data": {
      "text/plain": [
       "(588101, 6)"
      ]
     },
     "execution_count": 9,
     "metadata": {},
     "output_type": "execute_result"
    }
   ],
   "source": [
    "# data cleanup\n",
    "print('Unique values of the \"test group\" column:', mkt['test group'].unique())\n",
    "\n",
    "del mkt['Unnamed: 0']\n",
    "\n",
    "mkt.shape"
   ]
  },
  {
   "cell_type": "code",
   "execution_count": 10,
   "id": "1cba3c83",
   "metadata": {},
   "outputs": [
    {
     "data": {
      "text/plain": [
       "(588101, 6)"
      ]
     },
     "execution_count": 10,
     "metadata": {},
     "output_type": "execute_result"
    }
   ],
   "source": [
    "# data cleanup\n",
    "\n",
    "mkt = mkt.dropna()\n",
    "mkt.shape"
   ]
  },
  {
   "cell_type": "markdown",
   "id": "0ab745bc",
   "metadata": {},
   "source": [
    "Next, I visualized different aspects of the dataset. The first visualization is a bar graph that plots the amount of ad occurrences by day of the week and testing group. The bar graph makes it obvious that there were a lot more ad occurrences for the \"ad\" test group than the \"psa\" group. The bar graph also shows that the ad occurrences don't vary much by the day of the week. Regardless, the lowest ad occurrences for the \"ad\" group happened on Tuesday, while the highest occurred on Friday."
   ]
  },
  {
   "cell_type": "code",
   "execution_count": 23,
   "id": "6b5b5abf",
   "metadata": {},
   "outputs": [
    {
     "data": {
      "image/png": "[encoded data removed]",
      "text/plain": [
       "<Figure size 720x432 with 1 Axes>"
      ]
     },
     "metadata": {
      "needs_background": "light"
     },
     "output_type": "display_data"
    }
   ],
   "source": [
    "## visualize ad occurrences by day of the week with a bar graph\n",
    "\n",
    "# count the occurrences\n",
    "day_count = mkt.groupby(['most ads day', 'test group']).size().unstack(fill_value=0)\n",
    "\n",
    "# create bar graph\n",
    "day_count.plot(kind='bar', stacked=False, figsize=(10,6))\n",
    "plt.xlabel('Day of the Week')\n",
    "plt.ylabel('Count')\n",
    "plt.title('Ad Occurrences by Day')\n",
    "plt.xticks(rotation=360)\n",
    "plt.legend(title='Test Group')\n",
    "plt.show()"
   ]
  },
  {
   "cell_type": "markdown",
   "id": "73104b59",
   "metadata": {},
   "source": [
    "The second visualization is another bar graph but this time it is comparing the conversion rate by the test group. It is apparent that the \"ad\" group converted more members into product purchases than the \"psa\" group."
   ]
  },
  {
   "cell_type": "code",
   "execution_count": 25,
   "id": "769f859f",
   "metadata": {},
   "outputs": [
    {
     "data": {
      "image/png": "[encoded data removed]",
      "text/plain": [
       "<Figure size 432x288 with 1 Axes>"
      ]
     },
     "metadata": {
      "needs_background": "light"
     },
     "output_type": "display_data"
    }
   ],
   "source": [
    "# visualize conversion rate by test group bar graph\n",
    "conversion_by_group = mkt.groupby('test group')['converted'].mean().reset_index()\n",
    "sns.barplot(x='test group', y='converted', data=conversion_by_group)\n",
    "plt.xlabel('Test Group')\n",
    "plt.ylabel('Conversion Rate')\n",
    "plt.title('Conversion Rate by Test Group')\n",
    "plt.show()\n"
   ]
  },
  {
   "cell_type": "markdown",
   "id": "f96e3278",
   "metadata": {},
   "source": [
    "The last visualization that I did involved a histogram of the total number of ads seen. It results in a right-skewed histogram."
   ]
  },
  {
   "cell_type": "code",
   "execution_count": 26,
   "id": "343c7d57",
   "metadata": {},
   "outputs": [
    {
     "data": {
      "image/png": "[encoded data removed]",
      "text/plain": [
       "<Figure size 432x288 with 1 Axes>"
      ]
     },
     "metadata": {
      "needs_background": "light"
     },
     "output_type": "display_data"
    }
   ],
   "source": [
    "# histogram of total ads seen\n",
    "sns.histplot(mkt['total ads'], bins=20, kde=True)\n",
    "plt.xlabel('Total Ads Seen')\n",
    "plt.ylabel('Frequency')\n",
    "plt.title('Distribution of Total Ads Seen')\n",
    "plt.show()"
   ]
  },
  {
   "cell_type": "markdown",
   "id": "35eaf1af",
   "metadata": {},
   "source": [
    "## A/B Testing\n",
    "I conducted A/B testing with both a chi-squared test and a t-test. As you can see below, the p-value ended up far below 0.05 for both tests. This indicates that there is a significant difference in the conversion rate between the two testing groups."
   ]
  },
  {
   "cell_type": "code",
   "execution_count": 27,
   "id": "5d73f7e6",
   "metadata": {},
   "outputs": [
    {
     "name": "stdout",
     "output_type": "stream",
     "text": [
      "Chi-Squared Statistic: 54.005823883685245\n",
      "P-value: 1.9989623063390075e-13\n"
     ]
    }
   ],
   "source": [
    "## A/B testing with chi squared test\n",
    "from scipy.stats import chi2_contingency\n",
    "\n",
    "conversion_counts = mkt.groupby('test group')['converted'].value_counts().unstack(fill_value=0)\n",
    "\n",
    "chi2, p, dof, expected = chi2_contingency(conversion_counts)\n",
    "\n",
    "print(f\"Chi-Squared Statistic: {chi2}\")\n",
    "print(f\"P-value: {p}\")\n",
    "\n",
    "# null hypothesis is that there's no difference in conversion rate between the two test groups\n",
    "# if p < 0.05, then reject null >> significant difference in conversion rates\n",
    "\n",
    "# here we can see that p <<< 0.05 so there is a significant difference in conversion rate"
   ]
  },
  {
   "cell_type": "code",
   "execution_count": 28,
   "id": "53a14c3e",
   "metadata": {},
   "outputs": [
    {
     "name": "stdout",
     "output_type": "stream",
     "text": [
      "T-Statistic: 8.657162314551679\n",
      "P-value: 5.107607598758945e-18\n"
     ]
    }
   ],
   "source": [
    "## A/B testing with t-test\n",
    "from scipy.stats import ttest_ind\n",
    "\n",
    "group_ad = mkt[mkt['test group'] == 'ad']['converted']\n",
    "group_psa = mkt[mkt['test group'] == 'psa']['converted']\n",
    "\n",
    "t_statistic, p_value = ttest_ind(group_ad, group_psa, equal_var=False)\n",
    "\n",
    "print(f\"T-Statistic: {t_statistic}\")\n",
    "print(f\"P-value: {p_value}\")\n",
    "\n",
    "# here we can see that p <<< 0.05 so there is a significant difference in conversion rate"
   ]
  },
  {
   "cell_type": "markdown",
   "id": "3834379c",
   "metadata": {},
   "source": [
    "## Logistic Regression Model\n",
    "Lastly, I split the dataset and trained them to form the logistic regression model. The first regression model involved multiple predictive variables such as test group, total ads, most ads day, and most ads hour. It predicted the amount of conversions. "
   ]
  },
  {
   "cell_type": "code",
   "execution_count": 39,
   "id": "ae8e6447",
   "metadata": {},
   "outputs": [
    {
     "name": "stdout",
     "output_type": "stream",
     "text": [
      "Accuracy: 0.9734061094532439\n",
      "\n",
      "Classification Report:\n",
      "\n",
      "               precision    recall  f1-score   support\n",
      "\n",
      "       False       0.97      1.00      0.99    114632\n",
      "        True       0.19      0.01      0.03      2989\n",
      "\n",
      "    accuracy                           0.97    117621\n",
      "   macro avg       0.58      0.51      0.51    117621\n",
      "weighted avg       0.95      0.97      0.96    117621\n",
      "\n",
      "Coefficients: [[-0.39122249  0.01023996  0.01608931  0.03250855]]\n",
      "Intercept: [-4.57469403]\n"
     ]
    }
   ],
   "source": [
    "## logistic regression model\n",
    "from sklearn.model_selection import train_test_split\n",
    "from sklearn.linear_model import LogisticRegression\n",
    "from sklearn.preprocessing import LabelEncoder\n",
    "from sklearn.metrics import accuracy_score, classification_report, confusion_matrix\n",
    "\n",
    "\n",
    "# encode categorical variables\n",
    "label_encoder = LabelEncoder()\n",
    "mkt['test group'] = label_encoder.fit_transform(mkt['test group'])\n",
    "mkt['most ads day'] = label_encoder.fit_transform(mkt['most ads day'])\n",
    "\n",
    "# define variables\n",
    "X = mkt[['test group', 'total ads', 'most ads day', 'most ads hour']]\n",
    "y = mkt['converted']\n",
    "\n",
    "# split into train and test sets\n",
    "X_train, X_test, y_train, y_test = train_test_split(X, y, test_size=0.2, random_state=42)\n",
    "\n",
    "# logistic regression model\n",
    "model = LogisticRegression()\n",
    "model.fit(X_train, y_train)\n",
    "y_pred = model.predict(X_test)\n",
    "\n",
    "# evaluate model\n",
    "accuracy = accuracy_score(y_test, y_pred)\n",
    "print(f\"Accuracy: {accuracy}\")\n",
    "print('\\nClassification Report:\\n\\n', classification_report(y_test, y_pred))\n",
    "\n",
    "# coefficients\n",
    "coefficients = model.coef_\n",
    "intercept = model.intercept_\n",
    "print(f\"Coefficients: {coefficients}\")\n",
    "print(f\"Intercept: {intercept}\")"
   ]
  },
  {
   "cell_type": "markdown",
   "id": "c3d7dd5f",
   "metadata": {},
   "source": [
    "The second regression model had just one predictive variable, which is the testing group."
   ]
  },
  {
   "cell_type": "code",
   "execution_count": 36,
   "id": "f8bff743",
   "metadata": {},
   "outputs": [
    {
     "name": "stdout",
     "output_type": "stream",
     "text": [
      "Accuracy: 0.9745878712134738\n"
     ]
    },
    {
     "name": "stderr",
     "output_type": "stream",
     "text": [
      "C:\\Users\\Amulya Cherian\\anaconda3\\lib\\site-packages\\sklearn\\metrics\\_classification.py:1469: UndefinedMetricWarning: Precision and F-score are ill-defined and being set to 0.0 in labels with no predicted samples. Use `zero_division` parameter to control this behavior.\n",
      "  _warn_prf(average, modifier, msg_start, len(result))\n",
      "C:\\Users\\Amulya Cherian\\anaconda3\\lib\\site-packages\\sklearn\\metrics\\_classification.py:1469: UndefinedMetricWarning: Precision and F-score are ill-defined and being set to 0.0 in labels with no predicted samples. Use `zero_division` parameter to control this behavior.\n",
      "  _warn_prf(average, modifier, msg_start, len(result))\n",
      "C:\\Users\\Amulya Cherian\\anaconda3\\lib\\site-packages\\sklearn\\metrics\\_classification.py:1469: UndefinedMetricWarning: Precision and F-score are ill-defined and being set to 0.0 in labels with no predicted samples. Use `zero_division` parameter to control this behavior.\n",
      "  _warn_prf(average, modifier, msg_start, len(result))\n"
     ]
    },
    {
     "name": "stdout",
     "output_type": "stream",
     "text": [
      "\n",
      "Classification Report:\n",
      "\n",
      "               precision    recall  f1-score   support\n",
      "\n",
      "       False       0.97      1.00      0.99    114632\n",
      "        True       0.00      0.00      0.00      2989\n",
      "\n",
      "    accuracy                           0.97    117621\n",
      "   macro avg       0.49      0.50      0.49    117621\n",
      "weighted avg       0.95      0.97      0.96    117621\n",
      "\n",
      "Coefficients: [[-0.36969362]]\n",
      "Intercept: [-3.64303019]\n"
     ]
    }
   ],
   "source": [
    "## logistic regression model\n",
    "from sklearn.model_selection import train_test_split\n",
    "from sklearn.linear_model import LogisticRegression\n",
    "from sklearn.preprocessing import LabelEncoder\n",
    "from sklearn.metrics import accuracy_score, classification_report, confusion_matrix\n",
    "\n",
    "\n",
    "# encode categorical variables\n",
    "label_encoder = LabelEncoder()\n",
    "mkt['test group'] = label_encoder.fit_transform(mkt['test group'])\n",
    "\n",
    "# define variables\n",
    "X = mkt[['test group']]\n",
    "y = mkt['converted']\n",
    "\n",
    "# split into train and test sets\n",
    "X_train, X_test, y_train, y_test = train_test_split(X, y, test_size=0.2, random_state=42)\n",
    "\n",
    "# logistic regression model\n",
    "model = LogisticRegression()\n",
    "model.fit(X_train, y_train)\n",
    "y_pred = model.predict(X_test)\n",
    "\n",
    "# evaluate model\n",
    "accuracy = accuracy_score(y_test, y_pred)\n",
    "print(f\"Accuracy: {accuracy}\")\n",
    "print('\\nClassification Report:\\n\\n', classification_report(y_test, y_pred))\n",
    "\n",
    "# coefficients\n",
    "coefficients = model.coef_\n",
    "intercept = model.intercept_\n",
    "print(f\"Coefficients: {coefficients}\")\n",
    "print(f\"Intercept: {intercept}\")"
   ]
  },
  {
   "cell_type": "markdown",
   "id": "298856a1",
   "metadata": {},
   "source": [
    "Both regression models don't vary much in accuracy so the number of predictive variables utilized does not have much of an effect on being able to predict if conversion occurs or not. "
   ]
  }
 ],
 "metadata": {
  "kernelspec": {
   "display_name": "Python 3 (ipykernel)",
   "language": "python",
   "name": "python3"
  },
  "language_info": {
   "codemirror_mode": {
    "name": "ipython",
    "version": 3
   },
   "file_extension": ".py",
   "mimetype": "text/x-python",
   "name": "python",
   "nbconvert_exporter": "python",
   "pygments_lexer": "ipython3",
   "version": "3.9.12"
  }
 },
 "nbformat": 4,
 "nbformat_minor": 5
}
