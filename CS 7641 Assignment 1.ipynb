{
 "cells": [
  {
   "cell_type": "code",
   "execution_count": 294,
   "id": "7ae03817",
   "metadata": {},
   "outputs": [],
   "source": [
    "# import packages\n",
    "\n",
    "from IPython.core.interactiveshell import InteractiveShell\n",
    "InteractiveShell.ast_node_interactivity = \"all\"\n",
    "\n",
    "import numpy as np\n",
    "import pandas as pd\n",
    "import matplotlib.pyplot as plt\n",
    "import seaborn as sns"
   ]
  },
  {
   "cell_type": "code",
   "execution_count": 342,
   "id": "a805b086",
   "metadata": {},
   "outputs": [
    {
     "data": {
      "text/html": [
       "<div>\n",
       "<style scoped>\n",
       "    .dataframe tbody tr th:only-of-type {\n",
       "        vertical-align: middle;\n",
       "    }\n",
       "\n",
       "    .dataframe tbody tr th {\n",
       "        vertical-align: top;\n",
       "    }\n",
       "\n",
       "    .dataframe thead th {\n",
       "        text-align: right;\n",
       "    }\n",
       "</style>\n",
       "<table border=\"1\" class=\"dataframe\">\n",
       "  <thead>\n",
       "    <tr style=\"text-align: right;\">\n",
       "      <th></th>\n",
       "      <th>tau1</th>\n",
       "      <th>tau2</th>\n",
       "      <th>tau3</th>\n",
       "      <th>tau4</th>\n",
       "      <th>p1</th>\n",
       "      <th>p2</th>\n",
       "      <th>p3</th>\n",
       "      <th>p4</th>\n",
       "      <th>g1</th>\n",
       "      <th>g2</th>\n",
       "      <th>g3</th>\n",
       "      <th>g4</th>\n",
       "      <th>stab</th>\n",
       "      <th>stabf</th>\n",
       "    </tr>\n",
       "  </thead>\n",
       "  <tbody>\n",
       "    <tr>\n",
       "      <th>0</th>\n",
       "      <td>2.959060</td>\n",
       "      <td>3.079885</td>\n",
       "      <td>8.381025</td>\n",
       "      <td>9.780754</td>\n",
       "      <td>3.763085</td>\n",
       "      <td>-0.782604</td>\n",
       "      <td>-1.257395</td>\n",
       "      <td>-1.723086</td>\n",
       "      <td>0.650456</td>\n",
       "      <td>0.859578</td>\n",
       "      <td>0.887445</td>\n",
       "      <td>0.958034</td>\n",
       "      <td>0.055347</td>\n",
       "      <td>unstable</td>\n",
       "    </tr>\n",
       "    <tr>\n",
       "      <th>1</th>\n",
       "      <td>9.304097</td>\n",
       "      <td>4.902524</td>\n",
       "      <td>3.047541</td>\n",
       "      <td>1.369357</td>\n",
       "      <td>5.067812</td>\n",
       "      <td>-1.940058</td>\n",
       "      <td>-1.872742</td>\n",
       "      <td>-1.255012</td>\n",
       "      <td>0.413441</td>\n",
       "      <td>0.862414</td>\n",
       "      <td>0.562139</td>\n",
       "      <td>0.781760</td>\n",
       "      <td>-0.005957</td>\n",
       "      <td>stable</td>\n",
       "    </tr>\n",
       "    <tr>\n",
       "      <th>2</th>\n",
       "      <td>8.971707</td>\n",
       "      <td>8.848428</td>\n",
       "      <td>3.046479</td>\n",
       "      <td>1.214518</td>\n",
       "      <td>3.405158</td>\n",
       "      <td>-1.207456</td>\n",
       "      <td>-1.277210</td>\n",
       "      <td>-0.920492</td>\n",
       "      <td>0.163041</td>\n",
       "      <td>0.766689</td>\n",
       "      <td>0.839444</td>\n",
       "      <td>0.109853</td>\n",
       "      <td>0.003471</td>\n",
       "      <td>unstable</td>\n",
       "    </tr>\n",
       "    <tr>\n",
       "      <th>3</th>\n",
       "      <td>0.716415</td>\n",
       "      <td>7.669600</td>\n",
       "      <td>4.486641</td>\n",
       "      <td>2.340563</td>\n",
       "      <td>3.963791</td>\n",
       "      <td>-1.027473</td>\n",
       "      <td>-1.938944</td>\n",
       "      <td>-0.997374</td>\n",
       "      <td>0.446209</td>\n",
       "      <td>0.976744</td>\n",
       "      <td>0.929381</td>\n",
       "      <td>0.362718</td>\n",
       "      <td>0.028871</td>\n",
       "      <td>unstable</td>\n",
       "    </tr>\n",
       "    <tr>\n",
       "      <th>4</th>\n",
       "      <td>3.134112</td>\n",
       "      <td>7.608772</td>\n",
       "      <td>4.943759</td>\n",
       "      <td>9.857573</td>\n",
       "      <td>3.525811</td>\n",
       "      <td>-1.125531</td>\n",
       "      <td>-1.845975</td>\n",
       "      <td>-0.554305</td>\n",
       "      <td>0.797110</td>\n",
       "      <td>0.455450</td>\n",
       "      <td>0.656947</td>\n",
       "      <td>0.820923</td>\n",
       "      <td>0.049860</td>\n",
       "      <td>unstable</td>\n",
       "    </tr>\n",
       "  </tbody>\n",
       "</table>\n",
       "</div>"
      ],
      "text/plain": [
       "       tau1      tau2      tau3      tau4        p1        p2        p3  \\\n",
       "0  2.959060  3.079885  8.381025  9.780754  3.763085 -0.782604 -1.257395   \n",
       "1  9.304097  4.902524  3.047541  1.369357  5.067812 -1.940058 -1.872742   \n",
       "2  8.971707  8.848428  3.046479  1.214518  3.405158 -1.207456 -1.277210   \n",
       "3  0.716415  7.669600  4.486641  2.340563  3.963791 -1.027473 -1.938944   \n",
       "4  3.134112  7.608772  4.943759  9.857573  3.525811 -1.125531 -1.845975   \n",
       "\n",
       "         p4        g1        g2        g3        g4      stab     stabf  \n",
       "0 -1.723086  0.650456  0.859578  0.887445  0.958034  0.055347  unstable  \n",
       "1 -1.255012  0.413441  0.862414  0.562139  0.781760 -0.005957    stable  \n",
       "2 -0.920492  0.163041  0.766689  0.839444  0.109853  0.003471  unstable  \n",
       "3 -0.997374  0.446209  0.976744  0.929381  0.362718  0.028871  unstable  \n",
       "4 -0.554305  0.797110  0.455450  0.656947  0.820923  0.049860  unstable  "
      ]
     },
     "execution_count": 342,
     "metadata": {},
     "output_type": "execute_result"
    }
   ],
   "source": [
    "# upload electric grid dataset\n",
    "grid = pd.read_csv('Grid Data.csv')\n",
    "grid.head()"
   ]
  },
  {
   "cell_type": "code",
   "execution_count": 343,
   "id": "06752ca6",
   "metadata": {},
   "outputs": [
    {
     "name": "stdout",
     "output_type": "stream",
     "text": [
      "Missing Values:\n",
      " tau1     0\n",
      "tau2     0\n",
      "tau3     0\n",
      "tau4     0\n",
      "p1       0\n",
      "p2       0\n",
      "p3       0\n",
      "p4       0\n",
      "g1       0\n",
      "g2       0\n",
      "g3       0\n",
      "g4       0\n",
      "stab     0\n",
      "stabf    0\n",
      "dtype: int64\n",
      "\n",
      "Type of Each Variable:\n",
      " tau1     float64\n",
      "tau2     float64\n",
      "tau3     float64\n",
      "tau4     float64\n",
      "p1       float64\n",
      "p2       float64\n",
      "p3       float64\n",
      "p4       float64\n",
      "g1       float64\n",
      "g2       float64\n",
      "g3       float64\n",
      "g4       float64\n",
      "stab     float64\n",
      "stabf     object\n",
      "dtype: object\n",
      "\n",
      "Grid Dataset has 10000 rows and 14 columns\n",
      "\n",
      "\n",
      "Outliers identified using IQR:\n",
      "           tau1      tau2     tau3      tau4       p1        p2        p3  \\\n",
      "6273  6.698111  7.861157  9.33348  2.433936  1.58259 -0.503865 -0.571522   \n",
      "\n",
      "            p4        g1        g2        g3        g4      stab  \n",
      "6273 -0.507202  0.641753  0.868178  0.494277  0.410666  0.056923  \n",
      "\n",
      "Grid Dataset now has 9999 rows and 14 columns\n",
      "\n"
     ]
    }
   ],
   "source": [
    "### preprocess data\n",
    "\n",
    "# find missing values\n",
    "print(\"Missing Values:\\n\", grid.isna().sum())\n",
    "\n",
    "# determine type of each variable\n",
    "print(\"\\nType of Each Variable:\\n\", grid.dtypes)\n",
    "\n",
    "# number of rows and columns\n",
    "print(\"\\nGrid Dataset has\", len(grid), \"rows and\", len(grid.columns), \"columns\\n\")\n",
    "\n",
    "# detect outliers and remove if needed\n",
    "def identify_outliers(column):\n",
    "    Q1 = np.percentile(column, 25)\n",
    "    Q3 = np.percentile(column, 75)\n",
    "    IQR = Q3-Q1\n",
    "    \n",
    "    # define upper and lower bounds\n",
    "    lower = Q1 - 1.5*IQR\n",
    "    upper = Q3 + 1.5*IQR\n",
    "    \n",
    "    # identify outliers\n",
    "    outliers = (column < lower) | (column > upper)\n",
    "    return outliers\n",
    "\n",
    "# select for numeric variables\n",
    "grid_num = grid.iloc[:,:-1]\n",
    "# apply outlier function to the numeric columns to detect outliers\n",
    "grid_outliers = grid_num.apply(identify_outliers)\n",
    "print(\"\\nOutliers identified using IQR:\\n\", grid_num[grid_outliers.any(axis=1)])\n",
    "\n",
    "# remove outlier\n",
    "grid = grid.drop(6273)\n",
    "grid.reset_index(drop=True, inplace=True)\n",
    "\n",
    "# number of rows and columns\n",
    "print(\"\\nGrid Dataset now has\", len(grid), \"rows and\", len(grid.columns), \"columns\\n\")"
   ]
  },
  {
   "cell_type": "code",
   "execution_count": 344,
   "id": "6fbd4446",
   "metadata": {},
   "outputs": [
    {
     "name": "stdout",
     "output_type": "stream",
     "text": [
      "Unique values for stabf column:\n",
      " ['unstable' 'stable']\n"
     ]
    }
   ],
   "source": [
    "### preprocess data continued\n",
    "\n",
    "# encode categorical variables: label encoding\n",
    "print(\"Unique values for stabf column:\\n\", grid['stabf'].unique())\n",
    "grid['stabf_encoded'] = grid['stabf'].map({'unstable':0, 'stable':1})\n",
    "grid = grid.drop('stabf',axis=1)\n",
    "\n"
   ]
  },
  {
   "cell_type": "code",
   "execution_count": 345,
   "id": "e83476d4",
   "metadata": {},
   "outputs": [
    {
     "name": "stdout",
     "output_type": "stream",
     "text": [
      "Shape of X_train: (7999, 13)\n",
      "Shape of y_train: (7999,)\n",
      "Shape of X_test: (2000, 13)\n",
      "Shape of y_test: (2000,)\n",
      "\n",
      "Fraction of positive examples: 36.20%\n",
      "\n",
      "Shape of X_train2: (6399, 13)\n",
      "Shape of y_train2: (6399,)\n",
      "Shame of X_val: (1600, 13)\n",
      "Shape of y_val: (1600,)\n"
     ]
    }
   ],
   "source": [
    "### splitting data into test and train set\n",
    "\n",
    "from sklearn.model_selection import train_test_split\n",
    "X = grid.iloc[:,:-1]\n",
    "y = grid['stabf_encoded']\n",
    "\n",
    "# scaling: standardization\n",
    "from sklearn.preprocessing import StandardScaler\n",
    "scaler = StandardScaler()\n",
    "X = scaler.fit_transform(X)\n",
    "\n",
    "# split data into test and train sets\n",
    "X_train, X_test, y_train, y_test = train_test_split(X, y, test_size = 0.2, random_state = 0)\n",
    "print(\"Shape of X_train:\", X_train.shape)\n",
    "print(\"Shape of y_train:\", y_train.shape)\n",
    "print(\"Shape of X_test:\", X_test.shape)\n",
    "print(\"Shape of y_test:\", y_test.shape)\n",
    "print('\\nFraction of positive examples: %.2f%%' % (y[y == 1].shape[0]/y.shape[0]*100.0))\n",
    "\n",
    "# split train test into train and validation sets\n",
    "X_train2, X_val, y_train2, y_val = train_test_split(X_train, y_train, test_size=0.2, random_state=0)\n",
    "print(\"\\nShape of X_train2:\", X_train2.shape)\n",
    "print(\"Shape of y_train2:\", y_train2.shape)\n",
    "print(\"Shame of X_val:\", X_val.shape)\n",
    "print(\"Shape of y_val:\", y_val.shape)\n",
    "\n",
    "\n",
    "# data structures to store values later\n",
    "num_classifiers = 5\n",
    "best_accuracy = np.zeros(num_classifiers)\n",
    "train_time = np.zeros(num_classifiers)\n",
    "test_time = np.zeros(num_classifiers)"
   ]
  },
  {
   "cell_type": "code",
   "execution_count": 336,
   "id": "6f639680",
   "metadata": {},
   "outputs": [
    {
     "data": {
      "text/plain": [
       "DecisionTreeClassifier(criterion='entropy', random_state=0)"
      ]
     },
     "execution_count": 336,
     "metadata": {},
     "output_type": "execute_result"
    },
    {
     "name": "stdout",
     "output_type": "stream",
     "text": [
      "The accuracy of the Decision Tree classifier prior to hyperparameter training is 100.0 %.\n"
     ]
    }
   ],
   "source": [
    "### decision tree before hyperparameter tuning\n",
    "from sklearn.tree import DecisionTreeClassifier\n",
    "from sklearn.metrics import accuracy_score\n",
    "from sklearn import tree\n",
    "\n",
    "DTclassifier = DecisionTreeClassifier(random_state=0, criterion='entropy')\n",
    "DTclassifier.fit(X_train2, y_train2)\n",
    "y_train_pred = DTclassifier.predict(X_train2)\n",
    "DT_accuracy = accuracy_score(y_train2, y_train_pred)\n",
    "print('The accuracy of the Decision Tree classifier prior to hyperparameter training is', DT_accuracy*100, \"%.\")"
   ]
  },
  {
   "cell_type": "code",
   "execution_count": 337,
   "id": "da67f4b1",
   "metadata": {},
   "outputs": [
    {
     "data": {
      "text/plain": [
       "array([0., 0., 0., 0., 0., 0., 0., 0., 0., 0., 0., 0., 1.])"
      ]
     },
     "execution_count": 337,
     "metadata": {},
     "output_type": "execute_result"
    }
   ],
   "source": [
    "DTclassifier.feature_importances_"
   ]
  },
  {
   "cell_type": "code",
   "execution_count": 300,
   "id": "f04a4566",
   "metadata": {},
   "outputs": [
    {
     "data": {
      "text/plain": [
       "<Figure size 432x288 with 0 Axes>"
      ]
     },
     "execution_count": 300,
     "metadata": {},
     "output_type": "execute_result"
    },
    {
     "data": {
      "text/plain": [
       "[<matplotlib.lines.Line2D at 0x2362264b190>]"
      ]
     },
     "execution_count": 300,
     "metadata": {},
     "output_type": "execute_result"
    },
    {
     "data": {
      "text/plain": [
       "[<matplotlib.lines.Line2D at 0x2362264b430>]"
      ]
     },
     "execution_count": 300,
     "metadata": {},
     "output_type": "execute_result"
    },
    {
     "data": {
      "text/plain": [
       "(0.6, 1.2)"
      ]
     },
     "execution_count": 300,
     "metadata": {},
     "output_type": "execute_result"
    },
    {
     "data": {
      "text/plain": [
       "Text(0.5, 1.0, 'Grid Data: Validation Curve for Decision Tree\\nHyperparameter: Maximum Tree Depth')"
      ]
     },
     "execution_count": 300,
     "metadata": {},
     "output_type": "execute_result"
    },
    {
     "data": {
      "text/plain": [
       "Text(0.5, 0, 'Maximum Tree Depth')"
      ]
     },
     "execution_count": 300,
     "metadata": {},
     "output_type": "execute_result"
    },
    {
     "data": {
      "text/plain": [
       "Text(0, 0.5, 'Classification Score')"
      ]
     },
     "execution_count": 300,
     "metadata": {},
     "output_type": "execute_result"
    },
    {
     "data": {
      "text/plain": [
       "<matplotlib.legend.Legend at 0x23622648be0>"
      ]
     },
     "execution_count": 300,
     "metadata": {},
     "output_type": "execute_result"
    },
    {
     "data": {
      "image/png": "[encoded data removed]",
      "text/plain": [
       "<Figure size 432x288 with 1 Axes>"
      ]
     },
     "metadata": {
      "needs_background": "light"
     },
     "output_type": "display_data"
    }
   ],
   "source": [
    "# decision tree: validation curve for maximum tree depth\n",
    "from sklearn.model_selection import validation_curve\n",
    "\n",
    "depth_range = np.arange(51)\n",
    "train_scores, test_scores = validation_curve(DTclassifier, X_train2, y_train2, param_name='max_depth', param_range=depth_range, cv=5)\n",
    "\n",
    "# plot validation curve\n",
    "plt.figure()\n",
    "plt.plot(depth_range, np.mean(train_scores, axis=1), label='Train Score', linewidth=3)\n",
    "plt.plot(depth_range, np.mean(test_scores, axis=1), label='Cross-Validation Score', linewidth=2)\n",
    "plt.ylim(0.6,1.2)\n",
    "plt.title('Grid Data: Validation Curve for Decision Tree\\nHyperparameter: Maximum Tree Depth')\n",
    "plt.xlabel('Maximum Tree Depth')\n",
    "plt.ylabel('Classification Score')\n",
    "plt.legend(loc='best')\n",
    "plt.grid()\n",
    "plt.show()"
   ]
  },
  {
   "cell_type": "code",
   "execution_count": 301,
   "id": "eabef37b",
   "metadata": {},
   "outputs": [
    {
     "data": {
      "text/plain": [
       "<Figure size 432x288 with 0 Axes>"
      ]
     },
     "execution_count": 301,
     "metadata": {},
     "output_type": "execute_result"
    },
    {
     "data": {
      "text/plain": [
       "[<matplotlib.lines.Line2D at 0x23620e60940>]"
      ]
     },
     "execution_count": 301,
     "metadata": {},
     "output_type": "execute_result"
    },
    {
     "data": {
      "text/plain": [
       "[<matplotlib.lines.Line2D at 0x23620e60ac0>]"
      ]
     },
     "execution_count": 301,
     "metadata": {},
     "output_type": "execute_result"
    },
    {
     "data": {
      "text/plain": [
       "(0.6, 1.2)"
      ]
     },
     "execution_count": 301,
     "metadata": {},
     "output_type": "execute_result"
    },
    {
     "data": {
      "text/plain": [
       "Text(0.5, 0, 'Minimum Leaf Size')"
      ]
     },
     "execution_count": 301,
     "metadata": {},
     "output_type": "execute_result"
    },
    {
     "data": {
      "text/plain": [
       "Text(0, 0.5, 'Classification Score')"
      ]
     },
     "execution_count": 301,
     "metadata": {},
     "output_type": "execute_result"
    },
    {
     "data": {
      "text/plain": [
       "Text(0.5, 1.0, 'Grid Data: Validation Curve for Decision Tree Classifier\\nHyperparameter:Minimum Leaf Size')"
      ]
     },
     "execution_count": 301,
     "metadata": {},
     "output_type": "execute_result"
    },
    {
     "data": {
      "text/plain": [
       "<matplotlib.legend.Legend at 0x23620e98880>"
      ]
     },
     "execution_count": 301,
     "metadata": {},
     "output_type": "execute_result"
    },
    {
     "data": {
      "image/png": "[encoded data removed]",
      "text/plain": [
       "<Figure size 432x288 with 1 Axes>"
      ]
     },
     "metadata": {
      "needs_background": "light"
     },
     "output_type": "display_data"
    }
   ],
   "source": [
    "# decision tree: validation curve for min leaf size\n",
    "\n",
    "# range of values to test\n",
    "param_range = np.arange(1, 50)\n",
    "\n",
    "# calculate train and validation scores\n",
    "train_scores, test_scores = validation_curve(DTclassifier, X_train2, y_train2, param_name=\"min_samples_leaf\", param_range=param_range, cv=5)\n",
    "\n",
    "# plot validation curve\n",
    "plt.figure()\n",
    "plt.plot(param_range, np.mean(train_scores, axis=1), label=\"Train Score\", linewidth=3)\n",
    "plt.plot(param_range, np.mean(test_scores, axis=1), label=\"Cross-Validation Score\", linewidth=2)\n",
    "plt.ylim(0.6,1.2)\n",
    "plt.xlabel(\"Minimum Leaf Size\")\n",
    "plt.ylabel(\"Classification Score\")\n",
    "plt.title(\"Grid Data: Validation Curve for Decision Tree Classifier\\nHyperparameter:Minimum Leaf Size\")\n",
    "plt.legend(loc=\"best\")\n",
    "plt.grid()\n",
    "plt.show()\n",
    "\n"
   ]
  },
  {
   "cell_type": "code",
   "execution_count": 106,
   "id": "f074b053",
   "metadata": {},
   "outputs": [
    {
     "data": {
      "text/plain": [
       "GridSearchCV(cv=5,\n",
       "             estimator=DecisionTreeClassifier(criterion='entropy',\n",
       "                                              random_state=0),\n",
       "             param_grid={'max_depth': array([ 1,  2,  3,  4,  5,  6,  7,  8,  9, 10, 11, 12, 13, 14, 15, 16, 17,\n",
       "       18, 19, 20, 21, 22, 23, 24, 25, 26, 27, 28, 29, 30, 31, 32, 33, 34,\n",
       "       35, 36, 37, 38, 39, 40, 41, 42, 43, 44, 45, 46, 47, 48, 49])})"
      ]
     },
     "execution_count": 106,
     "metadata": {},
     "output_type": "execute_result"
    },
    {
     "name": "stdout",
     "output_type": "stream",
     "text": [
      "Completed training in 10.880109 seconds\n",
      "Best parameters set for decision tree found on development set:\n",
      "{'max_depth': 1}\n",
      "Inference time on test data: 0.000000 seconds\n",
      "Accuracy of decision tree is 99.95%\n"
     ]
    }
   ],
   "source": [
    "\n",
    "depth_range = np.arange(1,50)\n",
    "parameters = {'max_depth' : depth_range}\n",
    "DTclassifier = GridSearchCV(DTclassifier, param_grid=parameters, cv=5)\n",
    "t0 = time.time()\n",
    "DTclassifier.fit(X_train2, y_train2)\n",
    "t1 = time.time()\n",
    "train_time[0] = t1 - t0\n",
    "print('Completed training in %f seconds' % train_time[0])\n",
    "\n",
    "#best_clf_dt = DTclassifier\n",
    "best_dt_params = DTclassifier.best_params_\n",
    "print(\"Best parameters set for decision tree found on development set:\")\n",
    "print(best_dt_params)\n",
    "\n",
    "t0 = time.time()\n",
    "y_pred = DTclassifier.predict(X_val)\n",
    "t1 = time.time()\n",
    "test_time[0] = t1 - t0\n",
    "print('Inference time on test data: %f seconds' % test_time[0])\n",
    "best_accuracy[0] = accuracy_score(y_val, y_pred)\n",
    "print('Accuracy of decision tree is %.2f%%' % (best_accuracy[0] * 100))"
   ]
  },
  {
   "cell_type": "code",
   "execution_count": 124,
   "id": "b030f4ca",
   "metadata": {},
   "outputs": [
    {
     "data": {
      "text/plain": [
       "GridSearchCV(cv=5,\n",
       "             estimator=DecisionTreeClassifier(criterion='entropy',\n",
       "                                              random_state=0),\n",
       "             param_grid={'min_samples_leaf': array([ 1,  2,  3,  4,  5,  6,  7,  8,  9, 10, 11, 12, 13, 14, 15, 16, 17,\n",
       "       18, 19, 20, 21, 22, 23, 24, 25, 26, 27, 28, 29, 30, 31, 32, 33, 34,\n",
       "       35, 36, 37, 38, 39, 40, 41, 42, 43, 44, 45, 46, 47, 48, 49])})"
      ]
     },
     "execution_count": 124,
     "metadata": {},
     "output_type": "execute_result"
    },
    {
     "name": "stdout",
     "output_type": "stream",
     "text": [
      "Completed training in 11.012379 seconds\n",
      "Best parameters set for decision tree found on development set:\n",
      "{'min_samples_leaf': 1}\n",
      "Inference time on test data: 0.010044 seconds\n",
      "Accuracy of decision tree is 99.95%\n"
     ]
    }
   ],
   "source": [
    "\n",
    "min_leaf = np.arange(1,50)\n",
    "parameters = {'min_samples_leaf' : min_leaf}\n",
    "DTclassifier = GridSearchCV(DTclassifier, param_grid=parameters, cv=5)\n",
    "t0 = time.time()\n",
    "DTclassifier.fit(X_train2, y_train2)\n",
    "t1 = time.time()\n",
    "train_time[0] = t1 - t0\n",
    "print('Completed training in %f seconds' % train_time[0])\n",
    "\n",
    "#best_clf_dt = DTclassifier\n",
    "best_dt_params = DTclassifier.best_params_\n",
    "print(\"Best parameters set for decision tree found on development set:\")\n",
    "print(best_dt_params)\n",
    "\n",
    "t0 = time.time()\n",
    "y_pred = DTclassifier.predict(X_val)\n",
    "t1 = time.time()\n",
    "test_time[0] = t1 - t0\n",
    "print('Inference time on test data: %f seconds' % test_time[0])\n",
    "best_accuracy[0] = accuracy_score(y_val, y_pred)\n",
    "print('Accuracy of decision tree is %.2f%%' % (best_accuracy[0] * 100))"
   ]
  },
  {
   "cell_type": "code",
   "execution_count": 142,
   "id": "29dd589a",
   "metadata": {},
   "outputs": [
    {
     "name": "stdout",
     "output_type": "stream",
     "text": [
      "Completed training in 108.661420 seconds\n",
      "Per hyperparameter training, the best parameters are: {'max_depth': 1, 'min_samples_leaf': 32}\n",
      "Accuracy of decision tree is: 100.0 %.\n"
     ]
    }
   ],
   "source": [
    "def TreeGridSearch(start_leaf_n, end_leaf_n, X_train, y_train):\n",
    "    # parameters to search:\n",
    "    # 20 values of max_depth from 1, 20\n",
    "    param_grid = {'min_samples_leaf':np.linspace(start_leaf_n, end_leaf_n, 20).round().astype('int'), 'max_depth':np.arange(1,50)}\n",
    "    DTclassifier = GridSearchCV(estimator=DecisionTreeClassifier(), param_grid=param_grid, cv=5)\n",
    "    t0 = time.time()\n",
    "    DTclassifier.fit(X_train2, y_train2)\n",
    "    t1 = time.time()\n",
    "    train_time[0] = t1 - t0\n",
    "    print('Completed training in %f seconds' % train_time[0])\n",
    "    print(\"Per hyperparameter training, the best parameters are:\", DTclassifier.best_params_)\n",
    "    return DTclassifier.best_params_['max_depth'], DTclassifier.best_params_['min_samples_leaf']\n",
    "\n",
    "# find best parameters \n",
    "# 20 values of min_samples leaf from 0.5% sample to 5% of training data\n",
    "start_leaf_n = round(0.005*len(X_train2))\n",
    "end_leaf_n = round(0.05*len(X_train2)) \n",
    "max_depth, min_samples_leaf = TreeGridSearch(start_leaf_n, end_leaf_n, X_train2, y_train2)\n",
    "\n",
    "y_pred = DTclassifier.predict(X_val)\n",
    "\n",
    "print('Accuracy of decision tree is:', accuracy_score(y_val, y_pred)*100, \"%.\")\n",
    "\n"
   ]
  },
  {
   "cell_type": "code",
   "execution_count": 145,
   "id": "bce6301e",
   "metadata": {},
   "outputs": [
    {
     "data": {
      "text/plain": [
       "<Figure size 432x288 with 0 Axes>"
      ]
     },
     "execution_count": 145,
     "metadata": {},
     "output_type": "execute_result"
    },
    {
     "data": {
      "text/plain": [
       "[<matplotlib.lines.Line2D at 0x2361b6c7970>]"
      ]
     },
     "execution_count": 145,
     "metadata": {},
     "output_type": "execute_result"
    },
    {
     "data": {
      "text/plain": [
       "[<matplotlib.lines.Line2D at 0x2361b646220>]"
      ]
     },
     "execution_count": 145,
     "metadata": {},
     "output_type": "execute_result"
    },
    {
     "data": {
      "text/plain": [
       "Text(0.5, 1.0, 'Grid Data: Learning Curve for Decision Tree Model')"
      ]
     },
     "execution_count": 145,
     "metadata": {},
     "output_type": "execute_result"
    },
    {
     "data": {
      "text/plain": [
       "Text(0.5, 0, 'Fraction of Training Examples')"
      ]
     },
     "execution_count": 145,
     "metadata": {},
     "output_type": "execute_result"
    },
    {
     "data": {
      "text/plain": [
       "Text(0, 0.5, 'Classification Score')"
      ]
     },
     "execution_count": 145,
     "metadata": {},
     "output_type": "execute_result"
    },
    {
     "data": {
      "text/plain": [
       "<matplotlib.legend.Legend at 0x2361b6c7490>"
      ]
     },
     "execution_count": 145,
     "metadata": {},
     "output_type": "execute_result"
    },
    {
     "data": {
      "image/png": "[encoded data removed]",
      "text/plain": [
       "<Figure size 432x288 with 1 Axes>"
      ]
     },
     "metadata": {
      "needs_background": "light"
     },
     "output_type": "display_data"
    }
   ],
   "source": [
    "from sklearn.model_selection import learning_curve\n",
    "# plot learning curve\n",
    "train_sizes = np.linspace(0.1, 1.0, 5)\n",
    "_, train_scores, test_scores = learning_curve(DTclassifier, X_train2, y_train2, train_sizes=train_sizes, cv=5)\n",
    "\n",
    "plt.figure()\n",
    "plt.plot(train_sizes, np.mean(train_scores, axis=1), 'o-', label='Training Score')\n",
    "plt.plot(train_sizes, np.mean(test_scores, axis=1), 'o-', label='Cross-Validation Score')\n",
    "plt.title('Grid Data: Learning Curve for Decision Tree Model')\n",
    "plt.xlabel('Fraction of Training Examples')\n",
    "plt.ylabel(\"Classification Score\")\n",
    "plt.legend(loc=\"best\")\n",
    "plt.grid()\n",
    "plt.show()"
   ]
  },
  {
   "cell_type": "code",
   "execution_count": 153,
   "id": "471950e5",
   "metadata": {},
   "outputs": [],
   "source": [
    "from sklearn.metrics import roc_auc_score, accuracy_score, f1_score, precision_score, recall_score, confusion_matrix\n",
    "import timeit\n",
    "def evaluate_test(classifier, X_train, X_test, y_train, y_test):\n",
    "    \n",
    "    start_time = timeit.default_timer()\n",
    "    classifier.fit(X_train, y_train)\n",
    "    end_time = timeit.default_timer()\n",
    "    training_time = end_time - start_time\n",
    "    \n",
    "    start_time = timeit.default_timer()    \n",
    "    y_pred = classifier.predict(X_test)\n",
    "    end_time = timeit.default_timer()\n",
    "    pred_time = end_time - start_time\n",
    "    \n",
    "    auc = roc_auc_score(y_test, y_pred)\n",
    "    f1 = f1_score(y_test,y_pred)\n",
    "    accuracy = accuracy_score(y_test,y_pred)\n",
    "    precision = precision_score(y_test,y_pred)\n",
    "    recall = recall_score(y_test,y_pred)\n",
    "    #cm = confusion_matrix(y_test,y_pred)\n",
    "\n",
    "    print(\"Evaluation Metrics for Test Dataset\")\n",
    "    print(\"*****************************************************\")\n",
    "    print(\"Model Training Time (s):   \"+\"{:.5f}\".format(training_time))\n",
    "    print(\"Model Prediction Time (s): \"+\"{:.5f}\\n\".format(pred_time))\n",
    "    print(\"F1 Score:  \"+\"{:.2f}\".format(f1))\n",
    "    print(\"Accuracy:  \"+\"{:.2f}\".format(accuracy)+\"     AUC:       \"+\"{:.2f}\".format(auc))\n",
    "    print(\"Precision: \"+\"{:.2f}\".format(precision)+\"     Recall:    \"+\"{:.2f}\".format(recall))\n",
    "    print(\"*****************************************************\")\n",
    "    #plt.figure()\n",
    "    #plot_confusion_matrix(cm, classes=[\"0\",\"1\"], title='Confusion Matrix')\n",
    "    #plt.show()"
   ]
  },
  {
   "cell_type": "code",
   "execution_count": 154,
   "id": "0e50b952",
   "metadata": {},
   "outputs": [
    {
     "name": "stdout",
     "output_type": "stream",
     "text": [
      "Evaluation Metrics for Test Dataset\n",
      "*****************************************************\n",
      "Model Training Time (s):   0.03526\n",
      "Model Prediction Time (s): 0.00052\n",
      "\n",
      "F1 Score:  1.00\n",
      "Accuracy:  1.00     AUC:       1.00\n",
      "Precision: 1.00     Recall:    1.00\n",
      "*****************************************************\n"
     ]
    }
   ],
   "source": [
    "# evaluate decision tree model on test dataset\n",
    "DTclass_best = DecisionTreeClassifier(max_depth = 1, min_samples_leaf = 32, random_state = 0, criterion = 'entropy')\n",
    "evaluate_test(DTclass_best, X_train2, X_test, y_train2, y_test)\n"
   ]
  },
  {
   "cell_type": "code",
   "execution_count": 171,
   "id": "ecd7fdf9",
   "metadata": {},
   "outputs": [
    {
     "data": {
      "text/plain": [
       "GradientBoostingClassifier(max_depth=1, n_estimators=1, random_state=0)"
      ]
     },
     "execution_count": 171,
     "metadata": {},
     "output_type": "execute_result"
    },
    {
     "name": "stdout",
     "output_type": "stream",
     "text": [
      "The accuracy of the Boosted decision tree prior to hyperparameter tuning is 64.11939365525863 %.\n"
     ]
    }
   ],
   "source": [
    "### Boosting\n",
    "# boosted decision tree before hyperparameter tuning\n",
    "from sklearn.ensemble import GradientBoostingClassifier\n",
    "\n",
    "GBclassifier = GradientBoostingClassifier(max_depth=1, n_estimators=1, random_state=0)\n",
    "GBclassifier.fit(X_train2, y_train2)\n",
    "y_train_pred = GBclassifier.predict(X_train2)\n",
    "GB_accuracy = accuracy_score(y_train2, y_train_pred)\n",
    "print(\"The accuracy of the Boosted decision tree prior to hyperparameter tuning is\", GB_accuracy*100, \"%.\")\n",
    "\n"
   ]
  },
  {
   "cell_type": "code",
   "execution_count": 302,
   "id": "581f3c81",
   "metadata": {},
   "outputs": [
    {
     "data": {
      "text/plain": [
       "<Figure size 432x288 with 0 Axes>"
      ]
     },
     "execution_count": 302,
     "metadata": {},
     "output_type": "execute_result"
    },
    {
     "data": {
      "text/plain": [
       "[<matplotlib.lines.Line2D at 0x23621356f40>]"
      ]
     },
     "execution_count": 302,
     "metadata": {},
     "output_type": "execute_result"
    },
    {
     "data": {
      "text/plain": [
       "[<matplotlib.lines.Line2D at 0x23620d46220>]"
      ]
     },
     "execution_count": 302,
     "metadata": {},
     "output_type": "execute_result"
    },
    {
     "data": {
      "text/plain": [
       "(0.6, 1.2)"
      ]
     },
     "execution_count": 302,
     "metadata": {},
     "output_type": "execute_result"
    },
    {
     "data": {
      "text/plain": [
       "Text(0.5, 1.0, 'Grid Data: Validation Curve for Boosted Decision Tree\\nHyperparameter: Maximum Tree Depth')"
      ]
     },
     "execution_count": 302,
     "metadata": {},
     "output_type": "execute_result"
    },
    {
     "data": {
      "text/plain": [
       "Text(0.5, 0, 'Maximum Tree Depth')"
      ]
     },
     "execution_count": 302,
     "metadata": {},
     "output_type": "execute_result"
    },
    {
     "data": {
      "text/plain": [
       "Text(0, 0.5, 'Classification Score')"
      ]
     },
     "execution_count": 302,
     "metadata": {},
     "output_type": "execute_result"
    },
    {
     "data": {
      "text/plain": [
       "<matplotlib.legend.Legend at 0x23621346c70>"
      ]
     },
     "execution_count": 302,
     "metadata": {},
     "output_type": "execute_result"
    },
    {
     "data": {
      "image/png": "[encoded data removed]",
      "text/plain": [
       "<Figure size 432x288 with 1 Axes>"
      ]
     },
     "metadata": {
      "needs_background": "light"
     },
     "output_type": "display_data"
    }
   ],
   "source": [
    "# Boost: validation curve for maximum tree depth\n",
    "\n",
    "depth_range = np.arange(51)\n",
    "train_scores, test_scores = validation_curve(GBclassifier, X_train2, y_train2, param_name='max_depth', param_range=depth_range, cv=5)\n",
    "\n",
    "# plot validation curve\n",
    "plt.figure()\n",
    "plt.plot(depth_range, np.mean(train_scores, axis=1), label='Train Score', linewidth=3)\n",
    "plt.plot(depth_range, np.mean(test_scores, axis=1), label='Cross-Validation Score', linewidth=2)\n",
    "plt.ylim(0.6,1.2)\n",
    "plt.title('Grid Data: Validation Curve for Boosted Decision Tree\\nHyperparameter: Maximum Tree Depth')\n",
    "plt.xlabel('Maximum Tree Depth') \n",
    "plt.ylabel('Classification Score')\n",
    "plt.legend(loc='best')\n",
    "plt.grid()\n",
    "plt.show()"
   ]
  },
  {
   "cell_type": "code",
   "execution_count": 305,
   "id": "b2ac59a8",
   "metadata": {},
   "outputs": [
    {
     "data": {
      "text/plain": [
       "<Figure size 432x288 with 0 Axes>"
      ]
     },
     "execution_count": 305,
     "metadata": {},
     "output_type": "execute_result"
    },
    {
     "data": {
      "text/plain": [
       "[<matplotlib.lines.Line2D at 0x236293f6730>]"
      ]
     },
     "execution_count": 305,
     "metadata": {},
     "output_type": "execute_result"
    },
    {
     "data": {
      "text/plain": [
       "[<matplotlib.lines.Line2D at 0x236293f6910>]"
      ]
     },
     "execution_count": 305,
     "metadata": {},
     "output_type": "execute_result"
    },
    {
     "data": {
      "text/plain": [
       "(0.6, 1.2)"
      ]
     },
     "execution_count": 305,
     "metadata": {},
     "output_type": "execute_result"
    },
    {
     "data": {
      "text/plain": [
       "Text(0.5, 0, 'Minimum Leaf Size')"
      ]
     },
     "execution_count": 305,
     "metadata": {},
     "output_type": "execute_result"
    },
    {
     "data": {
      "text/plain": [
       "Text(0, 0.5, 'Classification Score')"
      ]
     },
     "execution_count": 305,
     "metadata": {},
     "output_type": "execute_result"
    },
    {
     "data": {
      "text/plain": [
       "Text(0.5, 1.0, 'Grid Data: Validation Curve for Boosted Decision Tree \\nHyperparameter: Minimum Leaf Size')"
      ]
     },
     "execution_count": 305,
     "metadata": {},
     "output_type": "execute_result"
    },
    {
     "data": {
      "text/plain": [
       "<matplotlib.legend.Legend at 0x236293c1400>"
      ]
     },
     "execution_count": 305,
     "metadata": {},
     "output_type": "execute_result"
    },
    {
     "data": {
      "image/png": "[encoded data removed]",
      "text/plain": [
       "<Figure size 432x288 with 1 Axes>"
      ]
     },
     "metadata": {
      "needs_background": "light"
     },
     "output_type": "display_data"
    }
   ],
   "source": [
    "# BOOSTED decision tree: validation curve for min leaf size\n",
    "\n",
    "# range of values to test\n",
    "param_range = np.arange(1, 50)\n",
    "\n",
    "# calculate train and validation scores\n",
    "train_scores, test_scores = validation_curve(GBclassifier, X_train2, y_train2, param_name=\"min_samples_leaf\", param_range=param_range, cv=5)\n",
    "\n",
    "# plot validation curve\n",
    "plt.figure()\n",
    "plt.plot(param_range, np.mean(train_scores, axis=1), label=\"Train Score\", linewidth=3)\n",
    "plt.plot(param_range, np.mean(test_scores, axis=1), label=\"Cross-Validation Score\", linewidth=2)\n",
    "plt.ylim(0.6,1.2)\n",
    "plt.xlabel(\"Minimum Leaf Size\")\n",
    "plt.ylabel(\"Classification Score\")\n",
    "plt.title(\"Grid Data: Validation Curve for Boosted Decision Tree \\nHyperparameter: Minimum Leaf Size\")\n",
    "plt.legend(loc=\"best\")\n",
    "plt.grid()\n",
    "plt.show()\n",
    "\n"
   ]
  },
  {
   "cell_type": "code",
   "execution_count": 304,
   "id": "31dfe6e5",
   "metadata": {},
   "outputs": [
    {
     "data": {
      "text/plain": [
       "<Figure size 432x288 with 0 Axes>"
      ]
     },
     "execution_count": 304,
     "metadata": {},
     "output_type": "execute_result"
    },
    {
     "data": {
      "text/plain": [
       "[<matplotlib.lines.Line2D at 0x23620f41dc0>]"
      ]
     },
     "execution_count": 304,
     "metadata": {},
     "output_type": "execute_result"
    },
    {
     "data": {
      "text/plain": [
       "[<matplotlib.lines.Line2D at 0x23620f5f0a0>]"
      ]
     },
     "execution_count": 304,
     "metadata": {},
     "output_type": "execute_result"
    },
    {
     "data": {
      "text/plain": [
       "(0.6, 1.2)"
      ]
     },
     "execution_count": 304,
     "metadata": {},
     "output_type": "execute_result"
    },
    {
     "data": {
      "text/plain": [
       "Text(0.5, 1.0, 'Grid Data: Validation Curve for Boosted Decision Tree\\nHyperparameter: Number of Weak Learners')"
      ]
     },
     "execution_count": 304,
     "metadata": {},
     "output_type": "execute_result"
    },
    {
     "data": {
      "text/plain": [
       "Text(0.5, 0, 'Number of Weak Learners')"
      ]
     },
     "execution_count": 304,
     "metadata": {},
     "output_type": "execute_result"
    },
    {
     "data": {
      "text/plain": [
       "Text(0, 0.5, 'Classification Score')"
      ]
     },
     "execution_count": 304,
     "metadata": {},
     "output_type": "execute_result"
    },
    {
     "data": {
      "text/plain": [
       "<matplotlib.legend.Legend at 0x23620f58c70>"
      ]
     },
     "execution_count": 304,
     "metadata": {},
     "output_type": "execute_result"
    },
    {
     "data": {
      "image/png": "[encoded data removed]",
      "text/plain": [
       "<Figure size 432x288 with 1 Axes>"
      ]
     },
     "metadata": {
      "needs_background": "light"
     },
     "output_type": "display_data"
    }
   ],
   "source": [
    "# Boost: validation curve for number of weak learners\n",
    "\n",
    "param_range = np.arange(1, 50)\n",
    "train_scores, test_scores = validation_curve(GBclassifier, X_train2, y_train2, param_name='n_estimators', param_range=param_range, cv=5)\n",
    "\n",
    "# plot validation curve\n",
    "plt.figure()\n",
    "plt.plot(param_range, np.mean(train_scores, axis=1), label='Train Score', linewidth=3)\n",
    "plt.plot(param_range, np.mean(test_scores, axis=1), label='Cross-Validation Score', linewidth=2)\n",
    "plt.ylim(0.6,1.2)\n",
    "plt.title('Grid Data: Validation Curve for Boosted Decision Tree\\nHyperparameter: Number of Weak Learners')\n",
    "plt.xlabel('Number of Weak Learners') \n",
    "plt.ylabel('Classification Score')\n",
    "plt.legend(loc='best')\n",
    "plt.grid()\n",
    "plt.show()"
   ]
  },
  {
   "cell_type": "code",
   "execution_count": 166,
   "id": "eda87649",
   "metadata": {},
   "outputs": [
    {
     "name": "stdout",
     "output_type": "stream",
     "text": [
      "Completed training in 65.849874 seconds\n",
      "Per hyperparameter training, the best parameters are: {'max_depth': 1, 'n_estimators': 10}\n",
      "Accuracy of boosted decision tree is: 100.0 %.\n"
     ]
    }
   ],
   "source": [
    "def TreeGridSearch(X_train, y_train):\n",
    "\n",
    "    #    param_grid = {'min_samples_leaf':np.linspace(start_leaf_n, end_leaf_n, 10).round().astype('int'), 'max_depth':np.arange(1,20), 'n_estimators': np.linspace(10,50,2).round().astype('int')}\n",
    "    param_grid = {'max_depth':np.arange(1,20), 'n_estimators': np.linspace(10,50,2).round().astype('int')}\n",
    "    GBclassifier = GridSearchCV(estimator=GradientBoostingClassifier(), param_grid=param_grid, cv=5)\n",
    "    t0 = time.time()\n",
    "    GBclassifier.fit(X_train2, y_train2)\n",
    "    t1 = time.time()\n",
    "    train_time[0] = t1 - t0\n",
    "    print('Completed training in %f seconds' % train_time[0])\n",
    "    print(\"Per hyperparameter training, the best parameters are:\", GBclassifier.best_params_)\n",
    "#    return GBclassifier.best_params_['max_depth'], GBclassifier.best_params_['min_samples_leaf'], GBclassifier.best_params_['n_estimators']\n",
    "    return GBclassifier.best_params_['max_depth'], GBclassifier.best_params_['n_estimators']\n",
    "\n",
    "# find best parameters \n",
    "#start_leaf_n = round(0.005*len(X_train2))\n",
    "#end_leaf_n = round(0.05*len(X_train2)) \n",
    "#max_depth, min_samples_leaf, n_estimators = TreeGridSearch(start_leaf_n, end_leaf_n, X_train2, y_train2)\n",
    "max_depth, n_estimators = TreeGridSearch(X_train2, y_train2)\n",
    "\n",
    "y_pred = GBclassifier.predict(X_val)\n",
    "\n",
    "print('Accuracy of boosted decision tree is:', accuracy_score(y_val, y_pred)*100, \"%.\")\n",
    "\n"
   ]
  },
  {
   "cell_type": "code",
   "execution_count": 167,
   "id": "e8d6fccf",
   "metadata": {},
   "outputs": [
    {
     "data": {
      "text/plain": [
       "<Figure size 432x288 with 0 Axes>"
      ]
     },
     "execution_count": 167,
     "metadata": {},
     "output_type": "execute_result"
    },
    {
     "data": {
      "text/plain": [
       "[<matplotlib.lines.Line2D at 0x2361d269ac0>]"
      ]
     },
     "execution_count": 167,
     "metadata": {},
     "output_type": "execute_result"
    },
    {
     "data": {
      "text/plain": [
       "[<matplotlib.lines.Line2D at 0x2361d269e80>]"
      ]
     },
     "execution_count": 167,
     "metadata": {},
     "output_type": "execute_result"
    },
    {
     "data": {
      "text/plain": [
       "Text(0.5, 1.0, 'Grid Data: Learning Curve for Boosted Decision Tree Model')"
      ]
     },
     "execution_count": 167,
     "metadata": {},
     "output_type": "execute_result"
    },
    {
     "data": {
      "text/plain": [
       "Text(0.5, 0, 'Fraction of Training Examples')"
      ]
     },
     "execution_count": 167,
     "metadata": {},
     "output_type": "execute_result"
    },
    {
     "data": {
      "text/plain": [
       "Text(0, 0.5, 'Classification Score')"
      ]
     },
     "execution_count": 167,
     "metadata": {},
     "output_type": "execute_result"
    },
    {
     "data": {
      "text/plain": [
       "<matplotlib.legend.Legend at 0x2361d269d30>"
      ]
     },
     "execution_count": 167,
     "metadata": {},
     "output_type": "execute_result"
    },
    {
     "data": {
      "image/png": "[encoded data removed]",
      "text/plain": [
       "<Figure size 432x288 with 1 Axes>"
      ]
     },
     "metadata": {
      "needs_background": "light"
     },
     "output_type": "display_data"
    }
   ],
   "source": [
    "# plot learning curve for boosted decision tree\n",
    "train_sizes = np.linspace(0.1, 1.0, 5)\n",
    "_, train_scores, test_scores = learning_curve(GBclassifier, X_train2, y_train2, train_sizes=train_sizes, cv=5)\n",
    "\n",
    "plt.figure()\n",
    "plt.plot(train_sizes, np.mean(train_scores, axis=1), 'o-', label='Training Score')\n",
    "plt.plot(train_sizes, np.mean(test_scores, axis=1), 'o-', label='Cross-Validation Score')\n",
    "plt.title('Grid Data: Learning Curve for Boosted Decision Tree Model')\n",
    "plt.xlabel('Fraction of Training Examples')\n",
    "plt.ylabel(\"Classification Score\")\n",
    "plt.legend(loc=\"best\")\n",
    "plt.grid()\n",
    "plt.show()"
   ]
  },
  {
   "cell_type": "code",
   "execution_count": 169,
   "id": "dffa8b34",
   "metadata": {},
   "outputs": [
    {
     "name": "stdout",
     "output_type": "stream",
     "text": [
      "Evaluation Metrics for Test Dataset\n",
      "*****************************************************\n",
      "Model Training Time (s):   0.10794\n",
      "Model Prediction Time (s): 0.00928\n",
      "\n",
      "F1 Score:  1.00\n",
      "Accuracy:  1.00     AUC:       1.00\n",
      "Precision: 1.00     Recall:    1.00\n",
      "*****************************************************\n"
     ]
    }
   ],
   "source": [
    "# evaluate boosted decision tree model on test dataset\n",
    "GBclass_best = GradientBoostingClassifier(max_depth = 1, n_estimators = 10, random_state = 0)\n",
    "evaluate_test(GBclass_best, X_train2, X_test, y_train2, y_test)\n"
   ]
  },
  {
   "cell_type": "code",
   "execution_count": 306,
   "id": "82a6ac68",
   "metadata": {},
   "outputs": [
    {
     "data": {
      "text/plain": [
       "KNeighborsClassifier()"
      ]
     },
     "execution_count": 306,
     "metadata": {},
     "output_type": "execute_result"
    },
    {
     "name": "stdout",
     "output_type": "stream",
     "text": [
      "The accuracy of k-Nearest Neighbors model prior to hyperparameter tuning is 96.20253164556962 %.\n"
     ]
    }
   ],
   "source": [
    "### k - Nearest Neighbors (kNN)\n",
    "from sklearn.neighbors import KNeighborsClassifier as kNN\n",
    "\n",
    "# kNN before hyperparameter tuning \n",
    "kNNclassifier = kNN()\n",
    "kNNclassifier.fit(X_train2, y_train2)\n",
    "y_train_pred = kNNclassifier.predict(X_train2)\n",
    "kNN_accuracy = accuracy_score(y_train2, y_train_pred)\n",
    "print(\"The accuracy of k-Nearest Neighbors model prior to hyperparameter tuning is\", kNN_accuracy*100, \"%.\")\n",
    "\n"
   ]
  },
  {
   "cell_type": "code",
   "execution_count": 307,
   "id": "9adaa046",
   "metadata": {},
   "outputs": [
    {
     "data": {
      "text/plain": [
       "<Figure size 432x288 with 0 Axes>"
      ]
     },
     "execution_count": 307,
     "metadata": {},
     "output_type": "execute_result"
    },
    {
     "data": {
      "text/plain": [
       "[<matplotlib.lines.Line2D at 0x236229cdb20>]"
      ]
     },
     "execution_count": 307,
     "metadata": {},
     "output_type": "execute_result"
    },
    {
     "data": {
      "text/plain": [
       "[<matplotlib.lines.Line2D at 0x236229cdee0>]"
      ]
     },
     "execution_count": 307,
     "metadata": {},
     "output_type": "execute_result"
    },
    {
     "data": {
      "text/plain": [
       "(0.6, 1.2)"
      ]
     },
     "execution_count": 307,
     "metadata": {},
     "output_type": "execute_result"
    },
    {
     "data": {
      "text/plain": [
       "Text(0.5, 1.0, 'Grid Data: Validation Curve for kNN\\nHyperparameter: Number of Neighbors')"
      ]
     },
     "execution_count": 307,
     "metadata": {},
     "output_type": "execute_result"
    },
    {
     "data": {
      "text/plain": [
       "Text(0.5, 0, 'Number of Neighbors')"
      ]
     },
     "execution_count": 307,
     "metadata": {},
     "output_type": "execute_result"
    },
    {
     "data": {
      "text/plain": [
       "Text(0, 0.5, 'Classification Score')"
      ]
     },
     "execution_count": 307,
     "metadata": {},
     "output_type": "execute_result"
    },
    {
     "data": {
      "text/plain": [
       "<matplotlib.legend.Legend at 0x236229cdd00>"
      ]
     },
     "execution_count": 307,
     "metadata": {},
     "output_type": "execute_result"
    },
    {
     "data": {
      "image/png": "[encoded data removed]",
      "text/plain": [
       "<Figure size 432x288 with 1 Axes>"
      ]
     },
     "metadata": {
      "needs_background": "light"
     },
     "output_type": "display_data"
    }
   ],
   "source": [
    "# kNN: validation curve for number of neighbors\n",
    "\n",
    "param_range = np.arange(1,50)\n",
    "train_scores, test_scores = validation_curve(kNNclassifier, X_train2, y_train2, param_name='n_neighbors', param_range=param_range, cv=5)\n",
    "\n",
    "# plot validation curve\n",
    "plt.figure()\n",
    "plt.plot(param_range, np.mean(train_scores, axis=1), label='Train Score', linewidth=3)\n",
    "plt.plot(param_range, np.mean(test_scores, axis=1), label='Cross-Validation Score', linewidth=2)\n",
    "plt.ylim(0.6,1.2)\n",
    "plt.title('Grid Data: Validation Curve for kNN\\nHyperparameter: Number of Neighbors')\n",
    "plt.xlabel('Number of Neighbors')\n",
    "plt.ylabel('Classification Score')\n",
    "plt.legend(loc='best')\n",
    "plt.grid()\n",
    "plt.show()"
   ]
  },
  {
   "cell_type": "code",
   "execution_count": 308,
   "id": "2648ca4c",
   "metadata": {},
   "outputs": [
    {
     "data": {
      "text/plain": [
       "<Figure size 432x288 with 0 Axes>"
      ]
     },
     "execution_count": 308,
     "metadata": {},
     "output_type": "execute_result"
    },
    {
     "data": {
      "text/plain": [
       "[<matplotlib.lines.Line2D at 0x23622b957c0>]"
      ]
     },
     "execution_count": 308,
     "metadata": {},
     "output_type": "execute_result"
    },
    {
     "data": {
      "text/plain": [
       "[<matplotlib.lines.Line2D at 0x23622b95b80>]"
      ]
     },
     "execution_count": 308,
     "metadata": {},
     "output_type": "execute_result"
    },
    {
     "data": {
      "text/plain": [
       "(0.6, 1.2)"
      ]
     },
     "execution_count": 308,
     "metadata": {},
     "output_type": "execute_result"
    },
    {
     "data": {
      "text/plain": [
       "Text(0.5, 1.0, 'Grid Data: Validation Curve for kNN\\nHyperparameter: Leaf Size')"
      ]
     },
     "execution_count": 308,
     "metadata": {},
     "output_type": "execute_result"
    },
    {
     "data": {
      "text/plain": [
       "Text(0.5, 0, 'Leaf Size')"
      ]
     },
     "execution_count": 308,
     "metadata": {},
     "output_type": "execute_result"
    },
    {
     "data": {
      "text/plain": [
       "Text(0, 0.5, 'Classification Score')"
      ]
     },
     "execution_count": 308,
     "metadata": {},
     "output_type": "execute_result"
    },
    {
     "data": {
      "text/plain": [
       "<matplotlib.legend.Legend at 0x23622bad5e0>"
      ]
     },
     "execution_count": 308,
     "metadata": {},
     "output_type": "execute_result"
    },
    {
     "data": {
      "image/png": "[encoded data removed]",
      "text/plain": [
       "<Figure size 432x288 with 1 Axes>"
      ]
     },
     "metadata": {
      "needs_background": "light"
     },
     "output_type": "display_data"
    }
   ],
   "source": [
    "# kNN: validation curve for leaf size \n",
    "\n",
    "param_range = np.arange(1,50)\n",
    "train_scores, test_scores = validation_curve(kNNclassifier, X_train2, y_train2, param_name='leaf_size', param_range=param_range, cv=5)\n",
    "\n",
    "# plot validation curve\n",
    "plt.figure()\n",
    "plt.plot(param_range, np.mean(train_scores, axis=1), label='Train Score', linewidth=3)\n",
    "plt.plot(param_range, np.mean(test_scores, axis=1), label='Cross-Validation Score', linewidth=2)\n",
    "plt.ylim(0.6,1.2)\n",
    "plt.title('Grid Data: Validation Curve for kNN\\nHyperparameter: Leaf Size')\n",
    "plt.xlabel('Leaf Size')\n",
    "plt.ylabel('Classification Score')\n",
    "plt.legend(loc='best')\n",
    "plt.grid()\n",
    "plt.show()"
   ]
  },
  {
   "cell_type": "code",
   "execution_count": 179,
   "id": "9eb1c8f8",
   "metadata": {},
   "outputs": [
    {
     "name": "stdout",
     "output_type": "stream",
     "text": [
      "Completed training in 780.215836 seconds\n",
      "Per hyperparameter training, the best parameters are: {'leaf_size': 1, 'n_neighbors': 17}\n",
      "Accuracy of kNN model is: 93.0 %.\n"
     ]
    }
   ],
   "source": [
    "def TreeGridSearch(X_train, y_train):\n",
    "    # parameters to search:\n",
    "    param_grid = {'n_neighbors':np.arange(1,20), 'leaf_size': np.arange(1,20)}\n",
    "    kNNclassifier = GridSearchCV(estimator=kNN(), param_grid=param_grid, cv=5)\n",
    "    t0 = time.time()\n",
    "    kNNclassifier.fit(X_train2, y_train2)\n",
    "    t1 = time.time()\n",
    "    train_time[0] = t1 - t0\n",
    "    print('Completed training in %f seconds' % train_time[0])\n",
    "    print(\"Per hyperparameter training, the best parameters are:\", kNNclassifier.best_params_)\n",
    "    return kNNclassifier.best_params_['n_neighbors'], kNNclassifier.best_params_['leaf_size']\n",
    "\n",
    "# find best parameters \n",
    "n_neighbors, leaf_size = TreeGridSearch(X_train2, y_train2)\n",
    "\n",
    "y_pred = kNNclassifier.predict(X_val)\n",
    "\n",
    "print('Accuracy of kNN model is:', accuracy_score(y_val, y_pred)*100, \"%.\")\n",
    "\n"
   ]
  },
  {
   "cell_type": "code",
   "execution_count": 180,
   "id": "09cfda36",
   "metadata": {},
   "outputs": [
    {
     "data": {
      "text/plain": [
       "<Figure size 432x288 with 0 Axes>"
      ]
     },
     "execution_count": 180,
     "metadata": {},
     "output_type": "execute_result"
    },
    {
     "data": {
      "text/plain": [
       "[<matplotlib.lines.Line2D at 0x2361fac61f0>]"
      ]
     },
     "execution_count": 180,
     "metadata": {},
     "output_type": "execute_result"
    },
    {
     "data": {
      "text/plain": [
       "[<matplotlib.lines.Line2D at 0x2361fac6c70>]"
      ]
     },
     "execution_count": 180,
     "metadata": {},
     "output_type": "execute_result"
    },
    {
     "data": {
      "text/plain": [
       "Text(0.5, 1.0, 'Grid Data: Learning Curve for kNN Model')"
      ]
     },
     "execution_count": 180,
     "metadata": {},
     "output_type": "execute_result"
    },
    {
     "data": {
      "text/plain": [
       "Text(0.5, 0, 'Fraction of Training Examples')"
      ]
     },
     "execution_count": 180,
     "metadata": {},
     "output_type": "execute_result"
    },
    {
     "data": {
      "text/plain": [
       "Text(0, 0.5, 'Classification Score')"
      ]
     },
     "execution_count": 180,
     "metadata": {},
     "output_type": "execute_result"
    },
    {
     "data": {
      "text/plain": [
       "<matplotlib.legend.Legend at 0x2361fae1b80>"
      ]
     },
     "execution_count": 180,
     "metadata": {},
     "output_type": "execute_result"
    },
    {
     "data": {
      "image/png": "[encoded data removed]",
      "text/plain": [
       "<Figure size 432x288 with 1 Axes>"
      ]
     },
     "metadata": {
      "needs_background": "light"
     },
     "output_type": "display_data"
    }
   ],
   "source": [
    "# plot learning curve for kNN\n",
    "train_sizes = np.linspace(0.1, 1.0, 5)\n",
    "_, train_scores, test_scores = learning_curve(kNNclassifier, X_train2, y_train2, train_sizes=train_sizes, cv=5)\n",
    "\n",
    "plt.figure()\n",
    "plt.plot(train_sizes, np.mean(train_scores, axis=1), 'o-', label='Training Score')\n",
    "plt.plot(train_sizes, np.mean(test_scores, axis=1), 'o-', label='Cross-Validation Score')\n",
    "plt.title('Grid Data: Learning Curve for kNN Model')\n",
    "plt.xlabel('Fraction of Training Examples')\n",
    "plt.ylabel(\"Classification Score\")\n",
    "plt.legend(loc=\"best\")\n",
    "plt.grid()\n",
    "plt.show()"
   ]
  },
  {
   "cell_type": "code",
   "execution_count": 181,
   "id": "6b6d2fae",
   "metadata": {},
   "outputs": [
    {
     "name": "stdout",
     "output_type": "stream",
     "text": [
      "Evaluation Metrics for Test Dataset\n",
      "*****************************************************\n",
      "Model Training Time (s):   0.03988\n",
      "Model Prediction Time (s): 0.64210\n",
      "\n",
      "F1 Score:  0.86\n",
      "Accuracy:  0.90     AUC:       0.89\n",
      "Precision: 0.88     Recall:    0.83\n",
      "*****************************************************\n"
     ]
    }
   ],
   "source": [
    "# evaluate decision tree model on test dataset\n",
    "kNNclass_best = kNN(n_neighbors = 1, leaf_size = 17)\n",
    "evaluate_test(kNNclass_best, X_train2, X_test, y_train2, y_test)\n"
   ]
  },
  {
   "cell_type": "code",
   "execution_count": 346,
   "id": "cb7cd893",
   "metadata": {},
   "outputs": [
    {
     "data": {
      "text/plain": [
       "SVC(random_state=0)"
      ]
     },
     "execution_count": 346,
     "metadata": {},
     "output_type": "execute_result"
    },
    {
     "name": "stdout",
     "output_type": "stream",
     "text": [
      "The accuracy of SVM prior to hyperparameter training is 99.34364744491326 %.\n"
     ]
    }
   ],
   "source": [
    "### Support Vector Machines (SVM)\n",
    "from sklearn.svm import SVC\n",
    "\n",
    "# SVM before hyperparameter tuning\n",
    "SVM = SVC(random_state=0)\n",
    "SVM.fit(X_train2, y_train2)\n",
    "y_train_pred = SVM.predict(X_train2)\n",
    "SVM_accuracy = accuracy_score(y_train2, y_train_pred)\n",
    "print('The accuracy of SVM prior to hyperparameter training is', SVM_accuracy*100, \"%.\")\n"
   ]
  },
  {
   "cell_type": "code",
   "execution_count": null,
   "id": "1acc3064",
   "metadata": {},
   "outputs": [],
   "source": []
  },
  {
   "cell_type": "code",
   "execution_count": 350,
   "id": "48c17820",
   "metadata": {},
   "outputs": [
    {
     "data": {
      "text/plain": [
       "SVC(kernel='linear', random_state=0)"
      ]
     },
     "execution_count": 350,
     "metadata": {},
     "output_type": "execute_result"
    },
    {
     "name": "stdout",
     "output_type": "stream",
     "text": [
      "Kernel: linear\n",
      "Training Accuracy: 1.00\n",
      "Validation Accuracy: 0.99\n",
      "\n"
     ]
    },
    {
     "data": {
      "text/plain": [
       "SVC(kernel='poly', random_state=0)"
      ]
     },
     "execution_count": 350,
     "metadata": {},
     "output_type": "execute_result"
    },
    {
     "name": "stdout",
     "output_type": "stream",
     "text": [
      "Kernel: poly\n",
      "Training Accuracy: 0.98\n",
      "Validation Accuracy: 0.96\n",
      "\n"
     ]
    },
    {
     "data": {
      "text/plain": [
       "SVC(random_state=0)"
      ]
     },
     "execution_count": 350,
     "metadata": {},
     "output_type": "execute_result"
    },
    {
     "name": "stdout",
     "output_type": "stream",
     "text": [
      "Kernel: rbf\n",
      "Training Accuracy: 0.99\n",
      "Validation Accuracy: 0.99\n",
      "\n"
     ]
    },
    {
     "data": {
      "text/plain": [
       "SVC(kernel='sigmoid', random_state=0)"
      ]
     },
     "execution_count": 350,
     "metadata": {},
     "output_type": "execute_result"
    },
    {
     "name": "stdout",
     "output_type": "stream",
     "text": [
      "Kernel: sigmoid\n",
      "Training Accuracy: 0.95\n",
      "Validation Accuracy: 0.95\n",
      "\n"
     ]
    }
   ],
   "source": [
    "kernel_labels = ['linear', 'poly', 'rbf', 'sigmoid']\n",
    "train_scores, val_scores = [], []\n",
    "\n",
    "for i, kernel in enumerate(kernel_labels):\n",
    "    # Create and train SVM model\n",
    "    SVM = SVC(kernel=kernel, random_state=0)\n",
    "    SVM.fit(X_train2, y_train2)\n",
    "\n",
    "    # Predictions\n",
    "    y_train_pred = SVM.predict(X_train2)\n",
    "    y_val_pred = SVM.predict(X_val)  # Assuming you have a separate validation set\n",
    "\n",
    "    # Calculate accuracy scores\n",
    "    train_accuracy = accuracy_score(y_train2, y_train_pred)\n",
    "    val_accuracy = accuracy_score(y_val, y_val_pred)\n",
    "\n",
    "    train_scores.append(train_accuracy)\n",
    "    val_scores.append(val_accuracy)\n",
    "\n",
    "    print(f'Kernel: {kernel}')\n",
    "    print(f'Training Accuracy: {train_accuracy:.2f}')\n",
    "    print(f'Validation Accuracy: {val_accuracy:.2f}\\n')"
   ]
  },
  {
   "cell_type": "code",
   "execution_count": null,
   "id": "6c1fd32f",
   "metadata": {},
   "outputs": [],
   "source": [
    "def val_kernel(X_train, y_train, title):\n",
    "    kernel_labels = ['linear', 'poly', 'rbf', 'sigmoid']\n",
    "    for i in kernel_labels:\n",
    "        SVM = SVC(kernel = i, random_state=0)\n",
    "        SVM.fit(X_train, y_train)\n",
    "        y_pred = SVM.predict(X_train)\n",
    "        "
   ]
  },
  {
   "cell_type": "code",
   "execution_count": null,
   "id": "56516fb3",
   "metadata": {},
   "outputs": [],
   "source": []
  },
  {
   "cell_type": "code",
   "execution_count": 311,
   "id": "db604608",
   "metadata": {},
   "outputs": [
    {
     "data": {
      "text/plain": [
       "<Figure size 432x288 with 0 Axes>"
      ]
     },
     "execution_count": 311,
     "metadata": {},
     "output_type": "execute_result"
    },
    {
     "data": {
      "text/plain": [
       "[<matplotlib.lines.Line2D at 0x236210ba100>]"
      ]
     },
     "execution_count": 311,
     "metadata": {},
     "output_type": "execute_result"
    },
    {
     "data": {
      "text/plain": [
       "[<matplotlib.lines.Line2D at 0x236210ba4c0>]"
      ]
     },
     "execution_count": 311,
     "metadata": {},
     "output_type": "execute_result"
    },
    {
     "data": {
      "text/plain": [
       "(0.6, 1.2)"
      ]
     },
     "execution_count": 311,
     "metadata": {},
     "output_type": "execute_result"
    },
    {
     "data": {
      "text/plain": [
       "Text(0.5, 1.0, 'Grid Data: Validation Curve for SVM\\nHyperparameter: C')"
      ]
     },
     "execution_count": 311,
     "metadata": {},
     "output_type": "execute_result"
    },
    {
     "data": {
      "text/plain": [
       "Text(0.5, 0, 'C Value')"
      ]
     },
     "execution_count": 311,
     "metadata": {},
     "output_type": "execute_result"
    },
    {
     "data": {
      "text/plain": [
       "Text(0, 0.5, 'Classification Score')"
      ]
     },
     "execution_count": 311,
     "metadata": {},
     "output_type": "execute_result"
    },
    {
     "data": {
      "text/plain": [
       "<matplotlib.legend.Legend at 0x236210ba8b0>"
      ]
     },
     "execution_count": 311,
     "metadata": {},
     "output_type": "execute_result"
    },
    {
     "data": {
      "image/png": "[encoded data removed]",
      "text/plain": [
       "<Figure size 432x288 with 1 Axes>"
      ]
     },
     "metadata": {
      "needs_background": "light"
     },
     "output_type": "display_data"
    }
   ],
   "source": [
    "# decision tree: validation curve for C parameter\n",
    "param_range = np.logspace(-3,3,2)\n",
    "train_scores, test_scores = validation_curve(SVM, X_train2, y_train2, param_name='C', param_range=param_range, cv=5)\n",
    "\n",
    "# plot validation curve\n",
    "plt.figure()\n",
    "plt.plot(param_range, np.mean(train_scores, axis=1), label='Train Score', linewidth=3)\n",
    "plt.plot(param_range, np.mean(test_scores, axis=1), label='Cross-Validation Score', linewidth=2)\n",
    "plt.ylim(0.6,1.2)\n",
    "plt.title('Grid Data: Validation Curve for SVM\\nHyperparameter: C')\n",
    "plt.xlabel('C Value')\n",
    "plt.ylabel('Classification Score')\n",
    "plt.legend(loc='best')\n",
    "plt.grid()\n",
    "plt.show()"
   ]
  },
  {
   "cell_type": "code",
   "execution_count": 201,
   "id": "4bca1506",
   "metadata": {},
   "outputs": [
    {
     "name": "stdout",
     "output_type": "stream",
     "text": [
      "Completed training in 28.782900 seconds\n",
      "Per hyperparameter training, the best parameters are: {'C': 1000.0, 'kernel': 'linear'}\n",
      "Accuracy of SVM is: 98.625 %.\n"
     ]
    }
   ],
   "source": [
    "# find best parameters of SVM and training time\n",
    "def TreeGridSearch(X_train, y_train):\n",
    "    param_grid = {'kernel':kernel_labels, 'C':np.logspace(-3,3,2)}\n",
    "    SVM = GridSearchCV(estimator=SVC(), param_grid=param_grid, cv=5)\n",
    "    t0 = time.time()\n",
    "    SVM.fit(X_train2, y_train2)\n",
    "    t1 = time.time()\n",
    "    train_time[0] = t1 - t0\n",
    "    print('Completed training in %f seconds' % train_time[0])\n",
    "    print(\"Per hyperparameter training, the best parameters are:\", SVM.best_params_)\n",
    "    return SVM.best_params_['kernel'], SVM.best_params_['C']\n",
    "\n",
    "# find best parameters \n",
    "# 20 values of min_samples leaf from 0.5% sample to 5% of training data\n",
    "#start_leaf_n = round(0.005*len(X_train2))\n",
    "#end_leaf_n = round(0.05*len(X_train2)) \n",
    "kernel, C = TreeGridSearch(X_train2, y_train2)\n",
    "\n",
    "y_pred = SVM.predict(X_val)\n",
    "\n",
    "print('Accuracy of SVM is:', accuracy_score(y_val, y_pred)*100, \"%.\")\n",
    "\n"
   ]
  },
  {
   "cell_type": "code",
   "execution_count": 202,
   "id": "0b5938fc",
   "metadata": {},
   "outputs": [
    {
     "data": {
      "text/plain": [
       "<Figure size 432x288 with 0 Axes>"
      ]
     },
     "execution_count": 202,
     "metadata": {},
     "output_type": "execute_result"
    },
    {
     "data": {
      "text/plain": [
       "[<matplotlib.lines.Line2D at 0x23626e3aeb0>]"
      ]
     },
     "execution_count": 202,
     "metadata": {},
     "output_type": "execute_result"
    },
    {
     "data": {
      "text/plain": [
       "[<matplotlib.lines.Line2D at 0x23626e422b0>]"
      ]
     },
     "execution_count": 202,
     "metadata": {},
     "output_type": "execute_result"
    },
    {
     "data": {
      "text/plain": [
       "Text(0.5, 1.0, 'Grid Data: Learning Curve for SVM')"
      ]
     },
     "execution_count": 202,
     "metadata": {},
     "output_type": "execute_result"
    },
    {
     "data": {
      "text/plain": [
       "Text(0.5, 0, 'Fraction of Training Examples')"
      ]
     },
     "execution_count": 202,
     "metadata": {},
     "output_type": "execute_result"
    },
    {
     "data": {
      "text/plain": [
       "Text(0, 0.5, 'Classification Score')"
      ]
     },
     "execution_count": 202,
     "metadata": {},
     "output_type": "execute_result"
    },
    {
     "data": {
      "text/plain": [
       "<matplotlib.legend.Legend at 0x23626e420d0>"
      ]
     },
     "execution_count": 202,
     "metadata": {},
     "output_type": "execute_result"
    },
    {
     "data": {
      "image/png": "[encoded data removed]",
      "text/plain": [
       "<Figure size 432x288 with 1 Axes>"
      ]
     },
     "metadata": {
      "needs_background": "light"
     },
     "output_type": "display_data"
    }
   ],
   "source": [
    "# plot learning curve for SVM\n",
    "train_sizes = np.linspace(0.1, 1.0, 5)\n",
    "_, train_scores, test_scores = learning_curve(SVM, X_train2, y_train2, train_sizes=train_sizes, cv=5)\n",
    "\n",
    "plt.figure()\n",
    "plt.plot(train_sizes, np.mean(train_scores, axis=1), 'o-', label='Training Score')\n",
    "plt.plot(train_sizes, np.mean(test_scores, axis=1), 'o-', label='Cross-Validation Score')\n",
    "plt.title('Grid Data: Learning Curve for SVM')\n",
    "plt.xlabel('Fraction of Training Examples')\n",
    "plt.ylabel(\"Classification Score\")\n",
    "plt.legend(loc=\"best\")\n",
    "plt.grid()\n",
    "plt.show()"
   ]
  },
  {
   "cell_type": "code",
   "execution_count": 204,
   "id": "7ea184e7",
   "metadata": {},
   "outputs": [
    {
     "name": "stdout",
     "output_type": "stream",
     "text": [
      "Evaluation Metrics for Test Dataset\n",
      "*****************************************************\n",
      "Model Training Time (s):   0.43999\n",
      "Model Prediction Time (s): 0.01337\n",
      "\n",
      "F1 Score:  1.00\n",
      "Accuracy:  1.00     AUC:       1.00\n",
      "Precision: 1.00     Recall:    1.00\n",
      "*****************************************************\n"
     ]
    }
   ],
   "source": [
    "# evaluate SVM model on test dataset\n",
    "SVM_best = SVC(kernel='linear', C=1000)\n",
    "evaluate_test(SVM_best, X_train2, X_test, y_train2, y_test)\n"
   ]
  },
  {
   "cell_type": "code",
   "execution_count": 312,
   "id": "f06695cc",
   "metadata": {},
   "outputs": [
    {
     "data": {
      "text/plain": [
       "MLPClassifier(random_state=0)"
      ]
     },
     "execution_count": 312,
     "metadata": {},
     "output_type": "execute_result"
    },
    {
     "name": "stdout",
     "output_type": "stream",
     "text": [
      "The accuracy of the Decision Tree classifier prior to hyperparameter training is 100.0 %.\n"
     ]
    }
   ],
   "source": [
    "### NEURAL NETWORK - GRID DATASET\n",
    "from sklearn.neural_network import MLPClassifier\n",
    "\n",
    "# NN before hyperparameter tuning\n",
    "NN = MLPClassifier(random_state=0)\n",
    "NN.fit(X_train2, y_train2)\n",
    "y_train_pred = NN.predict(X_train2)\n",
    "NN_accuracy = accuracy_score(y_train2, y_train_pred)\n",
    "print('The accuracy of the Decision Tree classifier prior to hyperparameter training is', NN_accuracy*100, '%.')"
   ]
  },
  {
   "cell_type": "code",
   "execution_count": 313,
   "id": "99c61685",
   "metadata": {},
   "outputs": [
    {
     "name": "stderr",
     "output_type": "stream",
     "text": [
      "C:\\Users\\Amulya Cherian\\anaconda3\\lib\\site-packages\\sklearn\\neural_network\\_multilayer_perceptron.py:692: ConvergenceWarning: Stochastic Optimizer: Maximum iterations (200) reached and the optimization hasn't converged yet.\n",
      "  warnings.warn(\n",
      "C:\\Users\\Amulya Cherian\\anaconda3\\lib\\site-packages\\sklearn\\neural_network\\_multilayer_perceptron.py:692: ConvergenceWarning: Stochastic Optimizer: Maximum iterations (200) reached and the optimization hasn't converged yet.\n",
      "  warnings.warn(\n",
      "C:\\Users\\Amulya Cherian\\anaconda3\\lib\\site-packages\\sklearn\\neural_network\\_multilayer_perceptron.py:692: ConvergenceWarning: Stochastic Optimizer: Maximum iterations (200) reached and the optimization hasn't converged yet.\n",
      "  warnings.warn(\n",
      "C:\\Users\\Amulya Cherian\\anaconda3\\lib\\site-packages\\sklearn\\neural_network\\_multilayer_perceptron.py:692: ConvergenceWarning: Stochastic Optimizer: Maximum iterations (200) reached and the optimization hasn't converged yet.\n",
      "  warnings.warn(\n",
      "C:\\Users\\Amulya Cherian\\anaconda3\\lib\\site-packages\\sklearn\\neural_network\\_multilayer_perceptron.py:692: ConvergenceWarning: Stochastic Optimizer: Maximum iterations (200) reached and the optimization hasn't converged yet.\n",
      "  warnings.warn(\n",
      "C:\\Users\\Amulya Cherian\\anaconda3\\lib\\site-packages\\sklearn\\neural_network\\_multilayer_perceptron.py:692: ConvergenceWarning: Stochastic Optimizer: Maximum iterations (200) reached and the optimization hasn't converged yet.\n",
      "  warnings.warn(\n",
      "C:\\Users\\Amulya Cherian\\anaconda3\\lib\\site-packages\\sklearn\\neural_network\\_multilayer_perceptron.py:692: ConvergenceWarning: Stochastic Optimizer: Maximum iterations (200) reached and the optimization hasn't converged yet.\n",
      "  warnings.warn(\n",
      "C:\\Users\\Amulya Cherian\\anaconda3\\lib\\site-packages\\sklearn\\neural_network\\_multilayer_perceptron.py:692: ConvergenceWarning: Stochastic Optimizer: Maximum iterations (200) reached and the optimization hasn't converged yet.\n",
      "  warnings.warn(\n",
      "C:\\Users\\Amulya Cherian\\anaconda3\\lib\\site-packages\\sklearn\\neural_network\\_multilayer_perceptron.py:692: ConvergenceWarning: Stochastic Optimizer: Maximum iterations (200) reached and the optimization hasn't converged yet.\n",
      "  warnings.warn(\n",
      "C:\\Users\\Amulya Cherian\\anaconda3\\lib\\site-packages\\sklearn\\neural_network\\_multilayer_perceptron.py:692: ConvergenceWarning: Stochastic Optimizer: Maximum iterations (200) reached and the optimization hasn't converged yet.\n",
      "  warnings.warn(\n",
      "C:\\Users\\Amulya Cherian\\anaconda3\\lib\\site-packages\\sklearn\\neural_network\\_multilayer_perceptron.py:692: ConvergenceWarning: Stochastic Optimizer: Maximum iterations (200) reached and the optimization hasn't converged yet.\n",
      "  warnings.warn(\n",
      "C:\\Users\\Amulya Cherian\\anaconda3\\lib\\site-packages\\sklearn\\neural_network\\_multilayer_perceptron.py:692: ConvergenceWarning: Stochastic Optimizer: Maximum iterations (200) reached and the optimization hasn't converged yet.\n",
      "  warnings.warn(\n",
      "C:\\Users\\Amulya Cherian\\anaconda3\\lib\\site-packages\\sklearn\\neural_network\\_multilayer_perceptron.py:692: ConvergenceWarning: Stochastic Optimizer: Maximum iterations (200) reached and the optimization hasn't converged yet.\n",
      "  warnings.warn(\n",
      "C:\\Users\\Amulya Cherian\\anaconda3\\lib\\site-packages\\sklearn\\neural_network\\_multilayer_perceptron.py:692: ConvergenceWarning: Stochastic Optimizer: Maximum iterations (200) reached and the optimization hasn't converged yet.\n",
      "  warnings.warn(\n",
      "C:\\Users\\Amulya Cherian\\anaconda3\\lib\\site-packages\\sklearn\\neural_network\\_multilayer_perceptron.py:692: ConvergenceWarning: Stochastic Optimizer: Maximum iterations (200) reached and the optimization hasn't converged yet.\n",
      "  warnings.warn(\n"
     ]
    },
    {
     "data": {
      "text/plain": [
       "<Figure size 432x288 with 0 Axes>"
      ]
     },
     "execution_count": 313,
     "metadata": {},
     "output_type": "execute_result"
    },
    {
     "data": {
      "text/plain": [
       "[<matplotlib.lines.Line2D at 0x236210468e0>]"
      ]
     },
     "execution_count": 313,
     "metadata": {},
     "output_type": "execute_result"
    },
    {
     "data": {
      "text/plain": [
       "[<matplotlib.lines.Line2D at 0x23621046ca0>]"
      ]
     },
     "execution_count": 313,
     "metadata": {},
     "output_type": "execute_result"
    },
    {
     "data": {
      "text/plain": [
       "(0.6, 1.2)"
      ]
     },
     "execution_count": 313,
     "metadata": {},
     "output_type": "execute_result"
    },
    {
     "data": {
      "text/plain": [
       "Text(0.5, 1.0, 'Grid Data: Validation Curve for Neural Network\\nHyperparameter: Number of Layers')"
      ]
     },
     "execution_count": 313,
     "metadata": {},
     "output_type": "execute_result"
    },
    {
     "data": {
      "text/plain": [
       "Text(0.5, 0, 'Number of Layers')"
      ]
     },
     "execution_count": 313,
     "metadata": {},
     "output_type": "execute_result"
    },
    {
     "data": {
      "text/plain": [
       "Text(0, 0.5, 'Classification Score')"
      ]
     },
     "execution_count": 313,
     "metadata": {},
     "output_type": "execute_result"
    },
    {
     "data": {
      "text/plain": [
       "<matplotlib.legend.Legend at 0x23621046e80>"
      ]
     },
     "execution_count": 313,
     "metadata": {},
     "output_type": "execute_result"
    },
    {
     "data": {
      "image/png": "[encoded data removed]",
      "text/plain": [
       "<Figure size 432x288 with 1 Axes>"
      ]
     },
     "metadata": {
      "needs_background": "light"
     },
     "output_type": "display_data"
    }
   ],
   "source": [
    "# NN: validation curve for number of layers\n",
    "param_range = [1,2,3]\n",
    "train_scores, test_scores = validation_curve(NN, X_train2, y_train2, param_name='hidden_layer_sizes', param_range=param_range, cv=5)\n",
    "\n",
    "# plot validation curve\n",
    "plt.figure()\n",
    "plt.plot(param_range, np.mean(train_scores, axis=1), label='Train Score', linewidth=3)\n",
    "plt.plot(param_range, np.mean(test_scores, axis=1), label='Cross-Validation Score', linewidth=1.5)\n",
    "plt.ylim(0.6,1.2)\n",
    "plt.title('Grid Data: Validation Curve for Neural Network\\nHyperparameter: Number of Layers')\n",
    "plt.xlabel('Number of Layers')\n",
    "plt.ylabel('Classification Score')\n",
    "plt.legend(loc='best')\n",
    "plt.grid()\n",
    "plt.show()"
   ]
  },
  {
   "cell_type": "code",
   "execution_count": 314,
   "id": "ea5e6395",
   "metadata": {},
   "outputs": [
    {
     "name": "stderr",
     "output_type": "stream",
     "text": [
      "C:\\Users\\Amulya Cherian\\anaconda3\\lib\\site-packages\\sklearn\\neural_network\\_multilayer_perceptron.py:692: ConvergenceWarning: Stochastic Optimizer: Maximum iterations (200) reached and the optimization hasn't converged yet.\n",
      "  warnings.warn(\n",
      "C:\\Users\\Amulya Cherian\\anaconda3\\lib\\site-packages\\sklearn\\neural_network\\_multilayer_perceptron.py:692: ConvergenceWarning: Stochastic Optimizer: Maximum iterations (200) reached and the optimization hasn't converged yet.\n",
      "  warnings.warn(\n"
     ]
    },
    {
     "data": {
      "text/plain": [
       "<Figure size 432x288 with 0 Axes>"
      ]
     },
     "execution_count": 314,
     "metadata": {},
     "output_type": "execute_result"
    },
    {
     "data": {
      "text/plain": [
       "[<matplotlib.lines.Line2D at 0x2361eb71670>]"
      ]
     },
     "execution_count": 314,
     "metadata": {},
     "output_type": "execute_result"
    },
    {
     "data": {
      "text/plain": [
       "[<matplotlib.lines.Line2D at 0x2361eb71940>]"
      ]
     },
     "execution_count": 314,
     "metadata": {},
     "output_type": "execute_result"
    },
    {
     "data": {
      "text/plain": [
       "(0.6, 1.2)"
      ]
     },
     "execution_count": 314,
     "metadata": {},
     "output_type": "execute_result"
    },
    {
     "data": {
      "text/plain": [
       "Text(0.5, 1.0, 'Grid Data: Validation Curve for Neural Network\\nHyperparameter: Learning Rate')"
      ]
     },
     "execution_count": 314,
     "metadata": {},
     "output_type": "execute_result"
    },
    {
     "data": {
      "text/plain": [
       "Text(0.5, 0, 'Learning Rate')"
      ]
     },
     "execution_count": 314,
     "metadata": {},
     "output_type": "execute_result"
    },
    {
     "data": {
      "text/plain": [
       "Text(0, 0.5, 'Classification Score')"
      ]
     },
     "execution_count": 314,
     "metadata": {},
     "output_type": "execute_result"
    },
    {
     "data": {
      "text/plain": [
       "<matplotlib.legend.Legend at 0x2362299d610>"
      ]
     },
     "execution_count": 314,
     "metadata": {},
     "output_type": "execute_result"
    },
    {
     "data": {
      "image/png": "[encoded data removed]",
      "text/plain": [
       "<Figure size 432x288 with 1 Axes>"
      ]
     },
     "metadata": {
      "needs_background": "light"
     },
     "output_type": "display_data"
    }
   ],
   "source": [
    "# NN: validation curve for learning rate\n",
    "param_range = np.logspace(-3,0,4)\n",
    "train_scores, test_scores = validation_curve(NN, X_train2, y_train2, param_name='learning_rate_init', param_range=param_range, cv=5)\n",
    "\n",
    "# plot validation curve\n",
    "plt.figure()\n",
    "plt.plot(param_range, np.mean(train_scores, axis=1), label='Train Score', linewidth=3)\n",
    "plt.plot(param_range, np.mean(test_scores, axis=1), label='Cross-Validation Score', linewidth=1.5)\n",
    "plt.ylim(0.6,1.2)\n",
    "plt.title('Grid Data: Validation Curve for Neural Network\\nHyperparameter: Learning Rate')\n",
    "plt.xlabel('Learning Rate')\n",
    "plt.ylabel('Classification Score')\n",
    "plt.legend(loc='best')\n",
    "plt.grid()\n",
    "plt.show()"
   ]
  },
  {
   "cell_type": "code",
   "execution_count": 214,
   "id": "d876f96a",
   "metadata": {},
   "outputs": [
    {
     "name": "stderr",
     "output_type": "stream",
     "text": [
      "C:\\Users\\Amulya Cherian\\anaconda3\\lib\\site-packages\\sklearn\\neural_network\\_multilayer_perceptron.py:692: ConvergenceWarning: Stochastic Optimizer: Maximum iterations (200) reached and the optimization hasn't converged yet.\n",
      "  warnings.warn(\n",
      "C:\\Users\\Amulya Cherian\\anaconda3\\lib\\site-packages\\sklearn\\neural_network\\_multilayer_perceptron.py:692: ConvergenceWarning: Stochastic Optimizer: Maximum iterations (200) reached and the optimization hasn't converged yet.\n",
      "  warnings.warn(\n",
      "C:\\Users\\Amulya Cherian\\anaconda3\\lib\\site-packages\\sklearn\\neural_network\\_multilayer_perceptron.py:692: ConvergenceWarning: Stochastic Optimizer: Maximum iterations (200) reached and the optimization hasn't converged yet.\n",
      "  warnings.warn(\n",
      "C:\\Users\\Amulya Cherian\\anaconda3\\lib\\site-packages\\sklearn\\neural_network\\_multilayer_perceptron.py:692: ConvergenceWarning: Stochastic Optimizer: Maximum iterations (200) reached and the optimization hasn't converged yet.\n",
      "  warnings.warn(\n",
      "C:\\Users\\Amulya Cherian\\anaconda3\\lib\\site-packages\\sklearn\\neural_network\\_multilayer_perceptron.py:692: ConvergenceWarning: Stochastic Optimizer: Maximum iterations (200) reached and the optimization hasn't converged yet.\n",
      "  warnings.warn(\n",
      "C:\\Users\\Amulya Cherian\\anaconda3\\lib\\site-packages\\sklearn\\neural_network\\_multilayer_perceptron.py:692: ConvergenceWarning: Stochastic Optimizer: Maximum iterations (200) reached and the optimization hasn't converged yet.\n",
      "  warnings.warn(\n",
      "C:\\Users\\Amulya Cherian\\anaconda3\\lib\\site-packages\\sklearn\\neural_network\\_multilayer_perceptron.py:692: ConvergenceWarning: Stochastic Optimizer: Maximum iterations (200) reached and the optimization hasn't converged yet.\n",
      "  warnings.warn(\n",
      "C:\\Users\\Amulya Cherian\\anaconda3\\lib\\site-packages\\sklearn\\neural_network\\_multilayer_perceptron.py:692: ConvergenceWarning: Stochastic Optimizer: Maximum iterations (200) reached and the optimization hasn't converged yet.\n",
      "  warnings.warn(\n",
      "C:\\Users\\Amulya Cherian\\anaconda3\\lib\\site-packages\\sklearn\\neural_network\\_multilayer_perceptron.py:692: ConvergenceWarning: Stochastic Optimizer: Maximum iterations (200) reached and the optimization hasn't converged yet.\n",
      "  warnings.warn(\n",
      "C:\\Users\\Amulya Cherian\\anaconda3\\lib\\site-packages\\sklearn\\neural_network\\_multilayer_perceptron.py:692: ConvergenceWarning: Stochastic Optimizer: Maximum iterations (200) reached and the optimization hasn't converged yet.\n",
      "  warnings.warn(\n",
      "C:\\Users\\Amulya Cherian\\anaconda3\\lib\\site-packages\\sklearn\\neural_network\\_multilayer_perceptron.py:692: ConvergenceWarning: Stochastic Optimizer: Maximum iterations (200) reached and the optimization hasn't converged yet.\n",
      "  warnings.warn(\n",
      "C:\\Users\\Amulya Cherian\\anaconda3\\lib\\site-packages\\sklearn\\neural_network\\_multilayer_perceptron.py:692: ConvergenceWarning: Stochastic Optimizer: Maximum iterations (200) reached and the optimization hasn't converged yet.\n",
      "  warnings.warn(\n",
      "C:\\Users\\Amulya Cherian\\anaconda3\\lib\\site-packages\\sklearn\\neural_network\\_multilayer_perceptron.py:692: ConvergenceWarning: Stochastic Optimizer: Maximum iterations (200) reached and the optimization hasn't converged yet.\n",
      "  warnings.warn(\n",
      "C:\\Users\\Amulya Cherian\\anaconda3\\lib\\site-packages\\sklearn\\neural_network\\_multilayer_perceptron.py:692: ConvergenceWarning: Stochastic Optimizer: Maximum iterations (200) reached and the optimization hasn't converged yet.\n",
      "  warnings.warn(\n",
      "C:\\Users\\Amulya Cherian\\anaconda3\\lib\\site-packages\\sklearn\\neural_network\\_multilayer_perceptron.py:692: ConvergenceWarning: Stochastic Optimizer: Maximum iterations (200) reached and the optimization hasn't converged yet.\n",
      "  warnings.warn(\n",
      "C:\\Users\\Amulya Cherian\\anaconda3\\lib\\site-packages\\sklearn\\neural_network\\_multilayer_perceptron.py:692: ConvergenceWarning: Stochastic Optimizer: Maximum iterations (200) reached and the optimization hasn't converged yet.\n",
      "  warnings.warn(\n",
      "C:\\Users\\Amulya Cherian\\anaconda3\\lib\\site-packages\\sklearn\\neural_network\\_multilayer_perceptron.py:692: ConvergenceWarning: Stochastic Optimizer: Maximum iterations (200) reached and the optimization hasn't converged yet.\n",
      "  warnings.warn(\n",
      "C:\\Users\\Amulya Cherian\\anaconda3\\lib\\site-packages\\sklearn\\neural_network\\_multilayer_perceptron.py:692: ConvergenceWarning: Stochastic Optimizer: Maximum iterations (200) reached and the optimization hasn't converged yet.\n",
      "  warnings.warn(\n",
      "C:\\Users\\Amulya Cherian\\anaconda3\\lib\\site-packages\\sklearn\\neural_network\\_multilayer_perceptron.py:692: ConvergenceWarning: Stochastic Optimizer: Maximum iterations (200) reached and the optimization hasn't converged yet.\n",
      "  warnings.warn(\n",
      "C:\\Users\\Amulya Cherian\\anaconda3\\lib\\site-packages\\sklearn\\neural_network\\_multilayer_perceptron.py:692: ConvergenceWarning: Stochastic Optimizer: Maximum iterations (200) reached and the optimization hasn't converged yet.\n",
      "  warnings.warn(\n"
     ]
    },
    {
     "name": "stdout",
     "output_type": "stream",
     "text": [
      "Completed training in 73.613286 seconds\n",
      "Per hyperparameter training, the best parameters are: {'hidden_layer_sizes': 1, 'learning_rate_init': 0.01}\n",
      "Accuracy of the Neural Network is: 99.75 %.\n"
     ]
    },
    {
     "name": "stderr",
     "output_type": "stream",
     "text": [
      "C:\\Users\\Amulya Cherian\\anaconda3\\lib\\site-packages\\sklearn\\neural_network\\_multilayer_perceptron.py:692: ConvergenceWarning: Stochastic Optimizer: Maximum iterations (200) reached and the optimization hasn't converged yet.\n",
      "  warnings.warn(\n"
     ]
    }
   ],
   "source": [
    "# NN: find best parameters \n",
    "def TreeGridSearch(X_train, y_train):\n",
    "    param_grid = {'hidden_layer_sizes':[1,2,3], 'learning_rate_init':np.logspace(-3,0,4)}\n",
    "    NN = GridSearchCV(estimator=MLPClassifier(), param_grid=param_grid, cv=5)\n",
    "    t0 = time.time()\n",
    "    NN.fit(X_train2, y_train2)\n",
    "    t1 = time.time()\n",
    "    train_time[0] = t1 - t0\n",
    "    print('Completed training in %f seconds' % train_time[0])\n",
    "    print('Per hyperparameter training, the best parameters are:', NN.best_params_)\n",
    "    return NN.best_params_['hidden_layer_sizes'], NN.best_params_['learning_rate_init']\n",
    "\n",
    "hidden_layer_sizes, learning_rate_init = TreeGridSearch(X_train2, y_train2)\n",
    "y_pred = NN.predict(X_val)\n",
    "\n",
    "print('Accuracy of the Neural Network is:', accuracy_score(y_val, y_pred)*100, '%.')"
   ]
  },
  {
   "cell_type": "code",
   "execution_count": 215,
   "id": "f17b8ba4",
   "metadata": {},
   "outputs": [
    {
     "name": "stderr",
     "output_type": "stream",
     "text": [
      "C:\\Users\\Amulya Cherian\\anaconda3\\lib\\site-packages\\sklearn\\neural_network\\_multilayer_perceptron.py:692: ConvergenceWarning: Stochastic Optimizer: Maximum iterations (200) reached and the optimization hasn't converged yet.\n",
      "  warnings.warn(\n",
      "C:\\Users\\Amulya Cherian\\anaconda3\\lib\\site-packages\\sklearn\\neural_network\\_multilayer_perceptron.py:692: ConvergenceWarning: Stochastic Optimizer: Maximum iterations (200) reached and the optimization hasn't converged yet.\n",
      "  warnings.warn(\n",
      "C:\\Users\\Amulya Cherian\\anaconda3\\lib\\site-packages\\sklearn\\neural_network\\_multilayer_perceptron.py:692: ConvergenceWarning: Stochastic Optimizer: Maximum iterations (200) reached and the optimization hasn't converged yet.\n",
      "  warnings.warn(\n",
      "C:\\Users\\Amulya Cherian\\anaconda3\\lib\\site-packages\\sklearn\\neural_network\\_multilayer_perceptron.py:692: ConvergenceWarning: Stochastic Optimizer: Maximum iterations (200) reached and the optimization hasn't converged yet.\n",
      "  warnings.warn(\n",
      "C:\\Users\\Amulya Cherian\\anaconda3\\lib\\site-packages\\sklearn\\neural_network\\_multilayer_perceptron.py:692: ConvergenceWarning: Stochastic Optimizer: Maximum iterations (200) reached and the optimization hasn't converged yet.\n",
      "  warnings.warn(\n",
      "C:\\Users\\Amulya Cherian\\anaconda3\\lib\\site-packages\\sklearn\\neural_network\\_multilayer_perceptron.py:692: ConvergenceWarning: Stochastic Optimizer: Maximum iterations (200) reached and the optimization hasn't converged yet.\n",
      "  warnings.warn(\n",
      "C:\\Users\\Amulya Cherian\\anaconda3\\lib\\site-packages\\sklearn\\neural_network\\_multilayer_perceptron.py:692: ConvergenceWarning: Stochastic Optimizer: Maximum iterations (200) reached and the optimization hasn't converged yet.\n",
      "  warnings.warn(\n",
      "C:\\Users\\Amulya Cherian\\anaconda3\\lib\\site-packages\\sklearn\\neural_network\\_multilayer_perceptron.py:692: ConvergenceWarning: Stochastic Optimizer: Maximum iterations (200) reached and the optimization hasn't converged yet.\n",
      "  warnings.warn(\n",
      "C:\\Users\\Amulya Cherian\\anaconda3\\lib\\site-packages\\sklearn\\neural_network\\_multilayer_perceptron.py:692: ConvergenceWarning: Stochastic Optimizer: Maximum iterations (200) reached and the optimization hasn't converged yet.\n",
      "  warnings.warn(\n",
      "C:\\Users\\Amulya Cherian\\anaconda3\\lib\\site-packages\\sklearn\\neural_network\\_multilayer_perceptron.py:692: ConvergenceWarning: Stochastic Optimizer: Maximum iterations (200) reached and the optimization hasn't converged yet.\n",
      "  warnings.warn(\n",
      "C:\\Users\\Amulya Cherian\\anaconda3\\lib\\site-packages\\sklearn\\neural_network\\_multilayer_perceptron.py:692: ConvergenceWarning: Stochastic Optimizer: Maximum iterations (200) reached and the optimization hasn't converged yet.\n",
      "  warnings.warn(\n",
      "C:\\Users\\Amulya Cherian\\anaconda3\\lib\\site-packages\\sklearn\\neural_network\\_multilayer_perceptron.py:692: ConvergenceWarning: Stochastic Optimizer: Maximum iterations (200) reached and the optimization hasn't converged yet.\n",
      "  warnings.warn(\n",
      "C:\\Users\\Amulya Cherian\\anaconda3\\lib\\site-packages\\sklearn\\neural_network\\_multilayer_perceptron.py:692: ConvergenceWarning: Stochastic Optimizer: Maximum iterations (200) reached and the optimization hasn't converged yet.\n",
      "  warnings.warn(\n",
      "C:\\Users\\Amulya Cherian\\anaconda3\\lib\\site-packages\\sklearn\\neural_network\\_multilayer_perceptron.py:692: ConvergenceWarning: Stochastic Optimizer: Maximum iterations (200) reached and the optimization hasn't converged yet.\n",
      "  warnings.warn(\n",
      "C:\\Users\\Amulya Cherian\\anaconda3\\lib\\site-packages\\sklearn\\neural_network\\_multilayer_perceptron.py:692: ConvergenceWarning: Stochastic Optimizer: Maximum iterations (200) reached and the optimization hasn't converged yet.\n",
      "  warnings.warn(\n",
      "C:\\Users\\Amulya Cherian\\anaconda3\\lib\\site-packages\\sklearn\\neural_network\\_multilayer_perceptron.py:692: ConvergenceWarning: Stochastic Optimizer: Maximum iterations (200) reached and the optimization hasn't converged yet.\n",
      "  warnings.warn(\n",
      "C:\\Users\\Amulya Cherian\\anaconda3\\lib\\site-packages\\sklearn\\neural_network\\_multilayer_perceptron.py:692: ConvergenceWarning: Stochastic Optimizer: Maximum iterations (200) reached and the optimization hasn't converged yet.\n",
      "  warnings.warn(\n",
      "C:\\Users\\Amulya Cherian\\anaconda3\\lib\\site-packages\\sklearn\\neural_network\\_multilayer_perceptron.py:692: ConvergenceWarning: Stochastic Optimizer: Maximum iterations (200) reached and the optimization hasn't converged yet.\n",
      "  warnings.warn(\n",
      "C:\\Users\\Amulya Cherian\\anaconda3\\lib\\site-packages\\sklearn\\neural_network\\_multilayer_perceptron.py:692: ConvergenceWarning: Stochastic Optimizer: Maximum iterations (200) reached and the optimization hasn't converged yet.\n",
      "  warnings.warn(\n",
      "C:\\Users\\Amulya Cherian\\anaconda3\\lib\\site-packages\\sklearn\\neural_network\\_multilayer_perceptron.py:692: ConvergenceWarning: Stochastic Optimizer: Maximum iterations (200) reached and the optimization hasn't converged yet.\n",
      "  warnings.warn(\n"
     ]
    },
    {
     "data": {
      "text/plain": [
       "<Figure size 432x288 with 0 Axes>"
      ]
     },
     "execution_count": 215,
     "metadata": {},
     "output_type": "execute_result"
    },
    {
     "data": {
      "text/plain": [
       "[<matplotlib.lines.Line2D at 0x23628270580>]"
      ]
     },
     "execution_count": 215,
     "metadata": {},
     "output_type": "execute_result"
    },
    {
     "data": {
      "text/plain": [
       "[<matplotlib.lines.Line2D at 0x236282707c0>]"
      ]
     },
     "execution_count": 215,
     "metadata": {},
     "output_type": "execute_result"
    },
    {
     "data": {
      "text/plain": [
       "Text(0.5, 1.0, 'Grid Data: Learning Curve for Neural Network')"
      ]
     },
     "execution_count": 215,
     "metadata": {},
     "output_type": "execute_result"
    },
    {
     "data": {
      "text/plain": [
       "Text(0.5, 0, 'Fraction of Training Examples')"
      ]
     },
     "execution_count": 215,
     "metadata": {},
     "output_type": "execute_result"
    },
    {
     "data": {
      "text/plain": [
       "Text(0, 0.5, 'Classification Score')"
      ]
     },
     "execution_count": 215,
     "metadata": {},
     "output_type": "execute_result"
    },
    {
     "data": {
      "text/plain": [
       "<matplotlib.legend.Legend at 0x236281c8ac0>"
      ]
     },
     "execution_count": 215,
     "metadata": {},
     "output_type": "execute_result"
    },
    {
     "data": {
      "image/png": "[encoded data removed]",
      "text/plain": [
       "<Figure size 432x288 with 1 Axes>"
      ]
     },
     "metadata": {
      "needs_background": "light"
     },
     "output_type": "display_data"
    }
   ],
   "source": [
    "# NN: plot learning curve\n",
    "train_sizes = np.linspace(0.1, 1.0, 5)\n",
    "_, train_scores, test_scores = learning_curve(NN, X_train2, y_train2, train_sizes=train_sizes, cv=5)\n",
    "\n",
    "plt.figure()\n",
    "plt.plot(train_sizes, np.mean(train_scores, axis=1), 'o-', label='Training Score')\n",
    "plt.plot(train_sizes, np.mean(test_scores, axis=1), 'o-', label='Cross-Validation Score')\n",
    "plt.title('Grid Data: Learning Curve for Neural Network')\n",
    "plt.xlabel('Fraction of Training Examples')\n",
    "plt.ylabel('Classification Score')\n",
    "plt.legend(loc='best')\n",
    "plt.grid()\n",
    "plt.show()"
   ]
  },
  {
   "cell_type": "code",
   "execution_count": 216,
   "id": "f706f813",
   "metadata": {
    "scrolled": true
   },
   "outputs": [
    {
     "name": "stdout",
     "output_type": "stream",
     "text": [
      "Evaluation Metrics for Test Dataset\n",
      "*****************************************************\n",
      "Model Training Time (s):   1.73237\n",
      "Model Prediction Time (s): 0.00539\n",
      "\n",
      "F1 Score:  1.00\n",
      "Accuracy:  1.00     AUC:       1.00\n",
      "Precision: 1.00     Recall:    0.99\n",
      "*****************************************************\n"
     ]
    }
   ],
   "source": [
    "# evaluate decision tree model on test dataset\n",
    "NN_best = MLPClassifier(hidden_layer_sizes = 1, learning_rate_init = 0.01, random_state = 0)\n",
    "evaluate_test(NN_best, X_train2, X_test, y_train2, y_test)\n"
   ]
  },
  {
   "cell_type": "code",
   "execution_count": null,
   "id": "460397f7",
   "metadata": {},
   "outputs": [],
   "source": [
    "# buffer zone"
   ]
  },
  {
   "cell_type": "code",
   "execution_count": 351,
   "id": "c3cabde1",
   "metadata": {},
   "outputs": [
    {
     "data": {
      "text/plain": [
       "dict_keys(['data', 'target', 'frame', 'target_names', 'DESCR', 'feature_names', 'filename', 'data_module'])"
      ]
     },
     "execution_count": 351,
     "metadata": {},
     "output_type": "execute_result"
    }
   ],
   "source": [
    "### WISCONSIN BREAST CANCER DATASET \n",
    "from sklearn.datasets import load_breast_cancer\n",
    "bc = load_breast_cancer()\n",
    "bc.keys()"
   ]
  },
  {
   "cell_type": "code",
   "execution_count": 352,
   "id": "f406b0b4",
   "metadata": {
    "scrolled": true
   },
   "outputs": [
    {
     "data": {
      "text/plain": [
       "1    357\n",
       "0    212\n",
       "Name: target, dtype: int64"
      ]
     },
     "execution_count": 352,
     "metadata": {},
     "output_type": "execute_result"
    },
    {
     "data": {
      "text/html": [
       "<div>\n",
       "<style scoped>\n",
       "    .dataframe tbody tr th:only-of-type {\n",
       "        vertical-align: middle;\n",
       "    }\n",
       "\n",
       "    .dataframe tbody tr th {\n",
       "        vertical-align: top;\n",
       "    }\n",
       "\n",
       "    .dataframe thead th {\n",
       "        text-align: right;\n",
       "    }\n",
       "</style>\n",
       "<table border=\"1\" class=\"dataframe\">\n",
       "  <thead>\n",
       "    <tr style=\"text-align: right;\">\n",
       "      <th></th>\n",
       "      <th>mean radius</th>\n",
       "      <th>mean texture</th>\n",
       "      <th>mean perimeter</th>\n",
       "      <th>mean area</th>\n",
       "      <th>mean smoothness</th>\n",
       "      <th>mean compactness</th>\n",
       "      <th>mean concavity</th>\n",
       "      <th>mean concave points</th>\n",
       "      <th>mean symmetry</th>\n",
       "      <th>mean fractal dimension</th>\n",
       "      <th>...</th>\n",
       "      <th>worst texture</th>\n",
       "      <th>worst perimeter</th>\n",
       "      <th>worst area</th>\n",
       "      <th>worst smoothness</th>\n",
       "      <th>worst compactness</th>\n",
       "      <th>worst concavity</th>\n",
       "      <th>worst concave points</th>\n",
       "      <th>worst symmetry</th>\n",
       "      <th>worst fractal dimension</th>\n",
       "      <th>target</th>\n",
       "    </tr>\n",
       "  </thead>\n",
       "  <tbody>\n",
       "    <tr>\n",
       "      <th>0</th>\n",
       "      <td>17.99</td>\n",
       "      <td>10.38</td>\n",
       "      <td>122.80</td>\n",
       "      <td>1001.0</td>\n",
       "      <td>0.11840</td>\n",
       "      <td>0.27760</td>\n",
       "      <td>0.3001</td>\n",
       "      <td>0.14710</td>\n",
       "      <td>0.2419</td>\n",
       "      <td>0.07871</td>\n",
       "      <td>...</td>\n",
       "      <td>17.33</td>\n",
       "      <td>184.60</td>\n",
       "      <td>2019.0</td>\n",
       "      <td>0.1622</td>\n",
       "      <td>0.6656</td>\n",
       "      <td>0.7119</td>\n",
       "      <td>0.2654</td>\n",
       "      <td>0.4601</td>\n",
       "      <td>0.11890</td>\n",
       "      <td>0</td>\n",
       "    </tr>\n",
       "    <tr>\n",
       "      <th>1</th>\n",
       "      <td>20.57</td>\n",
       "      <td>17.77</td>\n",
       "      <td>132.90</td>\n",
       "      <td>1326.0</td>\n",
       "      <td>0.08474</td>\n",
       "      <td>0.07864</td>\n",
       "      <td>0.0869</td>\n",
       "      <td>0.07017</td>\n",
       "      <td>0.1812</td>\n",
       "      <td>0.05667</td>\n",
       "      <td>...</td>\n",
       "      <td>23.41</td>\n",
       "      <td>158.80</td>\n",
       "      <td>1956.0</td>\n",
       "      <td>0.1238</td>\n",
       "      <td>0.1866</td>\n",
       "      <td>0.2416</td>\n",
       "      <td>0.1860</td>\n",
       "      <td>0.2750</td>\n",
       "      <td>0.08902</td>\n",
       "      <td>0</td>\n",
       "    </tr>\n",
       "    <tr>\n",
       "      <th>2</th>\n",
       "      <td>19.69</td>\n",
       "      <td>21.25</td>\n",
       "      <td>130.00</td>\n",
       "      <td>1203.0</td>\n",
       "      <td>0.10960</td>\n",
       "      <td>0.15990</td>\n",
       "      <td>0.1974</td>\n",
       "      <td>0.12790</td>\n",
       "      <td>0.2069</td>\n",
       "      <td>0.05999</td>\n",
       "      <td>...</td>\n",
       "      <td>25.53</td>\n",
       "      <td>152.50</td>\n",
       "      <td>1709.0</td>\n",
       "      <td>0.1444</td>\n",
       "      <td>0.4245</td>\n",
       "      <td>0.4504</td>\n",
       "      <td>0.2430</td>\n",
       "      <td>0.3613</td>\n",
       "      <td>0.08758</td>\n",
       "      <td>0</td>\n",
       "    </tr>\n",
       "    <tr>\n",
       "      <th>3</th>\n",
       "      <td>11.42</td>\n",
       "      <td>20.38</td>\n",
       "      <td>77.58</td>\n",
       "      <td>386.1</td>\n",
       "      <td>0.14250</td>\n",
       "      <td>0.28390</td>\n",
       "      <td>0.2414</td>\n",
       "      <td>0.10520</td>\n",
       "      <td>0.2597</td>\n",
       "      <td>0.09744</td>\n",
       "      <td>...</td>\n",
       "      <td>26.50</td>\n",
       "      <td>98.87</td>\n",
       "      <td>567.7</td>\n",
       "      <td>0.2098</td>\n",
       "      <td>0.8663</td>\n",
       "      <td>0.6869</td>\n",
       "      <td>0.2575</td>\n",
       "      <td>0.6638</td>\n",
       "      <td>0.17300</td>\n",
       "      <td>0</td>\n",
       "    </tr>\n",
       "    <tr>\n",
       "      <th>4</th>\n",
       "      <td>20.29</td>\n",
       "      <td>14.34</td>\n",
       "      <td>135.10</td>\n",
       "      <td>1297.0</td>\n",
       "      <td>0.10030</td>\n",
       "      <td>0.13280</td>\n",
       "      <td>0.1980</td>\n",
       "      <td>0.10430</td>\n",
       "      <td>0.1809</td>\n",
       "      <td>0.05883</td>\n",
       "      <td>...</td>\n",
       "      <td>16.67</td>\n",
       "      <td>152.20</td>\n",
       "      <td>1575.0</td>\n",
       "      <td>0.1374</td>\n",
       "      <td>0.2050</td>\n",
       "      <td>0.4000</td>\n",
       "      <td>0.1625</td>\n",
       "      <td>0.2364</td>\n",
       "      <td>0.07678</td>\n",
       "      <td>0</td>\n",
       "    </tr>\n",
       "  </tbody>\n",
       "</table>\n",
       "<p>5 rows × 31 columns</p>\n",
       "</div>"
      ],
      "text/plain": [
       "   mean radius  mean texture  mean perimeter  mean area  mean smoothness  \\\n",
       "0        17.99         10.38          122.80     1001.0          0.11840   \n",
       "1        20.57         17.77          132.90     1326.0          0.08474   \n",
       "2        19.69         21.25          130.00     1203.0          0.10960   \n",
       "3        11.42         20.38           77.58      386.1          0.14250   \n",
       "4        20.29         14.34          135.10     1297.0          0.10030   \n",
       "\n",
       "   mean compactness  mean concavity  mean concave points  mean symmetry  \\\n",
       "0           0.27760          0.3001              0.14710         0.2419   \n",
       "1           0.07864          0.0869              0.07017         0.1812   \n",
       "2           0.15990          0.1974              0.12790         0.2069   \n",
       "3           0.28390          0.2414              0.10520         0.2597   \n",
       "4           0.13280          0.1980              0.10430         0.1809   \n",
       "\n",
       "   mean fractal dimension  ...  worst texture  worst perimeter  worst area  \\\n",
       "0                 0.07871  ...          17.33           184.60      2019.0   \n",
       "1                 0.05667  ...          23.41           158.80      1956.0   \n",
       "2                 0.05999  ...          25.53           152.50      1709.0   \n",
       "3                 0.09744  ...          26.50            98.87       567.7   \n",
       "4                 0.05883  ...          16.67           152.20      1575.0   \n",
       "\n",
       "   worst smoothness  worst compactness  worst concavity  worst concave points  \\\n",
       "0            0.1622             0.6656           0.7119                0.2654   \n",
       "1            0.1238             0.1866           0.2416                0.1860   \n",
       "2            0.1444             0.4245           0.4504                0.2430   \n",
       "3            0.2098             0.8663           0.6869                0.2575   \n",
       "4            0.1374             0.2050           0.4000                0.1625   \n",
       "\n",
       "   worst symmetry  worst fractal dimension  target  \n",
       "0          0.4601                  0.11890       0  \n",
       "1          0.2750                  0.08902       0  \n",
       "2          0.3613                  0.08758       0  \n",
       "3          0.6638                  0.17300       0  \n",
       "4          0.2364                  0.07678       0  \n",
       "\n",
       "[5 rows x 31 columns]"
      ]
     },
     "execution_count": 352,
     "metadata": {},
     "output_type": "execute_result"
    }
   ],
   "source": [
    "wisc_features = pd.DataFrame(bc.data, columns = bc.feature_names)\n",
    "wisc_target = pd.DataFrame(bc.target, columns=['target'])\n",
    "wisc_target['target'].value_counts()\n",
    "# form final dataset\n",
    "wisc = pd.concat([wisc_features, wisc_target], axis=1)\n",
    "wisc.head()"
   ]
  },
  {
   "cell_type": "code",
   "execution_count": 353,
   "id": "d627ba13",
   "metadata": {},
   "outputs": [
    {
     "name": "stdout",
     "output_type": "stream",
     "text": [
      "Missing Values:\n",
      " mean radius                0\n",
      "mean texture               0\n",
      "mean perimeter             0\n",
      "mean area                  0\n",
      "mean smoothness            0\n",
      "mean compactness           0\n",
      "mean concavity             0\n",
      "mean concave points        0\n",
      "mean symmetry              0\n",
      "mean fractal dimension     0\n",
      "radius error               0\n",
      "texture error              0\n",
      "perimeter error            0\n",
      "area error                 0\n",
      "smoothness error           0\n",
      "compactness error          0\n",
      "concavity error            0\n",
      "concave points error       0\n",
      "symmetry error             0\n",
      "fractal dimension error    0\n",
      "worst radius               0\n",
      "worst texture              0\n",
      "worst perimeter            0\n",
      "worst area                 0\n",
      "worst smoothness           0\n",
      "worst compactness          0\n",
      "worst concavity            0\n",
      "worst concave points       0\n",
      "worst symmetry             0\n",
      "worst fractal dimension    0\n",
      "target                     0\n",
      "dtype: int64\n",
      "\n",
      "Type of Each Variable: mean radius                float64\n",
      "mean texture               float64\n",
      "mean perimeter             float64\n",
      "mean area                  float64\n",
      "mean smoothness            float64\n",
      "mean compactness           float64\n",
      "mean concavity             float64\n",
      "mean concave points        float64\n",
      "mean symmetry              float64\n",
      "mean fractal dimension     float64\n",
      "radius error               float64\n",
      "texture error              float64\n",
      "perimeter error            float64\n",
      "area error                 float64\n",
      "smoothness error           float64\n",
      "compactness error          float64\n",
      "concavity error            float64\n",
      "concave points error       float64\n",
      "symmetry error             float64\n",
      "fractal dimension error    float64\n",
      "worst radius               float64\n",
      "worst texture              float64\n",
      "worst perimeter            float64\n",
      "worst area                 float64\n",
      "worst smoothness           float64\n",
      "worst compactness          float64\n",
      "worst concavity            float64\n",
      "worst concave points       float64\n",
      "worst symmetry             float64\n",
      "worst fractal dimension    float64\n",
      "target                       int32\n",
      "dtype: object\n",
      "\n",
      "Breast Cancer dataset has 569 rows and 31 columns.\n"
     ]
    }
   ],
   "source": [
    "### preprocess wisc data\n",
    "\n",
    "# find missing values\n",
    "print(\"Missing Values:\\n\", wisc.isna().sum())\n",
    "\n",
    "# determine type of variable\n",
    "print(\"\\nType of Each Variable:\", wisc.dtypes)\n",
    "\n",
    "# number of rows and columns\n",
    "print(\"\\nBreast Cancer dataset has\", len(wisc), \"rows and\", len(wisc.columns), \"columns.\")\n"
   ]
  },
  {
   "cell_type": "code",
   "execution_count": 354,
   "id": "d9e5f07e",
   "metadata": {},
   "outputs": [
    {
     "name": "stdout",
     "output_type": "stream",
     "text": [
      "\n",
      "Fraction of positive examples: 0.00%\n"
     ]
    }
   ],
   "source": [
    "### split wisconsin dataset into test and train set\n",
    "X_w = wisc.iloc[:,:-1]\n",
    "y_w = wisc['target']\n",
    "\n",
    "# scale \n",
    "X_w = scaler.fit_transform(X_w)\n",
    "\n",
    "# split data into test and train tests\n",
    "X_trainW, X_testW, y_trainW, y_testW = train_test_split(X_w, y_w, test_size=0.2, random_state=0)\n",
    "\n",
    "# balance of dataset\n",
    "print(\"\\nFraction of positive examples: %.2f%%\" % (y_w[y_w == 1].shape[0]/y_w.shape[0]**100.0))\n",
    "\n",
    "# split train set into train and validation set\n",
    "X_train2W, X_valW, y_train2W, y_valW = train_test_split(X_trainW, y_trainW, test_size=0.2, random_state=0)\n",
    "\n",
    "# data structures to store values later \n",
    "wisc_numclassifiers = 5\n",
    "best_accuracy = np.zeros(wisc_numclassifiers)\n",
    "train_time = np.zeros(wisc_numclassifiers)\n",
    "test_time = np.zeros(wisc_numclassifiers)\n"
   ]
  },
  {
   "cell_type": "code",
   "execution_count": 355,
   "id": "0c9bf6e1",
   "metadata": {},
   "outputs": [
    {
     "data": {
      "text/plain": [
       "DecisionTreeClassifier(random_state=0)"
      ]
     },
     "execution_count": 355,
     "metadata": {},
     "output_type": "execute_result"
    },
    {
     "name": "stdout",
     "output_type": "stream",
     "text": [
      "The accuracy of the Decision Tree classifier prior to hyperparameter training is 100.0 %.\n"
     ]
    }
   ],
   "source": [
    "### WISC decision tree before hyperparameter tuning\n",
    "from sklearn import tree\n",
    "DTclassifier = tree.DecisionTreeClassifier(random_state=0)\n",
    "DTclassifier.fit(X_train2W, y_train2W)\n",
    "y_train_pred = DTclassifier.predict(X_train2W)\n",
    "DT_accuracy = accuracy_score(y_train2W, y_train_pred)\n",
    "print('The accuracy of the Decision Tree classifier prior to hyperparameter training is', DT_accuracy*100, \"%.\")"
   ]
  },
  {
   "cell_type": "code",
   "execution_count": 321,
   "id": "818f4e19",
   "metadata": {},
   "outputs": [
    {
     "data": {
      "text/plain": [
       "<Figure size 432x288 with 0 Axes>"
      ]
     },
     "execution_count": 321,
     "metadata": {},
     "output_type": "execute_result"
    },
    {
     "data": {
      "text/plain": [
       "[<matplotlib.lines.Line2D at 0x236293bc5e0>]"
      ]
     },
     "execution_count": 321,
     "metadata": {},
     "output_type": "execute_result"
    },
    {
     "data": {
      "text/plain": [
       "[<matplotlib.lines.Line2D at 0x236293bc880>]"
      ]
     },
     "execution_count": 321,
     "metadata": {},
     "output_type": "execute_result"
    },
    {
     "data": {
      "text/plain": [
       "(0.6, 1.2)"
      ]
     },
     "execution_count": 321,
     "metadata": {},
     "output_type": "execute_result"
    },
    {
     "data": {
      "text/plain": [
       "Text(0.5, 1.0, 'Cancer Data: Validation Curve for Decision Tree\\nHyperparameter: Maximum Tree Depth')"
      ]
     },
     "execution_count": 321,
     "metadata": {},
     "output_type": "execute_result"
    },
    {
     "data": {
      "text/plain": [
       "Text(0.5, 0, 'Maximum Tree Depth')"
      ]
     },
     "execution_count": 321,
     "metadata": {},
     "output_type": "execute_result"
    },
    {
     "data": {
      "text/plain": [
       "Text(0, 0.5, 'Classification Score')"
      ]
     },
     "execution_count": 321,
     "metadata": {},
     "output_type": "execute_result"
    },
    {
     "data": {
      "text/plain": [
       "<matplotlib.legend.Legend at 0x236293b23d0>"
      ]
     },
     "execution_count": 321,
     "metadata": {},
     "output_type": "execute_result"
    },
    {
     "data": {
      "image/png": "[encoded data removed]",
      "text/plain": [
       "<Figure size 432x288 with 1 Axes>"
      ]
     },
     "metadata": {
      "needs_background": "light"
     },
     "output_type": "display_data"
    }
   ],
   "source": [
    "# WISCONSIN decision tree: validation curve for maximum tree depth\n",
    "depth_range = np.arange(51)\n",
    "train_scores, test_scores = validation_curve(DTclassifier, X_train2W, y_train2W, param_name='max_depth', param_range=depth_range, cv=5)\n",
    "\n",
    "# plot validation curve\n",
    "plt.figure()\n",
    "plt.plot(depth_range, np.mean(train_scores, axis=1), label='Train Score', linewidth=3)\n",
    "plt.plot(depth_range, np.mean(test_scores, axis=1), label='Cross-Validation Score', linewidth=2)\n",
    "plt.ylim(0.6,1.2)\n",
    "plt.title('Cancer Data: Validation Curve for Decision Tree\\nHyperparameter: Maximum Tree Depth')\n",
    "plt.xlabel('Maximum Tree Depth')\n",
    "plt.ylabel('Classification Score')\n",
    "plt.legend(loc='best')\n",
    "plt.grid()\n",
    "plt.show()"
   ]
  },
  {
   "cell_type": "code",
   "execution_count": 322,
   "id": "cccfdf57",
   "metadata": {},
   "outputs": [
    {
     "data": {
      "text/plain": [
       "<Figure size 432x288 with 0 Axes>"
      ]
     },
     "execution_count": 322,
     "metadata": {},
     "output_type": "execute_result"
    },
    {
     "data": {
      "text/plain": [
       "[<matplotlib.lines.Line2D at 0x23629464d90>]"
      ]
     },
     "execution_count": 322,
     "metadata": {},
     "output_type": "execute_result"
    },
    {
     "data": {
      "text/plain": [
       "[<matplotlib.lines.Line2D at 0x23629464f40>]"
      ]
     },
     "execution_count": 322,
     "metadata": {},
     "output_type": "execute_result"
    },
    {
     "data": {
      "text/plain": [
       "(0.6, 1.2)"
      ]
     },
     "execution_count": 322,
     "metadata": {},
     "output_type": "execute_result"
    },
    {
     "data": {
      "text/plain": [
       "Text(0.5, 0, 'Minimum Leaf Size')"
      ]
     },
     "execution_count": 322,
     "metadata": {},
     "output_type": "execute_result"
    },
    {
     "data": {
      "text/plain": [
       "Text(0, 0.5, 'Classification Score')"
      ]
     },
     "execution_count": 322,
     "metadata": {},
     "output_type": "execute_result"
    },
    {
     "data": {
      "text/plain": [
       "Text(0.5, 1.0, 'Cancer Data: Validation Curve for Decision Tree Classifier\\nHyperparameter:Minimum Leaf Size')"
      ]
     },
     "execution_count": 322,
     "metadata": {},
     "output_type": "execute_result"
    },
    {
     "data": {
      "text/plain": [
       "<matplotlib.legend.Legend at 0x2362944f2e0>"
      ]
     },
     "execution_count": 322,
     "metadata": {},
     "output_type": "execute_result"
    },
    {
     "data": {
      "image/png": "[encoded data removed]",
      "text/plain": [
       "<Figure size 432x288 with 1 Axes>"
      ]
     },
     "metadata": {
      "needs_background": "light"
     },
     "output_type": "display_data"
    }
   ],
   "source": [
    "# WISCONSIN decision tree: validation curve for min leaf size\n",
    "\n",
    "# range of values to test\n",
    "param_range = np.arange(1, 50)\n",
    "\n",
    "# calculate train and validation scores\n",
    "train_scores, test_scores = validation_curve(DTclassifier, X_train2W, y_train2W, param_name=\"min_samples_leaf\", param_range=param_range, cv=5)\n",
    "\n",
    "# plot validation curve\n",
    "plt.figure()\n",
    "plt.plot(param_range, np.mean(train_scores, axis=1), label=\"Train Score\", linewidth=3)\n",
    "plt.plot(param_range, np.mean(test_scores, axis=1), label=\"Cross-Validation Score\", linewidth=2)\n",
    "plt.ylim(0.6,1.2)\n",
    "plt.xlabel(\"Minimum Leaf Size\")\n",
    "plt.ylabel(\"Classification Score\")\n",
    "plt.title(\"Cancer Data: Validation Curve for Decision Tree Classifier\\nHyperparameter:Minimum Leaf Size\")\n",
    "plt.legend(loc=\"best\")\n",
    "plt.grid()\n",
    "plt.show()\n",
    "\n"
   ]
  },
  {
   "cell_type": "code",
   "execution_count": 264,
   "id": "e36ede9a",
   "metadata": {},
   "outputs": [
    {
     "name": "stdout",
     "output_type": "stream",
     "text": [
      "Completed training in 47.717063 seconds\n",
      "Per hyperparameter training, the best parameters are: {'max_depth': 10, 'min_samples_leaf': 6}\n",
      "Accuracy of decision tree is: 89.01098901098901 %.\n"
     ]
    }
   ],
   "source": [
    "def TreeGridSearch(start_leaf_n, end_leaf_n, X_train, y_train):\n",
    "    param_grid = {'min_samples_leaf':np.linspace(start_leaf_n, end_leaf_n, 20).round().astype('int'), 'max_depth':np.arange(1,50)}\n",
    "    DTclassifier = GridSearchCV(estimator=DecisionTreeClassifier(), param_grid=param_grid, cv=5)\n",
    "    t0 = time.time()\n",
    "    DTclassifier.fit(X_train2W, y_train2W)\n",
    "    t1 = time.time()\n",
    "    train_time[0] = t1 - t0\n",
    "    print('Completed training in %f seconds' % train_time[0])\n",
    "    print(\"Per hyperparameter training, the best parameters are:\", DTclassifier.best_params_)\n",
    "    return DTclassifier.best_params_['max_depth'], DTclassifier.best_params_['min_samples_leaf']\n",
    "\n",
    "# find best parameters \n",
    "# 20 values of min_samples leaf from 0.5% sample to 5% of training data\n",
    "start_leaf_n = round(0.005*len(X_train2W))\n",
    "end_leaf_n = round(0.05*len(X_train2W)) \n",
    "max_depth, min_samples_leaf = TreeGridSearch(start_leaf_n, end_leaf_n, X_train2W, y_train2W)\n",
    "\n",
    "y_pred = DTclassifier.predict(X_valW)\n",
    "\n",
    "print('Accuracy of decision tree is:', accuracy_score(y_valW, y_pred)*100, \"%.\")\n",
    "\n"
   ]
  },
  {
   "cell_type": "code",
   "execution_count": 266,
   "id": "2d555059",
   "metadata": {},
   "outputs": [
    {
     "data": {
      "text/plain": [
       "<Figure size 432x288 with 0 Axes>"
      ]
     },
     "execution_count": 266,
     "metadata": {},
     "output_type": "execute_result"
    },
    {
     "data": {
      "text/plain": [
       "[<matplotlib.lines.Line2D at 0x236224c3a90>]"
      ]
     },
     "execution_count": 266,
     "metadata": {},
     "output_type": "execute_result"
    },
    {
     "data": {
      "text/plain": [
       "[<matplotlib.lines.Line2D at 0x236224c3d60>]"
      ]
     },
     "execution_count": 266,
     "metadata": {},
     "output_type": "execute_result"
    },
    {
     "data": {
      "text/plain": [
       "Text(0.5, 1.0, 'Cancer Data: Learning Curve for Decision Tree Model')"
      ]
     },
     "execution_count": 266,
     "metadata": {},
     "output_type": "execute_result"
    },
    {
     "data": {
      "text/plain": [
       "Text(0.5, 0, 'Fraction of Training Examples')"
      ]
     },
     "execution_count": 266,
     "metadata": {},
     "output_type": "execute_result"
    },
    {
     "data": {
      "text/plain": [
       "Text(0, 0.5, 'Classification Score')"
      ]
     },
     "execution_count": 266,
     "metadata": {},
     "output_type": "execute_result"
    },
    {
     "data": {
      "text/plain": [
       "<matplotlib.legend.Legend at 0x236224c3280>"
      ]
     },
     "execution_count": 266,
     "metadata": {},
     "output_type": "execute_result"
    },
    {
     "data": {
      "image/png": "[encoded data removed]",
      "text/plain": [
       "<Figure size 432x288 with 1 Axes>"
      ]
     },
     "metadata": {
      "needs_background": "light"
     },
     "output_type": "display_data"
    }
   ],
   "source": [
    "# WISCONSIN: decision tree - plot learning curve\n",
    "train_sizes = np.linspace(0.1, 1.0, 5)\n",
    "_, train_scores, test_scores = learning_curve(DTclassifier, X_train2W, y_train2W, train_sizes=train_sizes, cv=5)\n",
    "\n",
    "plt.figure()\n",
    "plt.plot(train_sizes, np.mean(train_scores, axis=1), 'o-', label='Training Score')\n",
    "plt.plot(train_sizes, np.mean(test_scores, axis=1), 'o-', label='Cross-Validation Score')\n",
    "plt.title('Cancer Data: Learning Curve for Decision Tree Model')\n",
    "plt.xlabel('Fraction of Training Examples')\n",
    "plt.ylabel('Classification Score')\n",
    "plt.legend(loc='best')\n",
    "plt.grid()\n",
    "plt.show()"
   ]
  },
  {
   "cell_type": "code",
   "execution_count": 267,
   "id": "03644341",
   "metadata": {},
   "outputs": [
    {
     "name": "stdout",
     "output_type": "stream",
     "text": [
      "Evaluation Metrics for Test Dataset\n",
      "*****************************************************\n",
      "Model Training Time (s):   0.01356\n",
      "Model Prediction Time (s): 0.00056\n",
      "\n",
      "F1 Score:  0.97\n",
      "Accuracy:  0.96     AUC:       0.96\n",
      "Precision: 0.97     Recall:    0.97\n",
      "*****************************************************\n"
     ]
    }
   ],
   "source": [
    "# WISCONSIN -evaluate decision tree model on test dataset\n",
    "DTclass_best = DecisionTreeClassifier(max_depth = 10, min_samples_leaf = 6, random_state = 0, criterion = 'entropy')\n",
    "evaluate_test(DTclass_best, X_train2W, X_testW, y_train2W, y_testW)\n"
   ]
  },
  {
   "cell_type": "code",
   "execution_count": 323,
   "id": "058c3596",
   "metadata": {},
   "outputs": [
    {
     "data": {
      "text/plain": [
       "GradientBoostingClassifier(random_state=0)"
      ]
     },
     "execution_count": 323,
     "metadata": {},
     "output_type": "execute_result"
    },
    {
     "name": "stdout",
     "output_type": "stream",
     "text": [
      "The accuracy of the Boosted decision tree prior to hyperparameter tuning is 100.0 %.\n"
     ]
    }
   ],
   "source": [
    "### Boosting - wisconsin\n",
    "# boosted decision tree before hyperparameter tuning\n",
    "GBclassifier = GradientBoostingClassifier(random_state=0)\n",
    "GBclassifier.fit(X_train2W, y_train2W)\n",
    "y_train_pred = GBclassifier.predict(X_train2W)\n",
    "GB_accuracy = accuracy_score(y_train2W, y_train_pred)\n",
    "print(\"The accuracy of the Boosted decision tree prior to hyperparameter tuning is\", GB_accuracy*100, \"%.\")\n",
    "\n"
   ]
  },
  {
   "cell_type": "code",
   "execution_count": 324,
   "id": "9c7ac544",
   "metadata": {},
   "outputs": [
    {
     "data": {
      "text/plain": [
       "<Figure size 432x288 with 0 Axes>"
      ]
     },
     "execution_count": 324,
     "metadata": {},
     "output_type": "execute_result"
    },
    {
     "data": {
      "text/plain": [
       "[<matplotlib.lines.Line2D at 0x236294e1850>]"
      ]
     },
     "execution_count": 324,
     "metadata": {},
     "output_type": "execute_result"
    },
    {
     "data": {
      "text/plain": [
       "[<matplotlib.lines.Line2D at 0x236294e1af0>]"
      ]
     },
     "execution_count": 324,
     "metadata": {},
     "output_type": "execute_result"
    },
    {
     "data": {
      "text/plain": [
       "(0.6, 1.2)"
      ]
     },
     "execution_count": 324,
     "metadata": {},
     "output_type": "execute_result"
    },
    {
     "data": {
      "text/plain": [
       "Text(0.5, 1.0, 'Cancer Data: Validation Curve for Boosted Decision Tree\\nHyperparameter: Maximum Tree Depth')"
      ]
     },
     "execution_count": 324,
     "metadata": {},
     "output_type": "execute_result"
    },
    {
     "data": {
      "text/plain": [
       "Text(0.5, 0, 'Maximum Tree Depth')"
      ]
     },
     "execution_count": 324,
     "metadata": {},
     "output_type": "execute_result"
    },
    {
     "data": {
      "text/plain": [
       "Text(0, 0.5, 'Classification Score')"
      ]
     },
     "execution_count": 324,
     "metadata": {},
     "output_type": "execute_result"
    },
    {
     "data": {
      "text/plain": [
       "<matplotlib.legend.Legend at 0x236294d57c0>"
      ]
     },
     "execution_count": 324,
     "metadata": {},
     "output_type": "execute_result"
    },
    {
     "data": {
      "image/png": "[encoded data removed]",
      "text/plain": [
       "<Figure size 432x288 with 1 Axes>"
      ]
     },
     "metadata": {
      "needs_background": "light"
     },
     "output_type": "display_data"
    }
   ],
   "source": [
    "# Boost:  WISCONSIN validation curve for maximum tree depth \n",
    "\n",
    "depth_range = np.arange(51)\n",
    "train_scores, test_scores = validation_curve(GBclassifier, X_train2W, y_train2W, param_name='max_depth', param_range=depth_range, cv=5)\n",
    "\n",
    "# plot validation curve\n",
    "plt.figure()\n",
    "plt.plot(depth_range, np.mean(train_scores, axis=1), label='Train Score', linewidth=3)\n",
    "plt.plot(depth_range, np.mean(test_scores, axis=1), label='Cross-Validation Score', linewidth=2)\n",
    "plt.ylim(0.6,1.2)\n",
    "plt.title('Cancer Data: Validation Curve for Boosted Decision Tree\\nHyperparameter: Maximum Tree Depth')\n",
    "plt.xlabel('Maximum Tree Depth') \n",
    "plt.ylabel('Classification Score')\n",
    "plt.legend(loc='best')\n",
    "plt.grid()\n",
    "plt.show()"
   ]
  },
  {
   "cell_type": "code",
   "execution_count": 325,
   "id": "752660dd",
   "metadata": {},
   "outputs": [
    {
     "data": {
      "text/plain": [
       "<Figure size 432x288 with 0 Axes>"
      ]
     },
     "execution_count": 325,
     "metadata": {},
     "output_type": "execute_result"
    },
    {
     "data": {
      "text/plain": [
       "[<matplotlib.lines.Line2D at 0x2362b6aa100>]"
      ]
     },
     "execution_count": 325,
     "metadata": {},
     "output_type": "execute_result"
    },
    {
     "data": {
      "text/plain": [
       "[<matplotlib.lines.Line2D at 0x2362b6aa310>]"
      ]
     },
     "execution_count": 325,
     "metadata": {},
     "output_type": "execute_result"
    },
    {
     "data": {
      "text/plain": [
       "(0.6, 1.2)"
      ]
     },
     "execution_count": 325,
     "metadata": {},
     "output_type": "execute_result"
    },
    {
     "data": {
      "text/plain": [
       "Text(0.5, 0, 'Minimum Leaf Size')"
      ]
     },
     "execution_count": 325,
     "metadata": {},
     "output_type": "execute_result"
    },
    {
     "data": {
      "text/plain": [
       "Text(0, 0.5, 'Classification Score')"
      ]
     },
     "execution_count": 325,
     "metadata": {},
     "output_type": "execute_result"
    },
    {
     "data": {
      "text/plain": [
       "Text(0.5, 1.0, 'Cancer Data: Validation Curve for Boosted Decision Tree \\nHyperparameter: Minimum Leaf Size')"
      ]
     },
     "execution_count": 325,
     "metadata": {},
     "output_type": "execute_result"
    },
    {
     "data": {
      "text/plain": [
       "<matplotlib.legend.Legend at 0x2362b69f040>"
      ]
     },
     "execution_count": 325,
     "metadata": {},
     "output_type": "execute_result"
    },
    {
     "data": {
      "image/png": "[encoded data removed]",
      "text/plain": [
       "<Figure size 432x288 with 1 Axes>"
      ]
     },
     "metadata": {
      "needs_background": "light"
     },
     "output_type": "display_data"
    }
   ],
   "source": [
    "# BOOSTED decision tree: WISCONSIN validation curve for min leaf size\n",
    "\n",
    "# range of values to test\n",
    "param_range = np.arange(1, 50)\n",
    "\n",
    "# calculate train and validation scores\n",
    "train_scores, test_scores = validation_curve(GBclassifier, X_train2W, y_train2W, param_name=\"min_samples_leaf\", param_range=param_range, cv=5)\n",
    "\n",
    "# plot validation curve\n",
    "plt.figure()\n",
    "plt.plot(param_range, np.mean(train_scores, axis=1), label=\"Train Score\", linewidth=3)\n",
    "plt.plot(param_range, np.mean(test_scores, axis=1), label=\"Cross-Validation Score\", linewidth=2)\n",
    "plt.ylim(0.6,1.2)\n",
    "plt.xlabel(\"Minimum Leaf Size\")\n",
    "plt.ylabel(\"Classification Score\")\n",
    "plt.title(\"Cancer Data: Validation Curve for Boosted Decision Tree \\nHyperparameter: Minimum Leaf Size\")\n",
    "plt.legend(loc=\"best\")\n",
    "plt.grid()\n",
    "plt.show()\n",
    "\n"
   ]
  },
  {
   "cell_type": "code",
   "execution_count": 326,
   "id": "aab8b0a2",
   "metadata": {},
   "outputs": [
    {
     "data": {
      "text/plain": [
       "<Figure size 432x288 with 0 Axes>"
      ]
     },
     "execution_count": 326,
     "metadata": {},
     "output_type": "execute_result"
    },
    {
     "data": {
      "text/plain": [
       "[<matplotlib.lines.Line2D at 0x2362b715760>]"
      ]
     },
     "execution_count": 326,
     "metadata": {},
     "output_type": "execute_result"
    },
    {
     "data": {
      "text/plain": [
       "[<matplotlib.lines.Line2D at 0x2362b715a00>]"
      ]
     },
     "execution_count": 326,
     "metadata": {},
     "output_type": "execute_result"
    },
    {
     "data": {
      "text/plain": [
       "(0.6, 1.2)"
      ]
     },
     "execution_count": 326,
     "metadata": {},
     "output_type": "execute_result"
    },
    {
     "data": {
      "text/plain": [
       "Text(0.5, 1.0, 'Cancer Data: Validation Curve for Boosted Decision Tree\\nHyperparameter: Number of Weak Learners')"
      ]
     },
     "execution_count": 326,
     "metadata": {},
     "output_type": "execute_result"
    },
    {
     "data": {
      "text/plain": [
       "Text(0.5, 0, 'Number of Weak Learners')"
      ]
     },
     "execution_count": 326,
     "metadata": {},
     "output_type": "execute_result"
    },
    {
     "data": {
      "text/plain": [
       "Text(0, 0.5, 'Classification Score')"
      ]
     },
     "execution_count": 326,
     "metadata": {},
     "output_type": "execute_result"
    },
    {
     "data": {
      "text/plain": [
       "<matplotlib.legend.Legend at 0x2362b7086d0>"
      ]
     },
     "execution_count": 326,
     "metadata": {},
     "output_type": "execute_result"
    },
    {
     "data": {
      "image/png": "[encoded data removed]",
      "text/plain": [
       "<Figure size 432x288 with 1 Axes>"
      ]
     },
     "metadata": {
      "needs_background": "light"
     },
     "output_type": "display_data"
    }
   ],
   "source": [
    "# Boost: WISCONSIN validation curve for number of weak learners\n",
    "\n",
    "param_range = np.arange(1, 50)\n",
    "train_scores, test_scores = validation_curve(GBclassifier, X_train2W, y_train2W, param_name='n_estimators', param_range=param_range, cv=5)\n",
    "\n",
    "# plot validation curve\n",
    "plt.figure()\n",
    "plt.plot(param_range, np.mean(train_scores, axis=1), label='Train Score', linewidth=3)\n",
    "plt.plot(param_range, np.mean(test_scores, axis=1), label='Cross-Validation Score', linewidth=2)\n",
    "plt.ylim(0.6,1.2)\n",
    "plt.title('Cancer Data: Validation Curve for Boosted Decision Tree\\nHyperparameter: Number of Weak Learners')\n",
    "plt.xlabel('Number of Weak Learners') \n",
    "plt.ylabel('Classification Score')\n",
    "plt.legend(loc='best')\n",
    "plt.grid()\n",
    "plt.show()"
   ]
  },
  {
   "cell_type": "code",
   "execution_count": 273,
   "id": "e30d1bc2",
   "metadata": {},
   "outputs": [
    {
     "name": "stdout",
     "output_type": "stream",
     "text": [
      "Completed training in 44.023244 seconds\n",
      "Per hyperparameter training, the best parameters are: {'max_depth': 1, 'n_estimators': 50}\n",
      "Accuracy of boosted decision tree is: 92.3076923076923 %.\n"
     ]
    }
   ],
   "source": [
    "# WISCONSIN - find best parameters\n",
    "def TreeGridSearch(X_train, y_train):\n",
    "    param_grid = {'max_depth':np.arange(1,20), 'n_estimators': np.linspace(10,50,2).round().astype('int')}\n",
    "    GBclassifier = GridSearchCV(estimator=GradientBoostingClassifier(), param_grid=param_grid, cv=5)\n",
    "    t0 = time.time()\n",
    "    GBclassifier.fit(X_train2W, y_train2W)\n",
    "    t1 = time.time()\n",
    "    train_time[0] = t1 - t0\n",
    "    print('Completed training in %f seconds' % train_time[0])\n",
    "    print(\"Per hyperparameter training, the best parameters are:\", GBclassifier.best_params_)\n",
    "    return GBclassifier.best_params_['max_depth'], GBclassifier.best_params_['n_estimators']\n",
    "\n",
    "max_depth, n_estimators = TreeGridSearch(X_train2W, y_train2W)\n",
    "\n",
    "y_pred = GBclassifier.predict(X_valW)\n",
    "\n",
    "print('Accuracy of boosted decision tree is:', accuracy_score(y_valW, y_pred)*100, \"%.\")\n",
    "\n"
   ]
  },
  {
   "cell_type": "code",
   "execution_count": 274,
   "id": "eee83409",
   "metadata": {},
   "outputs": [
    {
     "data": {
      "text/plain": [
       "<Figure size 432x288 with 0 Axes>"
      ]
     },
     "execution_count": 274,
     "metadata": {},
     "output_type": "execute_result"
    },
    {
     "data": {
      "text/plain": [
       "[<matplotlib.lines.Line2D at 0x23622cd4220>]"
      ]
     },
     "execution_count": 274,
     "metadata": {},
     "output_type": "execute_result"
    },
    {
     "data": {
      "text/plain": [
       "[<matplotlib.lines.Line2D at 0x23622cd49d0>]"
      ]
     },
     "execution_count": 274,
     "metadata": {},
     "output_type": "execute_result"
    },
    {
     "data": {
      "text/plain": [
       "Text(0.5, 1.0, 'Cancer Data: Learning Curve for Boosted Decision Tree Model')"
      ]
     },
     "execution_count": 274,
     "metadata": {},
     "output_type": "execute_result"
    },
    {
     "data": {
      "text/plain": [
       "Text(0.5, 0, 'Fraction of Training Examples')"
      ]
     },
     "execution_count": 274,
     "metadata": {},
     "output_type": "execute_result"
    },
    {
     "data": {
      "text/plain": [
       "Text(0, 0.5, 'Classification Score')"
      ]
     },
     "execution_count": 274,
     "metadata": {},
     "output_type": "execute_result"
    },
    {
     "data": {
      "text/plain": [
       "<matplotlib.legend.Legend at 0x23622cd4190>"
      ]
     },
     "execution_count": 274,
     "metadata": {},
     "output_type": "execute_result"
    },
    {
     "data": {
      "image/png": "[encoded data removed]",
      "text/plain": [
       "<Figure size 432x288 with 1 Axes>"
      ]
     },
     "metadata": {
      "needs_background": "light"
     },
     "output_type": "display_data"
    }
   ],
   "source": [
    "# WISCONSIN - plot learning curve for boosted decision tree\n",
    "train_sizes = np.linspace(0.1, 1.0, 5)\n",
    "_, train_scores, test_scores = learning_curve(GBclassifier, X_train2W, y_train2W, train_sizes=train_sizes, cv=5)\n",
    "\n",
    "plt.figure()\n",
    "plt.plot(train_sizes, np.mean(train_scores, axis=1), 'o-', label='Training Score')\n",
    "plt.plot(train_sizes, np.mean(test_scores, axis=1), 'o-', label='Cross-Validation Score')\n",
    "plt.title('Cancer Data: Learning Curve for Boosted Decision Tree Model')\n",
    "plt.xlabel('Fraction of Training Examples')\n",
    "plt.ylabel(\"Classification Score\")\n",
    "plt.legend(loc=\"best\")\n",
    "plt.grid()\n",
    "plt.show()"
   ]
  },
  {
   "cell_type": "code",
   "execution_count": 275,
   "id": "6966bccb",
   "metadata": {},
   "outputs": [
    {
     "name": "stdout",
     "output_type": "stream",
     "text": [
      "Evaluation Metrics for Test Dataset\n",
      "*****************************************************\n",
      "Model Training Time (s):   0.13636\n",
      "Model Prediction Time (s): 0.00103\n",
      "\n",
      "F1 Score:  0.98\n",
      "Accuracy:  0.97     AUC:       0.97\n",
      "Precision: 0.96     Recall:    1.00\n",
      "*****************************************************\n"
     ]
    }
   ],
   "source": [
    "# evaluate boosted decision tree model on test dataset\n",
    "GBclass_best = GradientBoostingClassifier(max_depth = 1, n_estimators = 50, random_state = 0)\n",
    "evaluate_test(GBclass_best, X_train2W, X_testW, y_train2W, y_testW)\n"
   ]
  },
  {
   "cell_type": "code",
   "execution_count": 327,
   "id": "2b85ecb1",
   "metadata": {},
   "outputs": [
    {
     "data": {
      "text/plain": [
       "KNeighborsClassifier()"
      ]
     },
     "execution_count": 327,
     "metadata": {},
     "output_type": "execute_result"
    },
    {
     "name": "stdout",
     "output_type": "stream",
     "text": [
      "The accuracy of k-Nearest Neighbors model prior to hyperparameter tuning is 98.07692307692307 %.\n"
     ]
    }
   ],
   "source": [
    "### k - Nearest Neighbors (kNN) Wisconsin\n",
    "\n",
    "# kNN before hyperparameter tuning \n",
    "kNNclassifier = kNN()\n",
    "kNNclassifier.fit(X_train2W, y_train2W)\n",
    "y_train_pred = kNNclassifier.predict(X_train2W)\n",
    "kNN_accuracy = accuracy_score(y_train2W, y_train_pred)\n",
    "print(\"The accuracy of k-Nearest Neighbors model prior to hyperparameter tuning is\", kNN_accuracy*100, \"%.\")\n",
    "\n"
   ]
  },
  {
   "cell_type": "code",
   "execution_count": 328,
   "id": "4d53ee4b",
   "metadata": {},
   "outputs": [
    {
     "data": {
      "text/plain": [
       "<Figure size 432x288 with 0 Axes>"
      ]
     },
     "execution_count": 328,
     "metadata": {},
     "output_type": "execute_result"
    },
    {
     "data": {
      "text/plain": [
       "[<matplotlib.lines.Line2D at 0x2362b783ee0>]"
      ]
     },
     "execution_count": 328,
     "metadata": {},
     "output_type": "execute_result"
    },
    {
     "data": {
      "text/plain": [
       "[<matplotlib.lines.Line2D at 0x2362b78b1c0>]"
      ]
     },
     "execution_count": 328,
     "metadata": {},
     "output_type": "execute_result"
    },
    {
     "data": {
      "text/plain": [
       "(0.6, 1.2)"
      ]
     },
     "execution_count": 328,
     "metadata": {},
     "output_type": "execute_result"
    },
    {
     "data": {
      "text/plain": [
       "Text(0.5, 1.0, 'Cancer Data: Validation Curve for kNN\\nHyperparameter: Number of Neighbors')"
      ]
     },
     "execution_count": 328,
     "metadata": {},
     "output_type": "execute_result"
    },
    {
     "data": {
      "text/plain": [
       "Text(0.5, 0, 'Number of Neighbors')"
      ]
     },
     "execution_count": 328,
     "metadata": {},
     "output_type": "execute_result"
    },
    {
     "data": {
      "text/plain": [
       "Text(0, 0.5, 'Classification Score')"
      ]
     },
     "execution_count": 328,
     "metadata": {},
     "output_type": "execute_result"
    },
    {
     "data": {
      "text/plain": [
       "<matplotlib.legend.Legend at 0x2362b759070>"
      ]
     },
     "execution_count": 328,
     "metadata": {},
     "output_type": "execute_result"
    },
    {
     "data": {
      "image/png": "[encoded data removed]",
      "text/plain": [
       "<Figure size 432x288 with 1 Axes>"
      ]
     },
     "metadata": {
      "needs_background": "light"
     },
     "output_type": "display_data"
    }
   ],
   "source": [
    "# kNN: validation curve for number of neighbors - WISCONSIN\n",
    "\n",
    "param_range = np.arange(1,50)\n",
    "train_scores, test_scores = validation_curve(kNNclassifier, X_train2W, y_train2W, param_name='n_neighbors', param_range=param_range, cv=5)\n",
    "\n",
    "# plot validation curve\n",
    "plt.figure()\n",
    "plt.plot(param_range, np.mean(train_scores, axis=1), label='Train Score', linewidth=3)\n",
    "plt.plot(param_range, np.mean(test_scores, axis=1), label='Cross-Validation Score', linewidth=2)\n",
    "plt.ylim(0.6,1.2)\n",
    "plt.title('Cancer Data: Validation Curve for kNN\\nHyperparameter: Number of Neighbors')\n",
    "plt.xlabel('Number of Neighbors')\n",
    "plt.ylabel('Classification Score')\n",
    "plt.legend(loc='best')\n",
    "plt.grid()\n",
    "plt.show()"
   ]
  },
  {
   "cell_type": "code",
   "execution_count": 329,
   "id": "02ab6464",
   "metadata": {},
   "outputs": [
    {
     "data": {
      "text/plain": [
       "<Figure size 432x288 with 0 Axes>"
      ]
     },
     "execution_count": 329,
     "metadata": {},
     "output_type": "execute_result"
    },
    {
     "data": {
      "text/plain": [
       "[<matplotlib.lines.Line2D at 0x2362b7fb700>]"
      ]
     },
     "execution_count": 329,
     "metadata": {},
     "output_type": "execute_result"
    },
    {
     "data": {
      "text/plain": [
       "[<matplotlib.lines.Line2D at 0x2362b7fb9d0>]"
      ]
     },
     "execution_count": 329,
     "metadata": {},
     "output_type": "execute_result"
    },
    {
     "data": {
      "text/plain": [
       "(0.6, 1.2)"
      ]
     },
     "execution_count": 329,
     "metadata": {},
     "output_type": "execute_result"
    },
    {
     "data": {
      "text/plain": [
       "Text(0.5, 1.0, 'Cancer Data: Validation Curve for kNN\\nHyperparameter: Leaf Size')"
      ]
     },
     "execution_count": 329,
     "metadata": {},
     "output_type": "execute_result"
    },
    {
     "data": {
      "text/plain": [
       "Text(0.5, 0, 'Leaf Size')"
      ]
     },
     "execution_count": 329,
     "metadata": {},
     "output_type": "execute_result"
    },
    {
     "data": {
      "text/plain": [
       "Text(0, 0.5, 'Classification Score')"
      ]
     },
     "execution_count": 329,
     "metadata": {},
     "output_type": "execute_result"
    },
    {
     "data": {
      "text/plain": [
       "<matplotlib.legend.Legend at 0x2362b656b50>"
      ]
     },
     "execution_count": 329,
     "metadata": {},
     "output_type": "execute_result"
    },
    {
     "data": {
      "image/png": "[encoded data removed]",
      "text/plain": [
       "<Figure size 432x288 with 1 Axes>"
      ]
     },
     "metadata": {
      "needs_background": "light"
     },
     "output_type": "display_data"
    }
   ],
   "source": [
    "# kNN: validation curve for leaf size  - WISCONSIN\n",
    "\n",
    "param_range = np.arange(1,50)\n",
    "train_scores, test_scores = validation_curve(kNNclassifier, X_train2W, y_train2W, param_name='leaf_size', param_range=param_range, cv=5)\n",
    "\n",
    "# plot validation curve\n",
    "plt.figure()\n",
    "plt.plot(param_range, np.mean(train_scores, axis=1), label='Train Score', linewidth=3)\n",
    "plt.plot(param_range, np.mean(test_scores, axis=1), label='Cross-Validation Score', linewidth=2)\n",
    "plt.ylim(0.6,1.2)\n",
    "plt.title('Cancer Data: Validation Curve for kNN\\nHyperparameter: Leaf Size')\n",
    "plt.xlabel('Leaf Size')\n",
    "plt.ylabel('Classification Score')\n",
    "plt.legend(loc='best')\n",
    "plt.grid()\n",
    "plt.show()"
   ]
  },
  {
   "cell_type": "code",
   "execution_count": 279,
   "id": "f4428393",
   "metadata": {},
   "outputs": [
    {
     "name": "stdout",
     "output_type": "stream",
     "text": [
      "Completed training in 20.574016 seconds\n",
      "Per hyperparameter training, the best parameters are: {'leaf_size': 1, 'n_neighbors': 3}\n",
      "Accuracy of kNN model is: 97.8021978021978 %.\n"
     ]
    }
   ],
   "source": [
    "# find best parameters - WISCONSIN\n",
    "def TreeGridSearch(X_train, y_train):\n",
    "    # parameters to search:\n",
    "    param_grid = {'n_neighbors':np.arange(1,20), 'leaf_size': np.arange(1,20)}\n",
    "    kNNclassifier = GridSearchCV(estimator=kNN(), param_grid=param_grid, cv=5)\n",
    "    t0 = time.time()\n",
    "    kNNclassifier.fit(X_train2W, y_train2W)\n",
    "    t1 = time.time()\n",
    "    train_time[0] = t1 - t0\n",
    "    print('Completed training in %f seconds' % train_time[0])\n",
    "    print(\"Per hyperparameter training, the best parameters are:\", kNNclassifier.best_params_)\n",
    "    return kNNclassifier.best_params_['n_neighbors'], kNNclassifier.best_params_['leaf_size']\n",
    "\n",
    "# find best parameters \n",
    "n_neighbors, leaf_size = TreeGridSearch(X_train2W, y_train2W)\n",
    "\n",
    "y_pred = kNNclassifier.predict(X_valW)\n",
    "\n",
    "print('Accuracy of kNN model is:', accuracy_score(y_valW, y_pred)*100, \"%.\")\n",
    "\n"
   ]
  },
  {
   "cell_type": "code",
   "execution_count": 280,
   "id": "f6da94e2",
   "metadata": {
    "scrolled": true
   },
   "outputs": [
    {
     "data": {
      "text/plain": [
       "<Figure size 432x288 with 0 Axes>"
      ]
     },
     "execution_count": 280,
     "metadata": {},
     "output_type": "execute_result"
    },
    {
     "data": {
      "text/plain": [
       "[<matplotlib.lines.Line2D at 0x23621388820>]"
      ]
     },
     "execution_count": 280,
     "metadata": {},
     "output_type": "execute_result"
    },
    {
     "data": {
      "text/plain": [
       "[<matplotlib.lines.Line2D at 0x236213881c0>]"
      ]
     },
     "execution_count": 280,
     "metadata": {},
     "output_type": "execute_result"
    },
    {
     "data": {
      "text/plain": [
       "Text(0.5, 1.0, 'Cancer Data: Learning Curve for kNN Model')"
      ]
     },
     "execution_count": 280,
     "metadata": {},
     "output_type": "execute_result"
    },
    {
     "data": {
      "text/plain": [
       "Text(0.5, 0, 'Fraction of Training Examples')"
      ]
     },
     "execution_count": 280,
     "metadata": {},
     "output_type": "execute_result"
    },
    {
     "data": {
      "text/plain": [
       "Text(0, 0.5, 'Classification Score')"
      ]
     },
     "execution_count": 280,
     "metadata": {},
     "output_type": "execute_result"
    },
    {
     "data": {
      "text/plain": [
       "<matplotlib.legend.Legend at 0x2362134b520>"
      ]
     },
     "execution_count": 280,
     "metadata": {},
     "output_type": "execute_result"
    },
    {
     "data": {
      "image/png": "[encoded data removed]",
      "text/plain": [
       "<Figure size 432x288 with 1 Axes>"
      ]
     },
     "metadata": {
      "needs_background": "light"
     },
     "output_type": "display_data"
    }
   ],
   "source": [
    "# plot learning curve for kNN - WISCONSIN\n",
    "train_sizes = np.linspace(0.1, 1.0, 5)\n",
    "_, train_scores, test_scores = learning_curve(kNNclassifier, X_train2W, y_train2W, train_sizes=train_sizes, cv=5)\n",
    "\n",
    "plt.figure()\n",
    "plt.plot(train_sizes, np.mean(train_scores, axis=1), 'o-', label='Training Score')\n",
    "plt.plot(train_sizes, np.mean(test_scores, axis=1), 'o-', label='Cross-Validation Score')\n",
    "plt.title('Cancer Data: Learning Curve for kNN Model')\n",
    "plt.xlabel('Fraction of Training Examples')\n",
    "plt.ylabel(\"Classification Score\")\n",
    "plt.legend(loc=\"best\")\n",
    "plt.grid()\n",
    "plt.show()"
   ]
  },
  {
   "cell_type": "code",
   "execution_count": 281,
   "id": "efde51f4",
   "metadata": {},
   "outputs": [
    {
     "name": "stdout",
     "output_type": "stream",
     "text": [
      "Evaluation Metrics for Test Dataset\n",
      "*****************************************************\n",
      "Model Training Time (s):   0.00182\n",
      "Model Prediction Time (s): 0.01503\n",
      "\n",
      "F1 Score:  0.96\n",
      "Accuracy:  0.96     AUC:       0.95\n",
      "Precision: 0.93     Recall:    1.00\n",
      "*****************************************************\n"
     ]
    }
   ],
   "source": [
    "# evaluate decision tree model on test dataset - wisconsin\n",
    "\n",
    "# replace with best values\n",
    "kNNclass_best = kNN(n_neighbors = 3, leaf_size = 1)\n",
    "evaluate_test(kNNclass_best, X_train2W, X_testW, y_train2W, y_testW)\n"
   ]
  },
  {
   "cell_type": "code",
   "execution_count": 330,
   "id": "0aab12d0",
   "metadata": {},
   "outputs": [
    {
     "data": {
      "text/plain": [
       "SVC(random_state=0)"
      ]
     },
     "execution_count": 330,
     "metadata": {},
     "output_type": "execute_result"
    },
    {
     "name": "stdout",
     "output_type": "stream",
     "text": [
      "The accuracy of SVM prior to hyperparameter training is 98.62637362637363 %.\n"
     ]
    }
   ],
   "source": [
    "### Support Vector Machines (SVM) - wisconsin\n",
    "# SVM before hyperparameter tuning\n",
    "SVM = SVC(random_state=0)\n",
    "SVM.fit(X_train2W, y_train2W)\n",
    "y_train_pred = SVM.predict(X_train2W)\n",
    "SVM_accuracy = accuracy_score(y_train2W, y_train_pred)\n",
    "print('The accuracy of SVM prior to hyperparameter training is', SVM_accuracy*100, \"%.\")\n"
   ]
  },
  {
   "cell_type": "code",
   "execution_count": 356,
   "id": "5628e51e",
   "metadata": {},
   "outputs": [
    {
     "data": {
      "text/plain": [
       "SVC(kernel='linear', random_state=0)"
      ]
     },
     "execution_count": 356,
     "metadata": {},
     "output_type": "execute_result"
    },
    {
     "name": "stdout",
     "output_type": "stream",
     "text": [
      "Kernel: linear\n",
      "Training Accuracy: 0.99\n",
      "Validation Accuracy: 0.96\n",
      "\n"
     ]
    },
    {
     "data": {
      "text/plain": [
       "SVC(kernel='poly', random_state=0)"
      ]
     },
     "execution_count": 356,
     "metadata": {},
     "output_type": "execute_result"
    },
    {
     "name": "stdout",
     "output_type": "stream",
     "text": [
      "Kernel: poly\n",
      "Training Accuracy: 0.90\n",
      "Validation Accuracy: 0.91\n",
      "\n"
     ]
    },
    {
     "data": {
      "text/plain": [
       "SVC(random_state=0)"
      ]
     },
     "execution_count": 356,
     "metadata": {},
     "output_type": "execute_result"
    },
    {
     "name": "stdout",
     "output_type": "stream",
     "text": [
      "Kernel: rbf\n",
      "Training Accuracy: 0.99\n",
      "Validation Accuracy: 0.98\n",
      "\n"
     ]
    },
    {
     "data": {
      "text/plain": [
       "SVC(kernel='sigmoid', random_state=0)"
      ]
     },
     "execution_count": 356,
     "metadata": {},
     "output_type": "execute_result"
    },
    {
     "name": "stdout",
     "output_type": "stream",
     "text": [
      "Kernel: sigmoid\n",
      "Training Accuracy: 0.96\n",
      "Validation Accuracy: 0.95\n",
      "\n"
     ]
    }
   ],
   "source": [
    "kernel_labels = ['linear', 'poly', 'rbf', 'sigmoid']\n",
    "train_scores, val_scores = [], []\n",
    "\n",
    "for i, kernel in enumerate(kernel_labels):\n",
    "    # Create and train SVM model\n",
    "    SVM = SVC(kernel=kernel, random_state=0)\n",
    "    SVM.fit(X_train2W, y_train2W)\n",
    "\n",
    "    # Predictions\n",
    "    y_train_pred = SVM.predict(X_train2W)\n",
    "    y_val_pred = SVM.predict(X_valW)  \n",
    "    \n",
    "    # Calculate accuracy scores\n",
    "    train_accuracy = accuracy_score(y_train2W, y_train_pred)\n",
    "    val_accuracy = accuracy_score(y_valW, y_val_pred)\n",
    "\n",
    "    train_scores.append(train_accuracy)\n",
    "    val_scores.append(val_accuracy)\n",
    "\n",
    "    print(f'Kernel: {kernel}')\n",
    "    print(f'Training Accuracy: {train_accuracy:.2f}')\n",
    "    print(f'Validation Accuracy: {val_accuracy:.2f}\\n')"
   ]
  },
  {
   "cell_type": "code",
   "execution_count": null,
   "id": "2c292e38",
   "metadata": {},
   "outputs": [],
   "source": []
  },
  {
   "cell_type": "code",
   "execution_count": 332,
   "id": "6f830937",
   "metadata": {},
   "outputs": [
    {
     "data": {
      "text/plain": [
       "<Figure size 432x288 with 0 Axes>"
      ]
     },
     "execution_count": 332,
     "metadata": {},
     "output_type": "execute_result"
    },
    {
     "data": {
      "text/plain": [
       "[<matplotlib.lines.Line2D at 0x2362ba427f0>]"
      ]
     },
     "execution_count": 332,
     "metadata": {},
     "output_type": "execute_result"
    },
    {
     "data": {
      "text/plain": [
       "[<matplotlib.lines.Line2D at 0x2362ba42bb0>]"
      ]
     },
     "execution_count": 332,
     "metadata": {},
     "output_type": "execute_result"
    },
    {
     "data": {
      "text/plain": [
       "(0.6, 1.2)"
      ]
     },
     "execution_count": 332,
     "metadata": {},
     "output_type": "execute_result"
    },
    {
     "data": {
      "text/plain": [
       "Text(0.5, 1.0, 'Cancer Data: Validation Curve for SVM\\nHyperparameter: C')"
      ]
     },
     "execution_count": 332,
     "metadata": {},
     "output_type": "execute_result"
    },
    {
     "data": {
      "text/plain": [
       "Text(0.5, 0, 'C Value')"
      ]
     },
     "execution_count": 332,
     "metadata": {},
     "output_type": "execute_result"
    },
    {
     "data": {
      "text/plain": [
       "Text(0, 0.5, 'Classification Score')"
      ]
     },
     "execution_count": 332,
     "metadata": {},
     "output_type": "execute_result"
    },
    {
     "data": {
      "text/plain": [
       "<matplotlib.legend.Legend at 0x2362ba429a0>"
      ]
     },
     "execution_count": 332,
     "metadata": {},
     "output_type": "execute_result"
    },
    {
     "data": {
      "image/png": "[encoded data removed]",
      "text/plain": [
       "<Figure size 432x288 with 1 Axes>"
      ]
     },
     "metadata": {
      "needs_background": "light"
     },
     "output_type": "display_data"
    }
   ],
   "source": [
    "# decision tree: validation curve for C parameter - WISCONSIN\n",
    "param_range = np.logspace(-3,3,2)\n",
    "train_scores, test_scores = validation_curve(SVM, X_train2W, y_train2W, param_name='C', param_range=param_range, cv=5)\n",
    "\n",
    "# plot validation curve\n",
    "plt.figure()\n",
    "plt.plot(param_range, np.mean(train_scores, axis=1), label='Train Score', linewidth=3)\n",
    "plt.plot(param_range, np.mean(test_scores, axis=1), label='Cross-Validation Score', linewidth=2)\n",
    "plt.ylim(0.6,1.2)\n",
    "plt.title('Cancer Data: Validation Curve for SVM\\nHyperparameter: C')\n",
    "plt.xlabel('C Value')\n",
    "plt.ylabel('Classification Score')\n",
    "plt.legend(loc='best')\n",
    "plt.grid()\n",
    "plt.show()"
   ]
  },
  {
   "cell_type": "code",
   "execution_count": 285,
   "id": "1e6cb9f7",
   "metadata": {},
   "outputs": [
    {
     "name": "stdout",
     "output_type": "stream",
     "text": [
      "Completed training in 0.530343 seconds\n",
      "Per hyperparameter training, the best parameters are: {'C': 1000.0, 'kernel': 'linear'}\n",
      "Accuracy of SVM is: 97.8021978021978 %.\n"
     ]
    }
   ],
   "source": [
    "# find best parameters of SVM and training time - wisconsin\n",
    "def TreeGridSearch(X_train, y_train):\n",
    "    param_grid = {'kernel':kernel_labels, 'C':np.logspace(-3,3,2)}\n",
    "    SVM = GridSearchCV(estimator=SVC(), param_grid=param_grid, cv=5)\n",
    "    t0 = time.time()\n",
    "    SVM.fit(X_train2W, y_train2W)\n",
    "    t1 = time.time()\n",
    "    train_time[0] = t1 - t0\n",
    "    print('Completed training in %f seconds' % train_time[0])\n",
    "    print(\"Per hyperparameter training, the best parameters are:\", SVM.best_params_)\n",
    "    return SVM.best_params_['kernel'], SVM.best_params_['C']\n",
    "\n",
    "# find best parameters \n",
    "kernel, C = TreeGridSearch(X_train2W, y_train2W)\n",
    "\n",
    "y_pred = SVM.predict(X_valW)\n",
    "\n",
    "print('Accuracy of SVM is:', accuracy_score(y_valW, y_pred)*100, \"%.\")\n",
    "\n"
   ]
  },
  {
   "cell_type": "code",
   "execution_count": 286,
   "id": "1abb8967",
   "metadata": {},
   "outputs": [
    {
     "data": {
      "text/plain": [
       "<Figure size 432x288 with 0 Axes>"
      ]
     },
     "execution_count": 286,
     "metadata": {},
     "output_type": "execute_result"
    },
    {
     "data": {
      "text/plain": [
       "[<matplotlib.lines.Line2D at 0x236212ff5b0>]"
      ]
     },
     "execution_count": 286,
     "metadata": {},
     "output_type": "execute_result"
    },
    {
     "data": {
      "text/plain": [
       "[<matplotlib.lines.Line2D at 0x236212ff8b0>]"
      ]
     },
     "execution_count": 286,
     "metadata": {},
     "output_type": "execute_result"
    },
    {
     "data": {
      "text/plain": [
       "Text(0.5, 1.0, 'Grid Data: Learning Curve for SVM')"
      ]
     },
     "execution_count": 286,
     "metadata": {},
     "output_type": "execute_result"
    },
    {
     "data": {
      "text/plain": [
       "Text(0.5, 0, 'Fraction of Training Examples')"
      ]
     },
     "execution_count": 286,
     "metadata": {},
     "output_type": "execute_result"
    },
    {
     "data": {
      "text/plain": [
       "Text(0, 0.5, 'Classification Score')"
      ]
     },
     "execution_count": 286,
     "metadata": {},
     "output_type": "execute_result"
    },
    {
     "data": {
      "text/plain": [
       "<matplotlib.legend.Legend at 0x236211dcfd0>"
      ]
     },
     "execution_count": 286,
     "metadata": {},
     "output_type": "execute_result"
    },
    {
     "data": {
      "image/png": "[encoded data removed]",
      "text/plain": [
       "<Figure size 432x288 with 1 Axes>"
      ]
     },
     "metadata": {
      "needs_background": "light"
     },
     "output_type": "display_data"
    }
   ],
   "source": [
    "# plot learning curve for SVM\n",
    "train_sizes = np.linspace(0.1, 1.0, 5)\n",
    "_, train_scores, test_scores = learning_curve(SVM, X_train2W, y_train2W, train_sizes=train_sizes, cv=5)\n",
    "\n",
    "plt.figure()\n",
    "plt.plot(train_sizes, np.mean(train_scores, axis=1), 'o-', label='Training Score')\n",
    "plt.plot(train_sizes, np.mean(test_scores, axis=1), 'o-', label='Cross-Validation Score')\n",
    "plt.title('Grid Data: Learning Curve for SVM')\n",
    "plt.xlabel('Fraction of Training Examples')\n",
    "plt.ylabel(\"Classification Score\")\n",
    "plt.legend(loc=\"best\")\n",
    "plt.grid()\n",
    "plt.show()"
   ]
  },
  {
   "cell_type": "code",
   "execution_count": 287,
   "id": "c26ad4f3",
   "metadata": {},
   "outputs": [
    {
     "name": "stdout",
     "output_type": "stream",
     "text": [
      "Evaluation Metrics for Test Dataset\n",
      "*****************************************************\n",
      "Model Training Time (s):   0.01314\n",
      "Model Prediction Time (s): 0.00054\n",
      "\n",
      "F1 Score:  0.97\n",
      "Accuracy:  0.96     AUC:       0.97\n",
      "Precision: 1.00     Recall:    0.94\n",
      "*****************************************************\n"
     ]
    }
   ],
   "source": [
    "# evaluate SVM model on test dataset\n",
    "SVM_best = SVC(kernel='linear', C=1000)\n",
    "evaluate_test(SVM_best, X_train2W, X_testW, y_train2W, y_testW)\n"
   ]
  },
  {
   "cell_type": "code",
   "execution_count": 333,
   "id": "ff3becc4",
   "metadata": {},
   "outputs": [
    {
     "name": "stderr",
     "output_type": "stream",
     "text": [
      "C:\\Users\\Amulya Cherian\\anaconda3\\lib\\site-packages\\sklearn\\neural_network\\_multilayer_perceptron.py:692: ConvergenceWarning: Stochastic Optimizer: Maximum iterations (200) reached and the optimization hasn't converged yet.\n",
      "  warnings.warn(\n"
     ]
    },
    {
     "data": {
      "text/plain": [
       "MLPClassifier(random_state=0)"
      ]
     },
     "execution_count": 333,
     "metadata": {},
     "output_type": "execute_result"
    },
    {
     "name": "stdout",
     "output_type": "stream",
     "text": [
      "The accuracy of the Decision Tree classifier prior to hyperparameter training is 99.17582417582418 %.\n"
     ]
    }
   ],
   "source": [
    "### NEURAL NETWORK - GRID DATASET - WISCONSIN\n",
    "# NN before hyperparameter tuning\n",
    "NN = MLPClassifier(random_state=0)\n",
    "NN.fit(X_train2W, y_train2W)\n",
    "y_train_pred = NN.predict(X_train2W)\n",
    "NN_accuracy = accuracy_score(y_train2W, y_train_pred)\n",
    "print('The accuracy of the Decision Tree classifier prior to hyperparameter training is', NN_accuracy*100, '%.')"
   ]
  },
  {
   "cell_type": "code",
   "execution_count": 334,
   "id": "d405e658",
   "metadata": {},
   "outputs": [
    {
     "name": "stderr",
     "output_type": "stream",
     "text": [
      "C:\\Users\\Amulya Cherian\\anaconda3\\lib\\site-packages\\sklearn\\neural_network\\_multilayer_perceptron.py:692: ConvergenceWarning: Stochastic Optimizer: Maximum iterations (200) reached and the optimization hasn't converged yet.\n",
      "  warnings.warn(\n",
      "C:\\Users\\Amulya Cherian\\anaconda3\\lib\\site-packages\\sklearn\\neural_network\\_multilayer_perceptron.py:692: ConvergenceWarning: Stochastic Optimizer: Maximum iterations (200) reached and the optimization hasn't converged yet.\n",
      "  warnings.warn(\n",
      "C:\\Users\\Amulya Cherian\\anaconda3\\lib\\site-packages\\sklearn\\neural_network\\_multilayer_perceptron.py:692: ConvergenceWarning: Stochastic Optimizer: Maximum iterations (200) reached and the optimization hasn't converged yet.\n",
      "  warnings.warn(\n",
      "C:\\Users\\Amulya Cherian\\anaconda3\\lib\\site-packages\\sklearn\\neural_network\\_multilayer_perceptron.py:692: ConvergenceWarning: Stochastic Optimizer: Maximum iterations (200) reached and the optimization hasn't converged yet.\n",
      "  warnings.warn(\n",
      "C:\\Users\\Amulya Cherian\\anaconda3\\lib\\site-packages\\sklearn\\neural_network\\_multilayer_perceptron.py:692: ConvergenceWarning: Stochastic Optimizer: Maximum iterations (200) reached and the optimization hasn't converged yet.\n",
      "  warnings.warn(\n",
      "C:\\Users\\Amulya Cherian\\anaconda3\\lib\\site-packages\\sklearn\\neural_network\\_multilayer_perceptron.py:692: ConvergenceWarning: Stochastic Optimizer: Maximum iterations (200) reached and the optimization hasn't converged yet.\n",
      "  warnings.warn(\n",
      "C:\\Users\\Amulya Cherian\\anaconda3\\lib\\site-packages\\sklearn\\neural_network\\_multilayer_perceptron.py:692: ConvergenceWarning: Stochastic Optimizer: Maximum iterations (200) reached and the optimization hasn't converged yet.\n",
      "  warnings.warn(\n",
      "C:\\Users\\Amulya Cherian\\anaconda3\\lib\\site-packages\\sklearn\\neural_network\\_multilayer_perceptron.py:692: ConvergenceWarning: Stochastic Optimizer: Maximum iterations (200) reached and the optimization hasn't converged yet.\n",
      "  warnings.warn(\n",
      "C:\\Users\\Amulya Cherian\\anaconda3\\lib\\site-packages\\sklearn\\neural_network\\_multilayer_perceptron.py:692: ConvergenceWarning: Stochastic Optimizer: Maximum iterations (200) reached and the optimization hasn't converged yet.\n",
      "  warnings.warn(\n",
      "C:\\Users\\Amulya Cherian\\anaconda3\\lib\\site-packages\\sklearn\\neural_network\\_multilayer_perceptron.py:692: ConvergenceWarning: Stochastic Optimizer: Maximum iterations (200) reached and the optimization hasn't converged yet.\n",
      "  warnings.warn(\n",
      "C:\\Users\\Amulya Cherian\\anaconda3\\lib\\site-packages\\sklearn\\neural_network\\_multilayer_perceptron.py:692: ConvergenceWarning: Stochastic Optimizer: Maximum iterations (200) reached and the optimization hasn't converged yet.\n",
      "  warnings.warn(\n",
      "C:\\Users\\Amulya Cherian\\anaconda3\\lib\\site-packages\\sklearn\\neural_network\\_multilayer_perceptron.py:692: ConvergenceWarning: Stochastic Optimizer: Maximum iterations (200) reached and the optimization hasn't converged yet.\n",
      "  warnings.warn(\n",
      "C:\\Users\\Amulya Cherian\\anaconda3\\lib\\site-packages\\sklearn\\neural_network\\_multilayer_perceptron.py:692: ConvergenceWarning: Stochastic Optimizer: Maximum iterations (200) reached and the optimization hasn't converged yet.\n",
      "  warnings.warn(\n",
      "C:\\Users\\Amulya Cherian\\anaconda3\\lib\\site-packages\\sklearn\\neural_network\\_multilayer_perceptron.py:692: ConvergenceWarning: Stochastic Optimizer: Maximum iterations (200) reached and the optimization hasn't converged yet.\n",
      "  warnings.warn(\n",
      "C:\\Users\\Amulya Cherian\\anaconda3\\lib\\site-packages\\sklearn\\neural_network\\_multilayer_perceptron.py:692: ConvergenceWarning: Stochastic Optimizer: Maximum iterations (200) reached and the optimization hasn't converged yet.\n",
      "  warnings.warn(\n"
     ]
    },
    {
     "data": {
      "text/plain": [
       "<Figure size 432x288 with 0 Axes>"
      ]
     },
     "execution_count": 334,
     "metadata": {},
     "output_type": "execute_result"
    },
    {
     "data": {
      "text/plain": [
       "[<matplotlib.lines.Line2D at 0x2362bac4340>]"
      ]
     },
     "execution_count": 334,
     "metadata": {},
     "output_type": "execute_result"
    },
    {
     "data": {
      "text/plain": [
       "[<matplotlib.lines.Line2D at 0x2362bac45b0>]"
      ]
     },
     "execution_count": 334,
     "metadata": {},
     "output_type": "execute_result"
    },
    {
     "data": {
      "text/plain": [
       "(0.6, 1.2)"
      ]
     },
     "execution_count": 334,
     "metadata": {},
     "output_type": "execute_result"
    },
    {
     "data": {
      "text/plain": [
       "Text(0.5, 1.0, 'Cancer Data: Validation Curve for Neural Network\\nHyperparameter: Number of Layers')"
      ]
     },
     "execution_count": 334,
     "metadata": {},
     "output_type": "execute_result"
    },
    {
     "data": {
      "text/plain": [
       "Text(0.5, 0, 'Number of Layers')"
      ]
     },
     "execution_count": 334,
     "metadata": {},
     "output_type": "execute_result"
    },
    {
     "data": {
      "text/plain": [
       "Text(0, 0.5, 'Classification Score')"
      ]
     },
     "execution_count": 334,
     "metadata": {},
     "output_type": "execute_result"
    },
    {
     "data": {
      "text/plain": [
       "<matplotlib.legend.Legend at 0x2362b7c08b0>"
      ]
     },
     "execution_count": 334,
     "metadata": {},
     "output_type": "execute_result"
    },
    {
     "data": {
      "image/png": "[encoded data removed]",
      "text/plain": [
       "<Figure size 432x288 with 1 Axes>"
      ]
     },
     "metadata": {
      "needs_background": "light"
     },
     "output_type": "display_data"
    }
   ],
   "source": [
    "# NN: validation curve for number of layers - WISCONSIN\n",
    "param_range = [1,2,3]\n",
    "train_scores, test_scores = validation_curve(NN, X_train2W, y_train2W, param_name='hidden_layer_sizes', param_range=param_range, cv=5)\n",
    "\n",
    "# plot validation curve\n",
    "plt.figure()\n",
    "plt.plot(param_range, np.mean(train_scores, axis=1), label='Train Score', linewidth=3)\n",
    "plt.plot(param_range, np.mean(test_scores, axis=1), label='Cross-Validation Score', linewidth=1.5)\n",
    "plt.ylim(0.6,1.2)\n",
    "plt.title('Cancer Data: Validation Curve for Neural Network\\nHyperparameter: Number of Layers')\n",
    "plt.xlabel('Number of Layers')\n",
    "plt.ylabel('Classification Score')\n",
    "plt.legend(loc='best')\n",
    "plt.grid()\n",
    "plt.show()"
   ]
  },
  {
   "cell_type": "code",
   "execution_count": 335,
   "id": "c8aad4d4",
   "metadata": {},
   "outputs": [
    {
     "name": "stderr",
     "output_type": "stream",
     "text": [
      "C:\\Users\\Amulya Cherian\\anaconda3\\lib\\site-packages\\sklearn\\neural_network\\_multilayer_perceptron.py:692: ConvergenceWarning: Stochastic Optimizer: Maximum iterations (200) reached and the optimization hasn't converged yet.\n",
      "  warnings.warn(\n",
      "C:\\Users\\Amulya Cherian\\anaconda3\\lib\\site-packages\\sklearn\\neural_network\\_multilayer_perceptron.py:692: ConvergenceWarning: Stochastic Optimizer: Maximum iterations (200) reached and the optimization hasn't converged yet.\n",
      "  warnings.warn(\n",
      "C:\\Users\\Amulya Cherian\\anaconda3\\lib\\site-packages\\sklearn\\neural_network\\_multilayer_perceptron.py:692: ConvergenceWarning: Stochastic Optimizer: Maximum iterations (200) reached and the optimization hasn't converged yet.\n",
      "  warnings.warn(\n",
      "C:\\Users\\Amulya Cherian\\anaconda3\\lib\\site-packages\\sklearn\\neural_network\\_multilayer_perceptron.py:692: ConvergenceWarning: Stochastic Optimizer: Maximum iterations (200) reached and the optimization hasn't converged yet.\n",
      "  warnings.warn(\n",
      "C:\\Users\\Amulya Cherian\\anaconda3\\lib\\site-packages\\sklearn\\neural_network\\_multilayer_perceptron.py:692: ConvergenceWarning: Stochastic Optimizer: Maximum iterations (200) reached and the optimization hasn't converged yet.\n",
      "  warnings.warn(\n"
     ]
    },
    {
     "data": {
      "text/plain": [
       "<Figure size 432x288 with 0 Axes>"
      ]
     },
     "execution_count": 335,
     "metadata": {},
     "output_type": "execute_result"
    },
    {
     "data": {
      "text/plain": [
       "[<matplotlib.lines.Line2D at 0x2362bb37d60>]"
      ]
     },
     "execution_count": 335,
     "metadata": {},
     "output_type": "execute_result"
    },
    {
     "data": {
      "text/plain": [
       "[<matplotlib.lines.Line2D at 0x2362bb4a160>]"
      ]
     },
     "execution_count": 335,
     "metadata": {},
     "output_type": "execute_result"
    },
    {
     "data": {
      "text/plain": [
       "(0.6, 1.2)"
      ]
     },
     "execution_count": 335,
     "metadata": {},
     "output_type": "execute_result"
    },
    {
     "data": {
      "text/plain": [
       "Text(0.5, 1.0, 'Cancer Data: Validation Curve for Neural Network\\nHyperparameter: Learning Rate')"
      ]
     },
     "execution_count": 335,
     "metadata": {},
     "output_type": "execute_result"
    },
    {
     "data": {
      "text/plain": [
       "Text(0.5, 0, 'Learning Rate')"
      ]
     },
     "execution_count": 335,
     "metadata": {},
     "output_type": "execute_result"
    },
    {
     "data": {
      "text/plain": [
       "Text(0, 0.5, 'Classification Score')"
      ]
     },
     "execution_count": 335,
     "metadata": {},
     "output_type": "execute_result"
    },
    {
     "data": {
      "text/plain": [
       "<matplotlib.legend.Legend at 0x2362bb37f40>"
      ]
     },
     "execution_count": 335,
     "metadata": {},
     "output_type": "execute_result"
    },
    {
     "data": {
      "image/png": "[encoded data removed]",
      "text/plain": [
       "<Figure size 432x288 with 1 Axes>"
      ]
     },
     "metadata": {
      "needs_background": "light"
     },
     "output_type": "display_data"
    }
   ],
   "source": [
    "# NN: validation curve for learning rate - wisconsin\n",
    "param_range = np.logspace(-3,0,4)\n",
    "train_scores, test_scores = validation_curve(NN, X_train2W, y_train2W, param_name='learning_rate_init', param_range=param_range, cv=5)\n",
    "\n",
    "# plot validation curve\n",
    "plt.figure()\n",
    "plt.plot(param_range, np.mean(train_scores, axis=1), label='Train Score', linewidth=3)\n",
    "plt.plot(param_range, np.mean(test_scores, axis=1), label='Cross-Validation Score', linewidth=1.5)\n",
    "plt.ylim(0.6,1.2)\n",
    "plt.title('Cancer Data: Validation Curve for Neural Network\\nHyperparameter: Learning Rate')\n",
    "plt.xlabel('Learning Rate')\n",
    "plt.ylabel('Classification Score')\n",
    "plt.legend(loc='best')\n",
    "plt.grid()\n",
    "plt.show()"
   ]
  },
  {
   "cell_type": "code",
   "execution_count": 291,
   "id": "8f1845c6",
   "metadata": {},
   "outputs": [
    {
     "name": "stderr",
     "output_type": "stream",
     "text": [
      "C:\\Users\\Amulya Cherian\\anaconda3\\lib\\site-packages\\sklearn\\neural_network\\_multilayer_perceptron.py:692: ConvergenceWarning: Stochastic Optimizer: Maximum iterations (200) reached and the optimization hasn't converged yet.\n",
      "  warnings.warn(\n",
      "C:\\Users\\Amulya Cherian\\anaconda3\\lib\\site-packages\\sklearn\\neural_network\\_multilayer_perceptron.py:692: ConvergenceWarning: Stochastic Optimizer: Maximum iterations (200) reached and the optimization hasn't converged yet.\n",
      "  warnings.warn(\n",
      "C:\\Users\\Amulya Cherian\\anaconda3\\lib\\site-packages\\sklearn\\neural_network\\_multilayer_perceptron.py:692: ConvergenceWarning: Stochastic Optimizer: Maximum iterations (200) reached and the optimization hasn't converged yet.\n",
      "  warnings.warn(\n",
      "C:\\Users\\Amulya Cherian\\anaconda3\\lib\\site-packages\\sklearn\\neural_network\\_multilayer_perceptron.py:692: ConvergenceWarning: Stochastic Optimizer: Maximum iterations (200) reached and the optimization hasn't converged yet.\n",
      "  warnings.warn(\n",
      "C:\\Users\\Amulya Cherian\\anaconda3\\lib\\site-packages\\sklearn\\neural_network\\_multilayer_perceptron.py:692: ConvergenceWarning: Stochastic Optimizer: Maximum iterations (200) reached and the optimization hasn't converged yet.\n",
      "  warnings.warn(\n",
      "C:\\Users\\Amulya Cherian\\anaconda3\\lib\\site-packages\\sklearn\\neural_network\\_multilayer_perceptron.py:692: ConvergenceWarning: Stochastic Optimizer: Maximum iterations (200) reached and the optimization hasn't converged yet.\n",
      "  warnings.warn(\n",
      "C:\\Users\\Amulya Cherian\\anaconda3\\lib\\site-packages\\sklearn\\neural_network\\_multilayer_perceptron.py:692: ConvergenceWarning: Stochastic Optimizer: Maximum iterations (200) reached and the optimization hasn't converged yet.\n",
      "  warnings.warn(\n",
      "C:\\Users\\Amulya Cherian\\anaconda3\\lib\\site-packages\\sklearn\\neural_network\\_multilayer_perceptron.py:692: ConvergenceWarning: Stochastic Optimizer: Maximum iterations (200) reached and the optimization hasn't converged yet.\n",
      "  warnings.warn(\n",
      "C:\\Users\\Amulya Cherian\\anaconda3\\lib\\site-packages\\sklearn\\neural_network\\_multilayer_perceptron.py:692: ConvergenceWarning: Stochastic Optimizer: Maximum iterations (200) reached and the optimization hasn't converged yet.\n",
      "  warnings.warn(\n",
      "C:\\Users\\Amulya Cherian\\anaconda3\\lib\\site-packages\\sklearn\\neural_network\\_multilayer_perceptron.py:692: ConvergenceWarning: Stochastic Optimizer: Maximum iterations (200) reached and the optimization hasn't converged yet.\n",
      "  warnings.warn(\n",
      "C:\\Users\\Amulya Cherian\\anaconda3\\lib\\site-packages\\sklearn\\neural_network\\_multilayer_perceptron.py:692: ConvergenceWarning: Stochastic Optimizer: Maximum iterations (200) reached and the optimization hasn't converged yet.\n",
      "  warnings.warn(\n",
      "C:\\Users\\Amulya Cherian\\anaconda3\\lib\\site-packages\\sklearn\\neural_network\\_multilayer_perceptron.py:692: ConvergenceWarning: Stochastic Optimizer: Maximum iterations (200) reached and the optimization hasn't converged yet.\n",
      "  warnings.warn(\n",
      "C:\\Users\\Amulya Cherian\\anaconda3\\lib\\site-packages\\sklearn\\neural_network\\_multilayer_perceptron.py:692: ConvergenceWarning: Stochastic Optimizer: Maximum iterations (200) reached and the optimization hasn't converged yet.\n",
      "  warnings.warn(\n",
      "C:\\Users\\Amulya Cherian\\anaconda3\\lib\\site-packages\\sklearn\\neural_network\\_multilayer_perceptron.py:692: ConvergenceWarning: Stochastic Optimizer: Maximum iterations (200) reached and the optimization hasn't converged yet.\n",
      "  warnings.warn(\n",
      "C:\\Users\\Amulya Cherian\\anaconda3\\lib\\site-packages\\sklearn\\neural_network\\_multilayer_perceptron.py:692: ConvergenceWarning: Stochastic Optimizer: Maximum iterations (200) reached and the optimization hasn't converged yet.\n",
      "  warnings.warn(\n",
      "C:\\Users\\Amulya Cherian\\anaconda3\\lib\\site-packages\\sklearn\\neural_network\\_multilayer_perceptron.py:692: ConvergenceWarning: Stochastic Optimizer: Maximum iterations (200) reached and the optimization hasn't converged yet.\n",
      "  warnings.warn(\n",
      "C:\\Users\\Amulya Cherian\\anaconda3\\lib\\site-packages\\sklearn\\neural_network\\_multilayer_perceptron.py:692: ConvergenceWarning: Stochastic Optimizer: Maximum iterations (200) reached and the optimization hasn't converged yet.\n",
      "  warnings.warn(\n",
      "C:\\Users\\Amulya Cherian\\anaconda3\\lib\\site-packages\\sklearn\\neural_network\\_multilayer_perceptron.py:692: ConvergenceWarning: Stochastic Optimizer: Maximum iterations (200) reached and the optimization hasn't converged yet.\n",
      "  warnings.warn(\n",
      "C:\\Users\\Amulya Cherian\\anaconda3\\lib\\site-packages\\sklearn\\neural_network\\_multilayer_perceptron.py:692: ConvergenceWarning: Stochastic Optimizer: Maximum iterations (200) reached and the optimization hasn't converged yet.\n",
      "  warnings.warn(\n",
      "C:\\Users\\Amulya Cherian\\anaconda3\\lib\\site-packages\\sklearn\\neural_network\\_multilayer_perceptron.py:692: ConvergenceWarning: Stochastic Optimizer: Maximum iterations (200) reached and the optimization hasn't converged yet.\n",
      "  warnings.warn(\n",
      "C:\\Users\\Amulya Cherian\\anaconda3\\lib\\site-packages\\sklearn\\neural_network\\_multilayer_perceptron.py:692: ConvergenceWarning: Stochastic Optimizer: Maximum iterations (200) reached and the optimization hasn't converged yet.\n",
      "  warnings.warn(\n",
      "C:\\Users\\Amulya Cherian\\anaconda3\\lib\\site-packages\\sklearn\\neural_network\\_multilayer_perceptron.py:692: ConvergenceWarning: Stochastic Optimizer: Maximum iterations (200) reached and the optimization hasn't converged yet.\n",
      "  warnings.warn(\n",
      "C:\\Users\\Amulya Cherian\\anaconda3\\lib\\site-packages\\sklearn\\neural_network\\_multilayer_perceptron.py:692: ConvergenceWarning: Stochastic Optimizer: Maximum iterations (200) reached and the optimization hasn't converged yet.\n",
      "  warnings.warn(\n",
      "C:\\Users\\Amulya Cherian\\anaconda3\\lib\\site-packages\\sklearn\\neural_network\\_multilayer_perceptron.py:692: ConvergenceWarning: Stochastic Optimizer: Maximum iterations (200) reached and the optimization hasn't converged yet.\n",
      "  warnings.warn(\n",
      "C:\\Users\\Amulya Cherian\\anaconda3\\lib\\site-packages\\sklearn\\neural_network\\_multilayer_perceptron.py:692: ConvergenceWarning: Stochastic Optimizer: Maximum iterations (200) reached and the optimization hasn't converged yet.\n",
      "  warnings.warn(\n",
      "C:\\Users\\Amulya Cherian\\anaconda3\\lib\\site-packages\\sklearn\\neural_network\\_multilayer_perceptron.py:692: ConvergenceWarning: Stochastic Optimizer: Maximum iterations (200) reached and the optimization hasn't converged yet.\n",
      "  warnings.warn(\n",
      "C:\\Users\\Amulya Cherian\\anaconda3\\lib\\site-packages\\sklearn\\neural_network\\_multilayer_perceptron.py:692: ConvergenceWarning: Stochastic Optimizer: Maximum iterations (200) reached and the optimization hasn't converged yet.\n",
      "  warnings.warn(\n",
      "C:\\Users\\Amulya Cherian\\anaconda3\\lib\\site-packages\\sklearn\\neural_network\\_multilayer_perceptron.py:692: ConvergenceWarning: Stochastic Optimizer: Maximum iterations (200) reached and the optimization hasn't converged yet.\n",
      "  warnings.warn(\n",
      "C:\\Users\\Amulya Cherian\\anaconda3\\lib\\site-packages\\sklearn\\neural_network\\_multilayer_perceptron.py:692: ConvergenceWarning: Stochastic Optimizer: Maximum iterations (200) reached and the optimization hasn't converged yet.\n",
      "  warnings.warn(\n",
      "C:\\Users\\Amulya Cherian\\anaconda3\\lib\\site-packages\\sklearn\\neural_network\\_multilayer_perceptron.py:692: ConvergenceWarning: Stochastic Optimizer: Maximum iterations (200) reached and the optimization hasn't converged yet.\n",
      "  warnings.warn(\n"
     ]
    },
    {
     "name": "stdout",
     "output_type": "stream",
     "text": [
      "Completed training in 15.476465 seconds\n",
      "Per hyperparameter training, the best parameters are: {'hidden_layer_sizes': 1, 'learning_rate_init': 0.01}\n",
      "Accuracy of the Neural Network is: 97.8021978021978 %.\n"
     ]
    },
    {
     "name": "stderr",
     "output_type": "stream",
     "text": [
      "C:\\Users\\Amulya Cherian\\anaconda3\\lib\\site-packages\\sklearn\\neural_network\\_multilayer_perceptron.py:692: ConvergenceWarning: Stochastic Optimizer: Maximum iterations (200) reached and the optimization hasn't converged yet.\n",
      "  warnings.warn(\n"
     ]
    }
   ],
   "source": [
    "# NN: find best parameters  - WISCONSIN\n",
    "def TreeGridSearch(X_train, y_train):\n",
    "    param_grid = {'hidden_layer_sizes':[1,2,3], 'learning_rate_init':np.logspace(-3,0,4)}\n",
    "    NN = GridSearchCV(estimator=MLPClassifier(), param_grid=param_grid, cv=5)\n",
    "    t0 = time.time()\n",
    "    NN.fit(X_train2W, y_train2W)\n",
    "    t1 = time.time()\n",
    "    train_time[0] = t1 - t0\n",
    "    print('Completed training in %f seconds' % train_time[0])\n",
    "    print('Per hyperparameter training, the best parameters are:', NN.best_params_)\n",
    "    return NN.best_params_['hidden_layer_sizes'], NN.best_params_['learning_rate_init']\n",
    "\n",
    "hidden_layer_sizes, learning_rate_init = TreeGridSearch(X_train2W, y_train2W)\n",
    "y_pred = NN.predict(X_valW)\n",
    "\n",
    "print('Accuracy of the Neural Network is:', accuracy_score(y_valW, y_pred)*100, '%.')"
   ]
  },
  {
   "cell_type": "code",
   "execution_count": 292,
   "id": "3a288aef",
   "metadata": {},
   "outputs": [
    {
     "name": "stderr",
     "output_type": "stream",
     "text": [
      "C:\\Users\\Amulya Cherian\\anaconda3\\lib\\site-packages\\sklearn\\neural_network\\_multilayer_perceptron.py:692: ConvergenceWarning: Stochastic Optimizer: Maximum iterations (200) reached and the optimization hasn't converged yet.\n",
      "  warnings.warn(\n",
      "C:\\Users\\Amulya Cherian\\anaconda3\\lib\\site-packages\\sklearn\\neural_network\\_multilayer_perceptron.py:692: ConvergenceWarning: Stochastic Optimizer: Maximum iterations (200) reached and the optimization hasn't converged yet.\n",
      "  warnings.warn(\n",
      "C:\\Users\\Amulya Cherian\\anaconda3\\lib\\site-packages\\sklearn\\neural_network\\_multilayer_perceptron.py:692: ConvergenceWarning: Stochastic Optimizer: Maximum iterations (200) reached and the optimization hasn't converged yet.\n",
      "  warnings.warn(\n",
      "C:\\Users\\Amulya Cherian\\anaconda3\\lib\\site-packages\\sklearn\\neural_network\\_multilayer_perceptron.py:692: ConvergenceWarning: Stochastic Optimizer: Maximum iterations (200) reached and the optimization hasn't converged yet.\n",
      "  warnings.warn(\n",
      "C:\\Users\\Amulya Cherian\\anaconda3\\lib\\site-packages\\sklearn\\neural_network\\_multilayer_perceptron.py:692: ConvergenceWarning: Stochastic Optimizer: Maximum iterations (200) reached and the optimization hasn't converged yet.\n",
      "  warnings.warn(\n",
      "C:\\Users\\Amulya Cherian\\anaconda3\\lib\\site-packages\\sklearn\\neural_network\\_multilayer_perceptron.py:692: ConvergenceWarning: Stochastic Optimizer: Maximum iterations (200) reached and the optimization hasn't converged yet.\n",
      "  warnings.warn(\n",
      "C:\\Users\\Amulya Cherian\\anaconda3\\lib\\site-packages\\sklearn\\neural_network\\_multilayer_perceptron.py:692: ConvergenceWarning: Stochastic Optimizer: Maximum iterations (200) reached and the optimization hasn't converged yet.\n",
      "  warnings.warn(\n",
      "C:\\Users\\Amulya Cherian\\anaconda3\\lib\\site-packages\\sklearn\\neural_network\\_multilayer_perceptron.py:692: ConvergenceWarning: Stochastic Optimizer: Maximum iterations (200) reached and the optimization hasn't converged yet.\n",
      "  warnings.warn(\n",
      "C:\\Users\\Amulya Cherian\\anaconda3\\lib\\site-packages\\sklearn\\neural_network\\_multilayer_perceptron.py:692: ConvergenceWarning: Stochastic Optimizer: Maximum iterations (200) reached and the optimization hasn't converged yet.\n",
      "  warnings.warn(\n",
      "C:\\Users\\Amulya Cherian\\anaconda3\\lib\\site-packages\\sklearn\\neural_network\\_multilayer_perceptron.py:692: ConvergenceWarning: Stochastic Optimizer: Maximum iterations (200) reached and the optimization hasn't converged yet.\n",
      "  warnings.warn(\n",
      "C:\\Users\\Amulya Cherian\\anaconda3\\lib\\site-packages\\sklearn\\neural_network\\_multilayer_perceptron.py:692: ConvergenceWarning: Stochastic Optimizer: Maximum iterations (200) reached and the optimization hasn't converged yet.\n",
      "  warnings.warn(\n",
      "C:\\Users\\Amulya Cherian\\anaconda3\\lib\\site-packages\\sklearn\\neural_network\\_multilayer_perceptron.py:692: ConvergenceWarning: Stochastic Optimizer: Maximum iterations (200) reached and the optimization hasn't converged yet.\n",
      "  warnings.warn(\n",
      "C:\\Users\\Amulya Cherian\\anaconda3\\lib\\site-packages\\sklearn\\neural_network\\_multilayer_perceptron.py:692: ConvergenceWarning: Stochastic Optimizer: Maximum iterations (200) reached and the optimization hasn't converged yet.\n",
      "  warnings.warn(\n",
      "C:\\Users\\Amulya Cherian\\anaconda3\\lib\\site-packages\\sklearn\\neural_network\\_multilayer_perceptron.py:692: ConvergenceWarning: Stochastic Optimizer: Maximum iterations (200) reached and the optimization hasn't converged yet.\n",
      "  warnings.warn(\n",
      "C:\\Users\\Amulya Cherian\\anaconda3\\lib\\site-packages\\sklearn\\neural_network\\_multilayer_perceptron.py:692: ConvergenceWarning: Stochastic Optimizer: Maximum iterations (200) reached and the optimization hasn't converged yet.\n",
      "  warnings.warn(\n",
      "C:\\Users\\Amulya Cherian\\anaconda3\\lib\\site-packages\\sklearn\\neural_network\\_multilayer_perceptron.py:692: ConvergenceWarning: Stochastic Optimizer: Maximum iterations (200) reached and the optimization hasn't converged yet.\n",
      "  warnings.warn(\n",
      "C:\\Users\\Amulya Cherian\\anaconda3\\lib\\site-packages\\sklearn\\neural_network\\_multilayer_perceptron.py:692: ConvergenceWarning: Stochastic Optimizer: Maximum iterations (200) reached and the optimization hasn't converged yet.\n",
      "  warnings.warn(\n",
      "C:\\Users\\Amulya Cherian\\anaconda3\\lib\\site-packages\\sklearn\\neural_network\\_multilayer_perceptron.py:692: ConvergenceWarning: Stochastic Optimizer: Maximum iterations (200) reached and the optimization hasn't converged yet.\n",
      "  warnings.warn(\n",
      "C:\\Users\\Amulya Cherian\\anaconda3\\lib\\site-packages\\sklearn\\neural_network\\_multilayer_perceptron.py:692: ConvergenceWarning: Stochastic Optimizer: Maximum iterations (200) reached and the optimization hasn't converged yet.\n",
      "  warnings.warn(\n",
      "C:\\Users\\Amulya Cherian\\anaconda3\\lib\\site-packages\\sklearn\\neural_network\\_multilayer_perceptron.py:692: ConvergenceWarning: Stochastic Optimizer: Maximum iterations (200) reached and the optimization hasn't converged yet.\n",
      "  warnings.warn(\n",
      "C:\\Users\\Amulya Cherian\\anaconda3\\lib\\site-packages\\sklearn\\neural_network\\_multilayer_perceptron.py:692: ConvergenceWarning: Stochastic Optimizer: Maximum iterations (200) reached and the optimization hasn't converged yet.\n",
      "  warnings.warn(\n",
      "C:\\Users\\Amulya Cherian\\anaconda3\\lib\\site-packages\\sklearn\\neural_network\\_multilayer_perceptron.py:692: ConvergenceWarning: Stochastic Optimizer: Maximum iterations (200) reached and the optimization hasn't converged yet.\n",
      "  warnings.warn(\n",
      "C:\\Users\\Amulya Cherian\\anaconda3\\lib\\site-packages\\sklearn\\neural_network\\_multilayer_perceptron.py:692: ConvergenceWarning: Stochastic Optimizer: Maximum iterations (200) reached and the optimization hasn't converged yet.\n",
      "  warnings.warn(\n",
      "C:\\Users\\Amulya Cherian\\anaconda3\\lib\\site-packages\\sklearn\\neural_network\\_multilayer_perceptron.py:692: ConvergenceWarning: Stochastic Optimizer: Maximum iterations (200) reached and the optimization hasn't converged yet.\n",
      "  warnings.warn(\n"
     ]
    },
    {
     "data": {
      "text/plain": [
       "<Figure size 432x288 with 0 Axes>"
      ]
     },
     "execution_count": 292,
     "metadata": {},
     "output_type": "execute_result"
    },
    {
     "data": {
      "text/plain": [
       "[<matplotlib.lines.Line2D at 0x2362287fdc0>]"
      ]
     },
     "execution_count": 292,
     "metadata": {},
     "output_type": "execute_result"
    },
    {
     "data": {
      "text/plain": [
       "[<matplotlib.lines.Line2D at 0x2362287f0d0>]"
      ]
     },
     "execution_count": 292,
     "metadata": {},
     "output_type": "execute_result"
    },
    {
     "data": {
      "text/plain": [
       "Text(0.5, 1.0, 'Cancer Data: Learning Curve for Neural Network')"
      ]
     },
     "execution_count": 292,
     "metadata": {},
     "output_type": "execute_result"
    },
    {
     "data": {
      "text/plain": [
       "Text(0.5, 0, 'Fraction of Training Examples')"
      ]
     },
     "execution_count": 292,
     "metadata": {},
     "output_type": "execute_result"
    },
    {
     "data": {
      "text/plain": [
       "Text(0, 0.5, 'Classification Score')"
      ]
     },
     "execution_count": 292,
     "metadata": {},
     "output_type": "execute_result"
    },
    {
     "data": {
      "text/plain": [
       "<matplotlib.legend.Legend at 0x2362287f670>"
      ]
     },
     "execution_count": 292,
     "metadata": {},
     "output_type": "execute_result"
    },
    {
     "data": {
      "image/png": "[encoded data removed]",
      "text/plain": [
       "<Figure size 432x288 with 1 Axes>"
      ]
     },
     "metadata": {
      "needs_background": "light"
     },
     "output_type": "display_data"
    }
   ],
   "source": [
    "# NN: plot learning curve - WISCONSIN\n",
    "train_sizes = np.linspace(0.1, 1.0, 5)\n",
    "_, train_scores, test_scores = learning_curve(NN, X_train2W, y_train2W, train_sizes=train_sizes, cv=5)\n",
    "\n",
    "plt.figure()\n",
    "plt.plot(train_sizes, np.mean(train_scores, axis=1), 'o-', label='Training Score')\n",
    "plt.plot(train_sizes, np.mean(test_scores, axis=1), 'o-', label='Cross-Validation Score')\n",
    "plt.title('Cancer Data: Learning Curve for Neural Network')\n",
    "plt.xlabel('Fraction of Training Examples')\n",
    "plt.ylabel('Classification Score')\n",
    "plt.legend(loc='best')\n",
    "plt.grid()\n",
    "plt.show()"
   ]
  },
  {
   "cell_type": "code",
   "execution_count": 293,
   "id": "3316ccb3",
   "metadata": {},
   "outputs": [
    {
     "name": "stdout",
     "output_type": "stream",
     "text": [
      "Evaluation Metrics for Test Dataset\n",
      "*****************************************************\n",
      "Model Training Time (s):   0.31627\n",
      "Model Prediction Time (s): 0.00073\n",
      "\n",
      "F1 Score:  0.97\n",
      "Accuracy:  0.96     AUC:       0.96\n",
      "Precision: 0.97     Recall:    0.97\n",
      "*****************************************************\n"
     ]
    },
    {
     "name": "stderr",
     "output_type": "stream",
     "text": [
      "C:\\Users\\Amulya Cherian\\anaconda3\\lib\\site-packages\\sklearn\\neural_network\\_multilayer_perceptron.py:692: ConvergenceWarning: Stochastic Optimizer: Maximum iterations (200) reached and the optimization hasn't converged yet.\n",
      "  warnings.warn(\n"
     ]
    }
   ],
   "source": [
    "# evaluate decision tree model on test dataset - wisconsin\n",
    "NN_best = MLPClassifier(hidden_layer_sizes = 1, learning_rate_init = 0.01, random_state = 0)\n",
    "evaluate_test(NN_best, X_train2W, X_testW, y_train2W, y_testW)\n"
   ]
  },
  {
   "cell_type": "code",
   "execution_count": null,
   "id": "1f174b8a",
   "metadata": {},
   "outputs": [],
   "source": [
    "#GOO"
   ]
  }
 ],
 "metadata": {
  "kernelspec": {
   "display_name": "Python 3 (ipykernel)",
   "language": "python",
   "name": "python3"
  },
  "language_info": {
   "codemirror_mode": {
    "name": "ipython",
    "version": 3
   },
   "file_extension": ".py",
   "mimetype": "text/x-python",
   "name": "python",
   "nbconvert_exporter": "python",
   "pygments_lexer": "ipython3",
   "version": "3.9.12"
  }
 },
 "nbformat": 4,
 "nbformat_minor": 5
}
